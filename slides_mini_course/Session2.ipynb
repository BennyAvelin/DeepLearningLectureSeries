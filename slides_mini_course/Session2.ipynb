{
 "cells": [
  {
   "cell_type": "markdown",
   "metadata": {
    "slideshow": {
     "slide_type": "slide"
    }
   },
   "source": [
    "# Introduction to deep learning\n",
    "Benny Avelin\n",
    "<p><a href=\"https://commons.wikimedia.org/wiki/File:Colored_neural_network.svg#/media/File:Colored_neural_network.svg\">\n",
    "<center><img src=\"https://upload.wikimedia.org/wikipedia/commons/thumb/4/46/Colored_neural_network.svg/1200px-Colored_neural_network.svg.png\" width=300px alt=\"Colored neural network.svg\">\n",
    "        </a>\n",
    "        </center>\n",
    "        <br>\n",
    "        <font size=\"1\">By <a href=\"//commons.wikimedia.org/wiki/User_talk:Glosser.ca\" title=\"User talk:Glosser.ca\">Glosser.ca</a> - <span class=\"int-own-work\" lang=\"en\">Own work</span>, Derivative of <a href=\"//commons.wikimedia.org/wiki/File:Artificial_neural_network.svg\" title=\"File:Artificial neural network.svg\">File:Artificial neural network.svg</a>, <a href=\"https://creativecommons.org/licenses/by-sa/3.0\" title=\"Creative Commons Attribution-Share Alike 3.0\">CC BY-SA 3.0</a>, <a href=\"https://commons.wikimedia.org/w/index.php?curid=24913461\">Link</a>\n",
    "    </p>\n",
    "    </font>"
   ]
  },
  {
   "cell_type": "markdown",
   "metadata": {
    "slideshow": {
     "slide_type": "slide"
    }
   },
   "source": [
    "# Overview (session 2)\n",
    "\n",
    "* Quick recap of the definition\n",
    "* Detour into VC-theory and generalization bounds\n",
    "* Why Deep Neural Networks are difficult\n",
    "* ??"
   ]
  },
  {
   "cell_type": "markdown",
   "metadata": {
    "slideshow": {
     "slide_type": "slide"
    }
   },
   "source": [
    "# Previously\n",
    "A single artificial neuron can then be represented as\n",
    "$$\n",
    "    h(x) = \\sigma(w \\cdot x + b)\n",
    "$$\n",
    "where $w$ and $b$ are the weights. $\\sigma:\\R \\to \\R$ is an activation function, for instance\n",
    "* Sigmoid $\\frac{1}{1+e^{-x}}$\n",
    "* ReLu (Rectified Linear unit) $\\sigma(x)=\\max(0,x)$"
   ]
  },
  {
   "cell_type": "markdown",
   "metadata": {
    "slideshow": {
     "slide_type": "slide"
    }
   },
   "source": [
    "# Previously\n",
    "We can make more complicated models by adding more neurons, i.e. let us consider:\n",
    "$$\n",
    "    f(x) = \\sum_{j=1}^k v^j h_{w^j,b^j}(x)\n",
    "$$\n",
    "\n",
    "this is what is known as a feed forward neural network with a single hidden layer."
   ]
  },
  {
   "cell_type": "markdown",
   "metadata": {
    "slideshow": {
     "slide_type": "slide"
    }
   },
   "source": [
    "<center>\n",
    "    <img src=\"SingleHidden.png\" width=350px>\n",
    "</center>"
   ]
  },
  {
   "cell_type": "markdown",
   "metadata": {
    "slideshow": {
     "slide_type": "slide"
    }
   },
   "source": [
    "In the context of neural networks we let $\\sigma: \\mathbb{R} \\to \\mathbb{R}$ and with $\\sigma(x)$ where $x \\in \\mathbb{R}^n$ we apply componentwise. Denote\n",
    "\n",
    "$$W^T = (w^1,\\ldots, w^k)$$\n",
    "$$B^T = (b_1,\\ldots,b_k)$$\n",
    "$$v^T = (v_1,\\ldots,v_k)$$\n",
    "\n",
    "then we can write $f$ as\n",
    "$$\n",
    "    f(x) = v^T \\sigma(Wx+B)\n",
    "$$\n",
    "\n",
    "In fact if we introduce $W^{(1)},B^{(1)},W^{(2)},B^{(2)}$ we can consider\n",
    "\n",
    "$$\n",
    "\\begin{align}\n",
    "    f^{(1)}(x) &= \\sigma(W^{(1)} x + B^{(1)})\\\\\n",
    "    f^{(2)}(x) &= \\sigma(W^{(2)} f^{(1)}(x) + B^{(2)}) \\\\\n",
    "    f(x) &= v^T f^{(2)}(x)\n",
    "\\end{align}\n",
    "$$"
   ]
  },
  {
   "cell_type": "markdown",
   "metadata": {
    "slideshow": {
     "slide_type": "slide"
    }
   },
   "source": [
    "<center>\n",
    "    <img src=\"ManyHidden.png\" width=600px>\n",
    "</center>"
   ]
  },
  {
   "cell_type": "markdown",
   "metadata": {
    "slideshow": {
     "slide_type": "skip"
    }
   },
   "source": [
    "# Definitions (Skip)\n",
    "$\\newcommand{\\R}{\\mathbb{R}}$\n",
    "$\\newcommand{\\E}{\\mathbb{E}}$\n",
    "$\\newcommand{\\H}{\\mathcal{H}}$\n",
    "$\\newcommand{\\VCdim}{\\text{VC-dim}(\\H)}$"
   ]
  },
  {
   "cell_type": "markdown",
   "metadata": {
    "slideshow": {
     "slide_type": "slide"
    }
   },
   "source": [
    "# Risk & hypothesis\n",
    "* Let us consider data $(x,y) \\sim \\mu$, where $x \\in \\R^n$ and $y \\in \\R^m$. "
   ]
  },
  {
   "cell_type": "markdown",
   "metadata": {
    "slideshow": {
     "slide_type": "fragment"
    }
   },
   "source": [
    "* A hypothesis is a function $h: \\R^n \\to \\R^m$"
   ]
  },
  {
   "cell_type": "markdown",
   "metadata": {
    "slideshow": {
     "slide_type": "fragment"
    }
   },
   "source": [
    "* A loss-function $L:\\R^m \\times \\R^m \\to \\R_+$\n",
    "$$R(h) = \\E_{\\mu}\\left[L(h(x),y)\\right], \\quad \\textbf{Risk}$$"
   ]
  },
  {
   "cell_type": "markdown",
   "metadata": {
    "slideshow": {
     "slide_type": "fragment"
    }
   },
   "source": [
    "* Given a data-set $D = \\{(x_1,y_1), \\ldots (x_N,y_N)\\}$ which are sampled i.i.d. from $\\mu$ we also define\n",
    "$$R_{emp,D} (h) = \\frac{1}{N}\\sum_{i=1}^N \\left[L(h(x_i),y_i)\\right], \\quad \\textbf{Empirical Risk}$$"
   ]
  },
  {
   "cell_type": "markdown",
   "metadata": {
    "slideshow": {
     "slide_type": "fragment"
    }
   },
   "source": [
    "* Call a set of hypothesis $\\H$ the hypothesis space"
   ]
  },
  {
   "cell_type": "markdown",
   "metadata": {
    "slideshow": {
     "slide_type": "slide"
    }
   },
   "source": [
    "# Goal\n",
    "\n",
    "* Find $h^\\ast \\in \\H$ such that\n",
    "$$R(h^\\ast) = \\min_{\\H} R(h)$$"
   ]
  },
  {
   "cell_type": "markdown",
   "metadata": {
    "slideshow": {
     "slide_type": "fragment"
    }
   },
   "source": [
    "* We dont have access to $\\mu$ but we have access to the data-set $D$, we could try to find $h_D^\\ast \\in \\H$ such that\n",
    "$$R_{emp,D}(h_D^\\ast) = \\min_{\\H} R_{emp,D}(h)$$"
   ]
  },
  {
   "cell_type": "markdown",
   "metadata": {
    "slideshow": {
     "slide_type": "fragment"
    }
   },
   "source": [
    "* We cannot find $h_D^\\ast$ in general. Instead we try to find $h \\in \\H$ such that $R_{emp,D}(h)$ is as small as possible\n",
    "$$R_{emp,D}(h_D^\\ast) \\leq R_{emp,D}(h)$$"
   ]
  },
  {
   "cell_type": "markdown",
   "metadata": {
    "slideshow": {
     "slide_type": "slide"
    }
   },
   "source": [
    "# Generalization\n",
    "The **generalization gap** is the difference between $R(h)$ and $R_{emp,D}(h),$ we would like to know that\n",
    "\n",
    "$$\\mathbb{P}\\left[\\sup_{h \\in \\mathcal{H}} |R(h) - R_{\\text{emp}}(h)| > \\epsilon\\right] \\quad \\text{is small}$$\n",
    "\n",
    "We are taking the probability over data-sets $D$ sampled from $\\mu$ all with the same size."
   ]
  },
  {
   "cell_type": "markdown",
   "metadata": {
    "slideshow": {
     "slide_type": "fragment"
    }
   },
   "source": [
    "* Given $h$ we get from the weak law of large numbers that\n",
    "$$\\lim_{N \\rightarrow \\infty} \\mathbb{P}\\left[\\left|R(h) - R_{\\text{emp}}(h)\\right| > \\epsilon \\right] = 0, \\quad \\text{too weak}$$\n",
    "$N$ is the sample size."
   ]
  },
  {
   "cell_type": "markdown",
   "metadata": {
    "slideshow": {
     "slide_type": "fragment"
    }
   },
   "source": [
    "* Hoeffdings inequality (Assuming $R(h), R_{\\text{emp}}(h) \\leq 1$):\n",
    "$$\\mathbb{P}\\left[|R(h) - R_{\\text{emp}}(h)| > \\epsilon \\right ] \\leq 2\\exp(-2N\\epsilon^2)$$"
   ]
  },
  {
   "cell_type": "markdown",
   "metadata": {
    "slideshow": {
     "slide_type": "slide"
    }
   },
   "source": [
    "* If $|\\H|$ is finite we could use the union bound and Hoeffdings inequality to get\n",
    "$$\\mathbb{P}\\left[\\sup_{h \\in \\mathcal{H}}|R(h) - R_\\text{emp}(h)| > \\epsilon\\right] \\leq \n",
    "2|\\mathcal{H}|\\exp(-2N\\epsilon^2)$$"
   ]
  },
  {
   "cell_type": "markdown",
   "metadata": {
    "slideshow": {
     "slide_type": "fragment"
    }
   },
   "source": [
    "**Symmetrization Lemma (Vapnik, Chervonenkis):** Let $D$ and $D'$ be two different sample data-sets from $\\mu$ then\n",
    "$$\\begin{multline}\n",
    "    \\mathbb{P}\\left[\\sup_{h \\in \\mathcal{H}}\\left|R(h) - R_\\text{emp,D}(h)\\right| > \\epsilon\\right] \\\\\n",
    "    \\leq 2\\mathbb{P}\\left[\\sup_{h \\in \\mathcal{H}}\\left|R_\\text{emp,D}(h) - R_\\text{emp,D'}(h)\\right| > \\frac{\\epsilon}{2}\\right]\n",
    "\\end{multline}\n",
    "$$"
   ]
  },
  {
   "cell_type": "markdown",
   "metadata": {
    "slideshow": {
     "slide_type": "slide"
    }
   },
   "source": [
    "* Lets simplify things, assume that our hypothesis has output in $\\{-1,1\\}$ i.e. two classes.\n",
    "* Define equivalence classes on $\\H$ with respect to $D$\n",
    "$$h_1 = h_2, \\iff h_1(x) = h_2(x), \\forall (x,.) \\in D$$\n",
    "* The set of classes is denoted $\\H_D$, note that $|\\H_D| < \\infty$."
   ]
  },
  {
   "cell_type": "markdown",
   "metadata": {
    "slideshow": {
     "slide_type": "fragment"
    }
   },
   "source": [
    "$$\n",
    "\\begin{multline}\n",
    "    \\mathbb{P}\\left[\\sup_{h \\in \\H_{D\\cup D'}}\\left|R_\\text{emp}(h) - R_\\text{emp}'(h)\\right|>\\frac{\\epsilon}{2}\\right] \\\\\n",
    "    \\leq \\left|\\mathcal{H}_{D\\cup D'}\\right| \\sup_{h \\in \\H_{D\\cup D'}} \\mathbb{P}\\left[\\left|R_\\text{emp}(h) - R_\\text{emp}'(h)\\right|>\\frac{\\epsilon}{2}\\right]\n",
    "\\end{multline}\n",
    "$$"
   ]
  },
  {
   "cell_type": "markdown",
   "metadata": {
    "slideshow": {
     "slide_type": "slide"
    }
   },
   "source": [
    "# Growth function (shattering number)\n",
    "\n",
    "The largest size of $\\H_D$ for a given $N$ is called the shattering number for $\\H$ given $N$\n",
    "$$s(\\H,N) = \\sup_{x_1,\\ldots, x_N} |\\H_{\\{x_1,\\ldots,x_N\\}}|$$\n",
    "> **Note:** this is a combinatorial number and does not depend on $\\mu$."
   ]
  },
  {
   "cell_type": "markdown",
   "metadata": {
    "slideshow": {
     "slide_type": "fragment"
    }
   },
   "source": [
    "So, for any two data-sets $D,D'$ we get\n",
    "$$\n",
    "\\begin{multline}\n",
    "    \\mathbb{P}\\left[\\sup_{h \\in \\H_{D\\cup D'}}\\left|R_\\text{emp}(h) - R_\\text{emp}'(h)\\right|>\\frac{\\epsilon}{2}\\right] \\\\\n",
    "    \\leq s(\\H,N) \\sup_{h \\in \\H_{D\\cup D'}}  \\mathbb{P}\\left[\\left|R_\\text{emp}(h) - R_\\text{emp}'(h)\\right|>\\frac{\\epsilon}{2}\\right]\n",
    "\\end{multline}\n",
    "$$"
   ]
  },
  {
   "cell_type": "markdown",
   "metadata": {
    "slideshow": {
     "slide_type": "slide"
    }
   },
   "source": [
    "# Can we bound $s(\\H,N)$?"
   ]
  },
  {
   "cell_type": "markdown",
   "metadata": {
    "slideshow": {
     "slide_type": "fragment"
    }
   },
   "source": [
    "* If we knew nothing then the best we can do is (binary classification)\n",
    "$$s(\\H,N) \\leq 2^N$$"
   ]
  },
  {
   "cell_type": "markdown",
   "metadata": {
    "slideshow": {
     "slide_type": "fragment"
    }
   },
   "source": [
    "* This is where **VC**(Vapnik Chervonenkis)-dimension comes in!"
   ]
  },
  {
   "cell_type": "markdown",
   "metadata": {
    "slideshow": {
     "slide_type": "slide"
    }
   },
   "source": [
    "# Vapnik Chervonenkis dimension\n",
    "**Def:** We say that $\\H$ **shatters** a set $D = \\{x_i,i=1,\\ldots, N\\}$ for any disjoint split $D_1,D_{-1}$ of $D$ we can find $h \\in \\H$ such that $h(D_1) = 1$, $h(D_{-1})=-1$."
   ]
  },
  {
   "cell_type": "markdown",
   "metadata": {
    "slideshow": {
     "slide_type": "fragment"
    }
   },
   "source": [
    "**Def:** The VC-dimension of $\\H$, denoted by $\\text{VC-dim}(\\H)$ , equals the largest integer n such that there exists a set of cardinality n that is shattered by $\\H$."
   ]
  },
  {
   "cell_type": "markdown",
   "metadata": {
    "slideshow": {
     "slide_type": "slide"
    }
   },
   "source": [
    "# Sauer–Shelah lemma (1972)\n",
    "Let $k = \\text{VC-dim}(\\H)$ then for $N > 0$ we get the following bound\n",
    "$$\n",
    "    s(\\H,N) \\leq \\sum_{i=0}^{k-1} {N \\choose i}\n",
    "$$"
   ]
  },
  {
   "cell_type": "markdown",
   "metadata": {
    "slideshow": {
     "slide_type": "fragment"
    }
   },
   "source": [
    "* Independently proved by Sauer and Shelah in 1972\n",
    "* Actually proved slightly before by Vapnik and Chervonenkis (1971?)\n",
    "\n",
    "$$s(\\H,N) \\leq \\left ( \\frac{Ne}{k}\\right )^k $$"
   ]
  },
  {
   "cell_type": "markdown",
   "metadata": {
    "slideshow": {
     "slide_type": "subslide"
    }
   },
   "source": [
    "Proof: Let $\\lambda \\in (0,1)$ then\n",
    "$$\n",
    "\\tiny\n",
    "\\begin{align}\n",
    "    1 &= (\\lambda + (1-\\lambda))^N \\\\\n",
    "    &\\geq \\sum_{i=1}^{\\lambda N} {N \\choose i} \\lambda^i(1-\\lambda)^{n-1} \\\\\n",
    "    &\\geq \\sum_{i=1}^{\\lambda N} {N \\choose i} \\left (\\frac{\\lambda}{1-\\lambda} \\right )^{\\lambda n} (1-\\lambda)^n\n",
    "\\end{align}\n",
    "$$\n",
    "Thus\n",
    "$$\n",
    "\\tiny\n",
    "\\begin{align}\n",
    "    \\sum_{i=1}^{\\lambda N} {N \\choose i} &\\leq e^{N((\\lambda-1)\\log(1-\\lambda)-\\lambda \\log(1-\\lambda))} \\\\\n",
    "    &\\leq e^{N(\\lambda-\\lambda \\log(1-\\lambda))} \\\\\n",
    "    &= \\left ( \\frac{e N}{\\lambda N} \\right )^{\\lambda N}\n",
    "\\end{align}\n",
    "$$\n",
    "Then for $k = \\lambda N$ we have our result."
   ]
  },
  {
   "cell_type": "markdown",
   "metadata": {
    "slideshow": {
     "slide_type": "slide"
    }
   },
   "source": [
    "# Putting it all together\n",
    "\n",
    "$$\n",
    "\\tiny\n",
    "\\begin{align}\n",
    "    \\mathbb{P}&\\left[\\sup_{h \\in \\mathcal{H}}\\left|R(h) - R_\\text{emp,D}(h)\\right| > \\epsilon\\right] \\\\\n",
    "    &\\leq 2\\mathbb{P}\\left[\\sup_{h \\in \\mathcal{H}}\\left|R_\\text{emp,D}(h) - R_\\text{emp,D'}(h)\\right| > \\frac{\\epsilon}{2}\\right] \\quad \\text{(Symmetrization Lemma)}\\\\\n",
    "    &\\leq 2 s(\\H,2 N) \\sup_{h \\in \\H_{D\\cup D'}}  \\mathbb{P}\\left[\\left|R_\\text{emp,D}(h) - R_\\text{emp,D'}(h)\\right|>\\frac{\\epsilon}{2}\\right] \\text{(Shattering number + Classes)}\\\\\n",
    "    &\\leq 2 s(\\H,2 N) \\sup_{h \\in \\H_{D\\cup D'}}   \\left ( \\mathbb{P}\\left[\\left|R(h) - R_\\text{emp,D}(h)\\right|>\\frac{\\epsilon}{4}\\right] + \\mathbb{P}\\left[\\left|R(h) - R_\\text{emp,D'}(h)\\right|>\\frac{\\epsilon}{4}\\right] \\right ) \\\\\n",
    "    &\\leq 8 s(\\H, 2N)\\exp \\left (-\\frac{N\\epsilon^2}{8} \\right ) \\quad \\text{(Hoeffdings Inequality)} \n",
    "\\end{align}\n",
    "$$"
   ]
  },
  {
   "cell_type": "markdown",
   "metadata": {
    "slideshow": {
     "slide_type": "slide"
    }
   },
   "source": [
    "# VC inequality (1971)\n",
    "\n",
    "$$\n",
    "\\begin{multline}\n",
    "    \\mathbb{P}\\left[\\sup_{h \\in \\mathcal{H}}\\left|R(h) - R_\\text{emp,D}(h)\\right| > \\epsilon\\right] \\\\\n",
    "    \\leq 8 s(\\H,2N) \\exp \\left (-\\frac{N\\epsilon^2}{8} \\right )\n",
    "\\end{multline}\n",
    "$$"
   ]
  },
  {
   "cell_type": "markdown",
   "metadata": {
    "slideshow": {
     "slide_type": "fragment"
    }
   },
   "source": [
    "# VC generalization bound\n",
    "Thus we can for any $\\delta$ find that with probability $(1-\\delta)$ the following estimate holds\n",
    "\n",
    "$$\n",
    "    R(h) \\leq R_{emp,D} + \\sqrt{\\frac{8 \\ln(s(\\H,2N))+8\\ln\\frac{8}{\\delta}}{N}}\n",
    "$$\n",
    "\n",
    "for any $h \\in \\H$."
   ]
  },
  {
   "cell_type": "markdown",
   "metadata": {
    "slideshow": {
     "slide_type": "slide"
    }
   },
   "source": [
    "# VC generalization bound\n",
    "\n",
    "$$\n",
    "    R(h) \\leq R_{emp,D} + \\sqrt{\\frac{8 k\\ln\\left ( \\frac{2Ne}{k}\\right )+8\\ln\\frac{8}{\\delta}}{N}}\n",
    "$$\n",
    "We need $N > ??$ in order for the estimate to be useful."
   ]
  },
  {
   "cell_type": "code",
   "execution_count": 220,
   "metadata": {
    "slideshow": {
     "slide_type": "skip"
    }
   },
   "outputs": [],
   "source": [
    "from scipy.optimize import fsolve\n",
    "\n",
    "def find_N(k=1,prec=0.1):\n",
    "    delta=0.1\n",
    "    c = 8*k\n",
    "    t = 8*k*np.log(2*np.e/k)+8*np.log(8/delta)\n",
    "    func = lambda x: t+c*np.log(x)-prec*x\n",
    "    x_init = k*100\n",
    "    return fsolve(func,x_init)"
   ]
  },
  {
   "cell_type": "code",
   "execution_count": 225,
   "metadata": {
    "slideshow": {
     "slide_type": "skip"
    }
   },
   "outputs": [],
   "source": [
    "k = np.arange(1,100)\n",
    "N = np.array([find_N(k0,1) for k0 in k]).ravel()\n",
    "def plot_numreq():\n",
    "    plt.figure(figsize=(10,10))\n",
    "    plt.plot(k,N)\n",
    "    plt.xlabel(\"VC-dimension\")\n",
    "    plt.ylabel(\"Datapoints required\")\n",
    "    plt.show()"
   ]
  },
  {
   "cell_type": "code",
   "execution_count": 226,
   "metadata": {
    "slideshow": {
     "slide_type": "fragment"
    }
   },
   "outputs": [
    {
     "data": {
      "image/png": "[encoded data removed]",
      "text/plain": [
       "<Figure size 720x720 with 1 Axes>"
      ]
     },
     "metadata": {
      "needs_background": "light"
     },
     "output_type": "display_data"
    }
   ],
   "source": [
    "plot_numreq()"
   ]
  },
  {
   "cell_type": "markdown",
   "metadata": {
    "slideshow": {
     "slide_type": "slide"
    }
   },
   "source": [
    "# VC dimension of Neural networks\n",
    "Let $W$ be the total number of parameters of a network\n",
    "* (Cover 1968, Baum & Haussler 1989) LTU (Linear Threshold unit) \n",
    "$$\\VCdim \\leq 2 W \\log(eW)$$"
   ]
  },
  {
   "cell_type": "markdown",
   "metadata": {
    "slideshow": {
     "slide_type": "fragment"
    }
   },
   "source": [
    "* (Sontag 1992) $\\phi(x) = \\frac{1}{\\pi} \\arctan(x)+ \\frac{1}{2} + \\frac{cos(x)}{\\alpha (1+x^2)}$\n",
    "$$\\VCdim = \\infty$$"
   ]
  },
  {
   "cell_type": "code",
   "execution_count": 241,
   "metadata": {
    "slideshow": {
     "slide_type": "skip"
    }
   },
   "outputs": [],
   "source": [
    "import numpy as np\n",
    "import matplotlib.pyplot as plt\n",
    "x = np.linspace(-10,10,1000)\n",
    "def plot_act(alpha=10):\n",
    "    y = (1/np.pi)*np.arctan(x)+0.5 + np.cos(x)/(alpha*(1+x**2))\n",
    "    plt.figure(figsize=(10,10))\n",
    "    plt.plot(x,y)\n",
    "    plt.title(\"$\\\\frac{1}{\\\\pi} \\\\arctan(x)+ \\\\frac{1}{2} + \\\\frac{cos(x)}{alpha (1+x^2)}$\".replace('alpha',str(alpha)),fontsize=15,pad=20)\n",
    "    plt.show()"
   ]
  },
  {
   "cell_type": "code",
   "execution_count": 244,
   "metadata": {
    "scrolled": false,
    "slideshow": {
     "slide_type": "slide"
    }
   },
   "outputs": [
    {
     "data": {
      "image/png": "[encoded data removed]",
      "text/plain": [
       "<Figure size 720x720 with 1 Axes>"
      ]
     },
     "metadata": {
      "needs_background": "light"
     },
     "output_type": "display_data"
    }
   ],
   "source": [
    "plot_act(alpha=10)"
   ]
  },
  {
   "cell_type": "markdown",
   "metadata": {
    "slideshow": {
     "slide_type": "slide"
    }
   },
   "source": [
    "# VC dimension of Neural networks\n",
    "Let $W$ be the total number of parameters of a network\n",
    "* (Cover 1968, Baum & Haussler 1989) LTU (Linear Threshold unit) \n",
    "$$\\VCdim \\leq 2 W \\log(eW)$$\n",
    "* (Sontag 1992) $\\phi(x) = \\frac{1}{\\pi} \\arctan(x)+ \\frac{1}{2} + \\frac{cos(x)}{\\alpha (1+x^2)}$\n",
    "$$\\VCdim = \\infty$$"
   ]
  },
  {
   "cell_type": "markdown",
   "metadata": {
    "slideshow": {
     "slide_type": "fragment"
    }
   },
   "source": [
    "* (Karpinski & Macintyre 1994) Sigmoid activation \n",
    "$$\\VCdim \\leq C W^4$$"
   ]
  },
  {
   "cell_type": "markdown",
   "metadata": {
    "slideshow": {
     "slide_type": "fragment"
    }
   },
   "source": [
    "* (Bartlett, Harvey, Liaw, Mehrabian 2017) Piecewise linear \n",
    "$$\\VCdim \\leq LW log(pU)$$\n",
    "Layers, Weights, pieces, Units"
   ]
  },
  {
   "cell_type": "markdown",
   "metadata": {
    "slideshow": {
     "slide_type": "slide"
    }
   },
   "source": [
    "# The issue\n",
    "\n",
    "* In the overparametrized regime we cannot get any information from the VC generalization bound, since in that case $N$ is much smaller than $W$.\n",
    "    * Resnet110 is 1.7M parameters but performs really well on 50k images.\n",
    "    * Other well performing networks are roughly 1M parameters for 50k images."
   ]
  },
  {
   "cell_type": "markdown",
   "metadata": {
    "slideshow": {
     "slide_type": "fragment"
    }
   },
   "source": [
    "# Solution?\n",
    "* Open problem"
   ]
  },
  {
   "cell_type": "code",
   "execution_count": null,
   "metadata": {
    "slideshow": {
     "slide_type": "slide"
    }
   },
   "outputs": [],
   "source": []
  },
  {
   "cell_type": "markdown",
   "metadata": {
    "slideshow": {
     "slide_type": "slide"
    }
   },
   "source": [
    "# Perceptron algorithm\n",
    "\n",
    "The perceptron algorithm is a binary classifier and the idea is to \"learn/find\" the weights such that it maps its input to the correct class (1 or 0). \n",
    "\n",
    "**Given:**\n",
    "Points $x_1,\\ldots, x_N$ in $\\mathbb{R}^n$, with a corresponding label $y_1,\\ldots, y_N$ being either 1 or 0. \n",
    "\n",
    "**Goal:**\n",
    "Find the weights $w$ and bias $b$ such that $h(x_i) = y_i$ for $i=1,\\ldots,n$, if possible."
   ]
  },
  {
   "cell_type": "code",
   "execution_count": 1,
   "metadata": {
    "slideshow": {
     "slide_type": "skip"
    }
   },
   "outputs": [],
   "source": [
    "import numpy as np\n",
    "\n",
    "def gen_data(n_points=5,sep=1):\n",
    "    np.random.seed(1)\n",
    "    X1 = np.random.normal(size=(n_points,2))+sep*np.array([0.5,0.5])\n",
    "    X2 = np.random.normal(size=(n_points,2))+np.array([-1,-1])\n",
    "    Xall = np.concatenate([X1,X2],axis=0)\n",
    "    y1 = np.ones(shape=n_points)\n",
    "    y2 = np.zeros(shape=n_points)\n",
    "    yall = np.concatenate([y1,y2])\n",
    "\n",
    "    X = np.concatenate([np.ones((n_points*2,1)), Xall],axis=1)\n",
    "    return X,X1,X2,Xall,yall\n",
    "X, X1, X2, Xall, yall = gen_data()"
   ]
  },
  {
   "cell_type": "code",
   "execution_count": 2,
   "metadata": {
    "slideshow": {
     "slide_type": "slide"
    }
   },
   "outputs": [
    {
     "data": {
      "text/plain": [
       "<matplotlib.collections.PathCollection at 0x7fc33702cfd0>"
      ]
     },
     "execution_count": 2,
     "metadata": {},
     "output_type": "execute_result"
    },
    {
     "data": {
      "image/png": "[encoded data removed]",
      "text/plain": [
       "<Figure size 720x720 with 1 Axes>"
      ]
     },
     "metadata": {
      "needs_background": "light"
     },
     "output_type": "display_data"
    }
   ],
   "source": [
    "%matplotlib inline\n",
    "import matplotlib.pyplot as plt\n",
    "plt.figure(figsize=(10,10))\n",
    "plt.scatter(X1[:,0],X1[:,1], color='red')\n",
    "plt.scatter(X2[:,0],X2[:,1], color='blue')"
   ]
  },
  {
   "cell_type": "markdown",
   "metadata": {
    "slideshow": {
     "slide_type": "slide"
    }
   },
   "source": [
    "# Perceptron algorithm\n",
    "To simplify notation, raise the dimension and let the first coordinate of $x$ be $1$, then rearrange the weights such that the bias corresponds to the first component, then\n",
    "\n",
    "1. Initialize the weights $w_0$ to some initial value.\n",
    "2. For each data point $x_j$ in our data set do:\n",
    "    1. Compute the \"error\"\n",
    "$$\n",
    "    e_j = (y_j - h_{w_t}(x_j))\n",
    "$$\n",
    "    2. Update the weights\n",
    "$$\n",
    "    w_{t+1} = w_t + \\sum_{j=1}^n e_j \\cdot x_j\n",
    "$$\n",
    "4. If the error $\\sum_j |e_j|$ is too large goto step 2."
   ]
  },
  {
   "cell_type": "code",
   "execution_count": 3,
   "metadata": {
    "slideshow": {
     "slide_type": "skip"
    }
   },
   "outputs": [],
   "source": [
    "def perceptron(X,y,n_steps=10):\n",
    "    # X = (n_points,3)\n",
    "    # W = (n_points,3)\n",
    "    W = -np.ones((X.shape[0],X.shape[1]))\n",
    "    n_points = X.shape[0]\n",
    "    f = lambda x: x>=0\n",
    "    W = -np.ones(3)\n",
    "    Wall = []\n",
    "    for k in range(n_steps):\n",
    "        for j in range(n_points-1):\n",
    "            e = yall[j]-f(np.dot(X[j,:],W))\n",
    "            W = W + e*X[j,:]\n",
    "            Wall.append(W)\n",
    "\n",
    "    x = np.linspace(np.min(X[:,1]),np.max(X[:,1]),2)\n",
    "    W = np.array(Wall)\n",
    "    u = (-W[1:,0].reshape(-1,1)-x.reshape(1,-1)*W[1:,1].reshape(-1,1))/W[1:,2].reshape(-1,1)\n",
    "    \n",
    "    return x,u\n",
    "n_steps = 10\n",
    "x,u = perceptron(X,yall,n_steps)"
   ]
  },
  {
   "cell_type": "code",
   "execution_count": 4,
   "metadata": {
    "slideshow": {
     "slide_type": "skip"
    }
   },
   "outputs": [],
   "source": [
    "from matplotlib import animation\n",
    "import matplotlib.pyplot as plt\n",
    "from IPython.display import HTML\n",
    "import numpy as np\n",
    "\n",
    "# First set up the figure, the axis, and the plot element we want to animate\n",
    "fig = plt.figure(figsize=(10,10))\n",
    "ax = plt.axes()\n",
    "line, = ax.plot([], [], lw=1)\n",
    "ax.scatter(X1[:,0],X1[:,1], color='red')\n",
    "ax.scatter(X2[:,0],X2[:,1], color='blue')\n",
    "\n",
    "# Initialization function: plot the background of each frame\n",
    "def init():\n",
    "    line.set_data([], [])\n",
    "    return line,\n",
    "\n",
    "# Animation function which updates figure data.  This is called sequentially\n",
    "def animate(i):\n",
    "    line.set_data(x, u[i,:])\n",
    "    return line,\n",
    "\n",
    "# Call the animator.  blit=True means only re-draw the parts that have changed.\n",
    "anim = animation.FuncAnimation(fig, animate, init_func=init,\n",
    "                               frames=u.shape[0], interval=200, blit=True)\n",
    "\n",
    "plt.close(anim._fig)"
   ]
  },
  {
   "cell_type": "code",
   "execution_count": 5,
   "metadata": {
    "slideshow": {
     "slide_type": "slide"
    }
   },
   "outputs": [
    {
     "data": {
      "text/html": [
       "<video width=\"720\" height=\"720\" controls autoplay loop>\n",
       "  <source type=\"video/mp4\" src=\"data:video/mp4;base64,AAAAHGZ0eXBNNFYgAAACAGlzb21pc28yYXZjMQAAAAhmcmVlAABuIW1kYXQAAAKuBgX//6rcRem9\n",
       "5tlIt5Ys2CDZI+7veDI2NCAtIGNvcmUgMTUyIHIyODU0IGU5YTU5MDMgLSBILjI2NC9NUEVHLTQg\n",
       "QVZDIGNvZGVjIC0gQ29weWxlZnQgMjAwMy0yMDE3IC0gaHR0cDovL3d3dy52aWRlb2xhbi5vcmcv\n",
       "eDI2NC5odG1sIC0gb3B0aW9uczogY2FiYWM9MSByZWY9MyBkZWJsb2NrPTE6MDowIGFuYWx5c2U9\n",
       "MHgzOjB4MTEzIG1lPWhleCBzdWJtZT03IHBzeT0xIHBzeV9yZD0xLjAwOjAuMDAgbWl4ZWRfcmVm\n",
       "PTEgbWVfcmFuZ2U9MTYgY2hyb21hX21lPTEgdHJlbGxpcz0xIDh4OGRjdD0xIGNxbT0wIGRlYWR6\n",
       "b25lPTIxLDExIGZhc3RfcHNraXA9MSBjaHJvbWFfcXBfb2Zmc2V0PS0yIHRocmVhZHM9MTAgbG9v\n",
       "a2FoZWFkX3RocmVhZHM9MSBzbGljZWRfdGhyZWFkcz0wIG5yPTAgZGVjaW1hdGU9MSBpbnRlcmxh\n",
       "Y2VkPTAgYmx1cmF5X2NvbXBhdD0wIGNvbnN0cmFpbmVkX2ludHJhPTAgYmZyYW1lcz0zIGJfcHly\n",
       "YW1pZD0yIGJfYWRhcHQ9MSBiX2JpYXM9MCBkaXJlY3Q9MSB3ZWlnaHRiPTEgb3Blbl9nb3A9MCB3\n",
       "ZWlnaHRwPTIga2V5aW50PTI1MCBrZXlpbnRfbWluPTUgc2NlbmVjdXQ9NDAgaW50cmFfcmVmcmVz\n",
       "aD0wIHJjX2xvb2thaGVhZD00MCByYz1jcmYgbWJ0cmVlPTEgY3JmPTIzLjAgcWNvbXA9MC42MCBx\n",
       "cG1pbj0wIHFwbWF4PTY5IHFwc3RlcD00IGlwX3JhdGlvPTEuNDAgYXE9MToxLjAwAIAAABjgZYiE\n",
       "ABP//vexj4FNyAANlzqKeh/hFbH0kFF6sdmgZOoAAAMAAAMAAAMAEI6HKLYl9XFxloAAAApoAYwD\n",
       "bgyrY9PpS9/wANfRFAgpdfiYWthL61syhVzxmHRzgBQjFdMzcCKlO9hWJ1XduvjI/xG/5xPH7Yf6\n",
       "Civ+8BAJs7j2ZeHbQBfcpMqjbBQ6So8+UoEF1xijxZ+75YA75o2Cau/Wkvwm61/C4Yf/9d3+AM7/\n",
       "fVGCbvzEE0f9TUeKAfmhgH2e5Oz7TMslvECrnD7CIgdflm9KZ9iB03jBNdiXVlzQ0hl3EGWY9HWe\n",
       "ySesMxKcn2/8l7Y+QHkV8J+CT3GA6eqFwMgKVg/38ykjL7IMRJq3AOWUAxOgRezfOqV7AuXwK/Hc\n",
       "dHATxW7iYihKzvFcDC1yCVr82PbFNcCCKz0N74HUSbfX1AGsRVOtKoj1HAWOPZLUytITrwxyxrh+\n",
       "vzdFk3HpYThTWXDi9F2/FGxzjJCeiKHtmln0jC8qwLBwHyYGl2hy7C5Kpg10VTxdzLiawGf5PcgD\n",
       "O6Ou1ECxBHN+tVrkjqYp/EnMe8F/+xLPl7bR7LXQmOMSIBeDx3IUBM0i9FN2ZyCaX+BdyytG8ewK\n",
       "qyP0yDG3acqCS4n97ABdK7bCJ3yBdmNsXCJxHmHaVwPpTl/sN2wcydfevxaAhSJvWSkjrQSI4WU6\n",
       "f7RdAoaEoLUtUNxkXK932B9ZJv8S8k0SQ4NWQMoYkNTlljVidd8NcA1VEM/5guhdDoINMctx3GbI\n",
       "IO8j5KlKg8thDTRkWCGwgKzpd1OQlcM4Z7ubkz0CWbCPO6+wokmbKqF4FofRvWU4X/yyHF+2G9cc\n",
       "ORxrLdkTXw/kMG57oa3rVz/8OfPnzxLzIwmXsRAOsX2Bt7x9crPDfp3dH7A23RJba4FqulevLPbi\n",
       "XFtqv89l8etVAJZ+owXLJB6QC/9uNGpHQJGPeXqJTc/dh+NPLxisnGFn3aOszAf0lhShUvgvWdp6\n",
       "aVlbI3FVbv7InO6UHSQHspEID+epVm4RSm8gJIOSnqU4kj7Us2RC+PmZz5eoaBVUbnGpMtKHdUXQ\n",
       "Q41xnyGYdLEo+nmnmN4MN51Ln/GOH7yAa3f+B5zQDiamcIkw3W2KrWNNErcwGCNlc/QbryDjoXpA\n",
       "Ec9m2T8BlYXSeSLfG2+kbGDPKNy8Qy5T53a2Yf4lWMUmakYVR1s5yaUe/2yxxrzYf/2stF76OwMu\n",
       "X5vUK2xXp44TGNw8xYAaYNLF0Jbv8Fjt/qfH3P9qPIY/evpJKWN8GLm8u/98H+jAFKApzHOcQcYV\n",
       "4n2KKZAfMKMELzevrBXmMxnMsyO6ldaz7xF/rb5a9YQzBZ8YGrlr1iVbbdCCH+8GJBbS9+iNwpMe\n",
       "uAT7dIJBZlqkUFBtACqkmFeVFFfp7WIee84/BBlg3+8l8jjo4N2VQLqiVypmoTRxps1BHjRGavuz\n",
       "3XLnGw8ctz9V4Y8P+3gJ6xojzXTeOKbjOy/1LRyYZX2RvDB/Rkobv276ALAq9WHJ/N/+OUZ/Nf3S\n",
       "vbcUGtFC5Dzoz0Q+m4YoLOx/cYgOiqlsFZVbVhgS13KIJfP8s/KnRRhtQV7jSzL6j8t0qXlTShpw\n",
       "6jOK75i829BhcB+87NUXEV0lilMMbdYzyABH/Uorj3IEHGkB+5EhrICutxNqIDUZncOPK1E6HMN5\n",
       "DL01Ixa1z8Xrd/kBgQhwszOE+4jRPd9DFwHx5UcAwn4IQ6Nr8tf6qWbxzLBdN/UEj470YlliB5cJ\n",
       "sewkIZdoNUUD0R3ygBYG0zw/KaTers/SJFXGYqFaO/2h02oHNuRZBnMK82SSlv0QDWh98y31BB23\n",
       "OoGb8ePxecgdqts1E/sEXj+T9cQ/yy5OKsACiB9Kann2+2f582jWA22tIf/9Xnir7+DLhlgaAvtI\n",
       "Eq9gyu181Qq1SFdFbyBcVEsdFzGCJUOvWnbwDdJDZ0hz+hSHwk+PsQLFSYJg+1EbVy7X/hlYnQzJ\n",
       "FEtE84b71dnl5aCtNxDdiHE5aNibYElSFyqlS10Xz/zPWkhXxpM1W090sgcZ9O9XqEa0my5XfZ55\n",
       "xc2o/bxJg3hyHT/9y6zAG6Rh7p/NsmuEw/qiCOQO4noYtnYyNgzvbTjhoH9cG1FmuPxXTyUPFQgF\n",
       "dUDrg+pBtVQDw5R4gVjX0J3/ErQ8ecZLtXdhO3oNI8/23LQY5yj9bHWJKWKlTh77wleQsCk5Jwzx\n",
       "TcfjuEDFQXEwREKu4k6qeRoDdCOCo9+I/hRTU7dX9xWdLs/c4qytoj6g/QdonVDZe5I3Gsp2Mj+A\n",
       "BFXmITfeWzlIlNx+l1U0KZTeE2ykgQCpgYSCewS10uR0PGhzflkCMOJL6DdbhdVBH6U/Fg7R3sjs\n",
       "zd8D1aXjqOtEBMXVB9CW9d7iQIaE1JeORA9rrSzGxMOiCF8NnJbi9Spf5SRM/2vEE0wK4swx2va4\n",
       "6l82YSEPZCWoi2q1xcwgqtut74NDQh9pSVjQNVK7OpMus3VhfJP3UucrCfnrWoXwqtdAxt5srtyX\n",
       "ecAyLc/TtA0/qTafHGDnM6H7/L44xd8115bctYdhoV9+VihB/kbeqd0fGqZR9cV63m2bMCeup6UB\n",
       "pf46qCUiEuiXw/Zn6u5dy31v1n/v/q/fU15vpvu+hpEQ/E/b78uxuk1BANfoykH3WCZQ+49EMdgL\n",
       "QAAAWIfmearDu3UHId1YJ0PKGhQRbxsABlIYQpgbmxlRrEUDHQTOZyYIs5MT5jCvxLG6/IwLhSZd\n",
       "5FL1nUsit1HETzGHAt0CXm6vp7TaqBpSmkPM1+EM55lv7jhGqHT6GOUOFw2Pgrpa0/rtbmCmKdh/\n",
       "wAcXgk5b92ATZW5LzN5+fJYwSmUji4F7pnFsX3JLKVpZCZ8qrxNlZdppvLEJotvQGHveZXMstD52\n",
       "O9k4UFO4x/1Rkg4jCCcwkVQenpYySzmjzOAoprCMRAaBRtxXgJbf1frKOrCJvVr9rKf855e5rv5H\n",
       "7o/8BV/uX++7kWNyDJchrB2fil0B7f1a6ZLiAN5Hy5d3vjmzaw/nfKGxp3DCStuhcBhJKwIvYGks\n",
       "qUddirIc8LhRsw3P2iXbYacX4DjSbVWYtD4iOXwgM6bXycRnvS80+x5HHCnWbFqw57W76ujeOb1P\n",
       "+k9L9bVFXFT/qiBJa1d0R4IrScIs+MZcbjGqAAAkiUgd+XXqwyQy15VK7HFORbhYIvAiuvdxLXu3\n",
       "ObXDb73xDwGA1ttQR3JDyhLO+HPzvC5xjkBz9LIQowqXSL5ORYcW4ahw/Ham+2urCP5BF8Hy7Ih6\n",
       "EnsEJg6ac4GskZhTBpsLVzf3rTUOFxgi4V2tt/7Dx1p7E4pNXOqeSo3ELsOT+R+mkAaqzztsTz2m\n",
       "6FFKfKG6Np1dE+cwbSAOBHEOs6LDXmO/ulzBR/+qpzPdoEV78pSGmj0/9wv2kO/F+gwZAhDFukqk\n",
       "3OJc2Y1cMhon9gGcBMe/zwUV1kIW1URHCugI7XNFSJMkIMeE26Kya1XHgXkCnFpqSgLna+fFHiqd\n",
       "T8lVlEoADWAuaeg2O2x5R1VTeNP2Qe6//UB6/UBcSHQXCvePXqEVMhHZflpRtJrvYWJxhAYQfOV8\n",
       "LWNr9sx6ypfOH6EG9d8mM1XBWfdTJtPMffWv9/428G+IfMxFrLonCgImskhvnaUmpH/fINDAFA1+\n",
       "R8o7qYgHCBWajR6zDlA5ovXGXA06Hl6Kw0kEBNaE7vie4+Pr+qpKxx3U51qAF1JybUrAUZw6yz4I\n",
       "z0rbPBKda8+7t0tS6yXRNDDFmUPMJzoGeKyRzhs7Z8iC2dJbW/Vy8zN3F7navNeEwVd+tWbvC06Z\n",
       "bymlpSizNvP0ltE4lNyhbAWQAewKfpv8/Idqeogo7TLggUysp1c/Pd3zSxxk7dw9wG+AkUoL0q38\n",
       "ELH1tGKjAdvy445tHpZowUHhKAzZz29lKYyIR2jdGAvLGIBsuqZK+EurUuc4syu8GMjR7C/MaEdL\n",
       "XmijTePspUximvwfafz676P7ZT27H/uFdopeby6ncq2+lg5So3eYx9aIav7fOR6znthi4rFF6iv1\n",
       "a5RsItpWJ3C8bCYT1lEqm8DhDsAFaWSic60AJVOKuh8rNpQ5aGxP/hcBZaAuYCFrkxYH3im3B6/M\n",
       "m+mLW+7QxGwLTwDap9GIrrlxzpBGxRR8/PnNrrfJFTPe4ixKToWGbv1jBrWQYM0ouIF/Cg3JE9S6\n",
       "kAn3bpO5C4WRxHamYdZVkgsRkznCupZyAEbCqvH7Yw/4tanUUwt/wba82Z9l3dvilel2sGrMrDm3\n",
       "5Tcc7iJDkM11WMhVzgsWkf/rY1TSd/UkKYar7zrdqKbkGI/T0SrM6GesIq0E5F+k37oIIcnUj5RI\n",
       "3LfRtcaGprlM/Zk7pdW5sDQAM15pajQD9WqHlZpPFhajFU7oikEcRxgnHVuuZWMNiJaY5bOiAlJq\n",
       "o2mHhZ5ocsIsClMbuA6drYaTO9BueBY5l3Lzscb/KyGcNSYWdxIsxYzrvHRatpX7NOy+KkqAEXVJ\n",
       "N9sPJfdlDdsFjbr++A3NYANqTCiQLCX50N7ONzGEgSneyDbL8WOnRz4H6SWQMZ52Ck0qWci55tRI\n",
       "X7a1jj2C8xImM674ijI/AMVnuCLOqpdlxp4yP2bDfa2X/h+V27BUY8CmQS8H09XrI+o6GfzgqRrg\n",
       "Ot47PJ6UlkZ+u+koRVnEddmYO5yhoWozg/Bd1075qOWxZfE2KbxQNyEkEcq+Gx5pCkbrhtflZATe\n",
       "iCtld548RFiwRsnvwD6Eu3VJeAAqn/wxVGhcq6XBw5cqlkOKa8DtbNC1V1y8QqMRNaj5HC1yzMZs\n",
       "nl/Otr+w5t7wneAFk0jWz7gNpUMHJ8V5N3LVzCN4OC6qITQcd1iPKL8698TNykXJQd0XiQzVv0+A\n",
       "h8t2cwNB1YpsbO2B5tgYfw6nXJmaBemPKOYuoN+1E0nKTCMOnewJAAADAE8DuCWFMiSnkpaoc/7y\n",
       "L1T9EjC7JQtMh+DXcyndq/02YrksPzn4UbjzstLbTv/VKJ618KI07aWNJgoGxljW7IztIa1Nsm5W\n",
       "7npZ38/71/v7NO41xxema+ugCLbs+lL0aqu8jdoqWyRObXlrp5Fj8p7pG+Ut3ZfrZHUCyCkP6ZhB\n",
       "RwBAyiy7zKs+wv6KpB+btPXJuZLJOrK2gvVEnySn36tg6rQB3kkwC6lmPqEfyIq6cE6F0Hmfqq0u\n",
       "UbOwzH2wJ+j99KH+NM8lQj/NlVaNb/Sz3oKO8s6hY+SbkKOB4KEeKudSK/SWTZHeCP0U6SC8ztbA\n",
       "JqAtR8ARegqrmkw5EK7kQpeO5phS+B9X3H9C5tp/u6JP3vQ7YNH7wFMdwi0Hl8UfbFFMuZ5zfsNB\n",
       "BrlVBRM95K1ZTt0QVuTcACO6nVg8noeosNga4kxaskzi1xkKnA6rh8zjJ1Dme2wVMljPsdFsOUvN\n",
       "p2Q/z0ml0hFEDOLlQ63rD6MJQNu5/+KlFE7L91t4gVdOXCGy4hj8ZTrmtDmJxf+qb1kPfvmT30wA\n",
       "pC5yoPPvhBTTkT7C1vHrbS1FauENffnLRFGySdcDuU+YyMrIuexpR8HcoNK0aIhFZZFt8a70Xaas\n",
       "lLODSfRzspfPmfor3FXtQ8U4PFpS9aU8LfDY9FEye4Cykebo6KRRUJJJtckdtN/JDFYB5vzNm9EO\n",
       "DjSjDGkWTvCR5/m2ZM42bxXmGiq52Lpl4nIa1jxEykftpQ8Q2xxMDrvi1ZYQAEoa1yObTbc7c/Vz\n",
       "IrRJBR9ndecNkRrUD/FZNI6lis7Hi6FmcJb7Mfi7seOu98kpffAAAAMAMTYqPY2izTGQ00wStBFA\n",
       "R/++PU2l2PvB9dGzjrjjwDyoB99+agEm7eAtivkwArxvvl1BJc5vh8R46v1Am3sSzYrJigxb1h63\n",
       "DPSqaq4zalsSJbmU8QBWIZaJO77ix2ZqhftIknKZRdFfZukEoS2DxTOyRaBvONOohIfauHXxsyJu\n",
       "31uYNMVMVurnr5C6tDRiSD5QbxuwqMUZuTfQMo75PtLFKSsCEAAACKxw9UgzIAACapYAMnGgQTrA\n",
       "8cd7EaoDGzOA+gouPh8YRmUNOPTkmJx9IXZRC28aXZMXKCHc+PrbPcHaNIeS+FHeiv6eB8592TAK\n",
       "akNj6TX7uczkkflMTNVWYdwI2sT4uU9tN0aoeUv9n7zQDpyhxQypN1C09Fo/JlL1rbPVboQGzJkW\n",
       "2tTdvZLUPWGgd1J64jkYo/lQsmyjknAERAj2Svd/jZ8WK9jT+fMga7gD+GL+31S9F4jvfdwNXhur\n",
       "FKV94aui3Bbqq9ojz22EcSZnr/p+eE/yrvx4OAGmiMNdFUZe1wAKbuhNpFB1aaDLEfDfhOqRrHO6\n",
       "OTQQKOfD6xXB878EDhho9DylPdXnIjeTx3am+t/ekIH5dLc5aODHo5E2Qo4yKcWsn8CS9cXMLg1I\n",
       "BqswKH/PTx3Y5KhHpVljBkCRUCmCCTzfh7OfKASih10vM2I+JfZSzaaBFloJs+V7qGncttRn+uUl\n",
       "jsY9brxNjGyaDBTJ++c/zifPT5Du5TdflQRAWuSVXY9OPwreohUj1BHUfGVZ5P3tc1BmNJfSNQRu\n",
       "irkY69Uh1ykyuUEM5YKjX5ldnd0JRheZ8+n+49Jvf5XysgMOyAfvq/KsVTIXpDc1unEpL5deD2zP\n",
       "OQJRSG3zVMVeHT8aPv/94h92Zytd3cLuurb0W6gGcwaIl7kvwacuWqWS6OaBMAygDNn+xAKUCTaz\n",
       "nkimOlCguDu1qM3u0yXhLu9S4crn4aE/dP7oXUWjA7EMsafNWDx7khlV5SUzRQFZAF+qDjZ99kRF\n",
       "ryNYgdytOmVW3QbHLcLve5Fci2BCpExQOVmzElmuDAlaG7gFNFkHD9FeEbg7i4cq6ddGJudr/VFv\n",
       "qnirsszlC8aJuh2xuJs9BxShWbTNZ6GIqMkC29P5VGfpUcsz3Lf3avjdltcMSV+RUzG9Ht4MPFkr\n",
       "tM8tFGJr82R9NQa02DBlq60JtrgQjjxaxKbI0lmgW8Iig//9ozb31gmBH5UUvyPQTzWBDYiJcrKk\n",
       "vyo8W0TXNAm8GjEv8sS9xl1VefZtBD27mnDsUoJWzuhfN9kKv9fII3EIwjamXnnC3DodYxnfgR9R\n",
       "IVNI6vbmxIpCTeVpzNPcggo+9hV53Mon/97333M9/5RDRrl6qhnB+JysRO1Ds8UtWFzAKdlz9Ma0\n",
       "F1R3XhK3sQOGgfm3pHWiwjIXpSZnDIXrteW/r0TuCjslGXX002iAdSfsU/sulkvzWp8qfvp+74FF\n",
       "4jIdhvf2EzDMt/dq+N18edr1YyUj3+ksFBysIqtUDce+Z4wRufbKS9e6VRAeQUedcTrSYe3Fsp2R\n",
       "5GiXU+DXd/vDFqNBjxcRg1VAw+rdNYqZs3qB1PbukmyDlnmWLDlikHs32XTIua24zNktyWci1Gnr\n",
       "jJZZ9TUDHinkOGKmx+YpKcPA6mR8ObLg+6hv8Jo+l2XYO32BA4FROIAK4fVnIMm08RJFFyFA1h3R\n",
       "Z/SyJ/3foPun4NdbxmLOIrSg+BBljOOM/Tmcd6HTA2vlKzspX3srJEh4UB16BJrbBWQLMU32CBjb\n",
       "WJq7Z0bz57GU4JrAeIrzG//gUz86K+i9ARZFVI0QIVhOBX+7HZtu5fxjj2pQSjLMZhqt99ckWaDj\n",
       "uChkXgk1zFwI95mOiSkzGn9TxitCv6eIfgYKURPdw2MLsJAs7dLbbPLHw8Oo3rr3z8bIlX3SjDtY\n",
       "F0V0h40vnLVAX2Uy+8vLIZQD0fQJ91WbzHNsCMVDyd0QkZABr01yUkeeYzg7KZDrDagXP//oPhjz\n",
       "Fq/fPgRMxFZSyqdUDnaLRdipjRb8jqBAUW+Jpo6Hm38fuYeWN3Blg5kEUrAfeCj0xgXsmCe2wdqB\n",
       "VCBZuYIeIubgTyDZXWKg0Zlt/MX2km8jJvy61PHq+K+UCvweaQo8Mv0F+P33nmlHlE/9wAf3Ivfi\n",
       "d7FMwVGeAjjr2CEY0qM9ozufV47EVDdu6iJaq/82VuTUhgtDK7Xeuni+1cTMvVV1f4lYRwBBRT2i\n",
       "RttwZLPfWLqv3bvbsLy7D7Ci16Xi497vlmfRR8Z7G8LKwLAnVbK1vY4KM2ncrAHz3bpzIf8+9TPt\n",
       "ZcV2CXkKGl4p3d6w1SH3kPVuzeIZpcVsE/r85SZRKthuC8hArHmMxKuOsJ/sNt/g57sWiFOYm8bj\n",
       "2BiQbYJdBcDxb5UMenhWHdDPoEHHfX5yWcUoVf0JtG1zH5DMhCk+FY6ucjwchY8seqq9nSGRc7WR\n",
       "Nv1IrmT/gQbr/DY92tR65T5/8SndLkvR9bKLa7DvdASuusFUak4Ryb2MmstX8oo2qWdzojhvcIOQ\n",
       "v+XS9SCHP0YUYD9yQWft68Y15p9bFhx+4BS1Q5/a+B4HTn6dapMW8kST2fMXRwEGky5d71SSves4\n",
       "soiE27WV4zc6W65+x0KDDGxKx6U+/pwy8lE0dAvSANfqnqszBeqgocV1xlUncbrvsqwJXOw/ypwg\n",
       "rg/Z+h7yKFuqn6D3mn7mtIk1i3EiHIAAAAMAAAMAAAMAAAMAoYEAAAYcQZokbEE//rUqgABIe/oQ\n",
       "m3NIYkAAzOAcb/afPxJgp/jBaDOk2xoduxp2tfISLWP/VhwyXPNbWwTqcJFryTF+jAdV7pALFgNK\n",
       "QN/D2xtygHNqdqPF9lKYv+F0LLhLKG3v57J4dDMfMayIouDge/gaWoIzZIyQemJKICJtJCOvKVO0\n",
       "UTVPscg+Sr6ZjQ0N8BuRhR+6hWMRk8hDLQmxQZeaXLG4Gtbn0x/6caodELE+JCrZVdUST9/5mJmt\n",
       "dcuvrEuz8VSzHWhQX9a5Em+Y1QTQH9dKceyEopIfVG03JK15sAuWy46zwxCunkhuAR1ztjrxDIPW\n",
       "Ce+ZsUTsvmxC0LOB1+HVpCpFS17iV3j7vX7c0AiitqFpmsyjMVT6goEde4GrqB6OnhdemlvGYPBC\n",
       "UQIWNJKgtJcV37auSY5kg1rdCnW0wyq/wCIwSyyhzCaDEDy3TkKLELZnuG5vYDIm+SWTagVeLWw/\n",
       "m9qq7riRnKnchr3D6BwPJ+QQbLov0J6gmXq9gdUv3o0nwN9NZSEWmiqfn2eUPpzZOw7MmaekWE08\n",
       "A//46GMXNLk5y6OqaS8/szlyyIVdk0000883C8Zw8vUpRpMj2L20k8ZFkrnomfQQzvukhKk2Fe3H\n",
       "ndX/qO24gs7RtfKpdC1d6pgAbkrIdD9Z1xXSsYP+A26NTdSQk2YOCnYfz7iyA2qE9NVTUG3GbXBL\n",
       "mM4egyoAkbUdXQKe53SQqv6/wq7s5BEpbcvatDKBYXj2P/lHA4iU8QppX6FsWlseIKHfXTkXKvvR\n",
       "g74pY9vAWCloaQOzWSiEHe1cjc0HsZcnJ/GOBZ6gcAR1XUNB6VVGpoS/jPSMhOx6ire0NMLB2p7S\n",
       "xWLlfIbLa8aEyBe8ZV7XcWbQ23Pbbl7HnMyqtG60A4x2MpxgyLg7Pjko2c9JcCpr3eyxd1GsYX4E\n",
       "XQyyfPhJ/cZw2pGHhGa3fvU0Qzhsv4p0LYekx/CUfpbGpGGqrsErLi7mkaz5aV+HbRoKs2eQhI7T\n",
       "zcZ7XTbJpL88blz15IAfaHClNFV7Mp4tqBr4uEM/yY5ARcmc7UWBzj3DfkAM3aQXaX2U21m4WGCn\n",
       "97smtCRwoNQLraoajccClpmoQnFzHfba/m/yWpcUkYPmq2h5BKPjyVxKrKWHGYYjXwIa0v3uoMIX\n",
       "n49S39MvG8Liovd4LaIO0QfUleQaEUuKqp8ZM28ljFzzC+vWOykB19NcRAPFXjSlr2XR4TkvBe6N\n",
       "aEtbHrrZF6ST1ZeHgu5dQvZV1ttDxg4uLy5lLaXhipUj+q+ugDNXbkziHP6s2nCZ/AdR2SZkkylV\n",
       "eu9jl1lP/nVUjlv12UbWcoOnQXFaqenB8NGb2S1HAZcvsHCm3R6v+hewYWM5MrNdUPsQn393H/od\n",
       "VYtrrOIa8rlS3a4G5gLs5/svJG1KIOpX0Z3Pg1FtJ5Z7OrVFJrFmelyxqMzKl+SxZX826LvpXBdI\n",
       "WWvGG4gyqDfe5LIbjYi61Pb4IJxSrxhzfObk5XCS2jm57r7FDEMPRf8jSh25bAqXi+fYIpWFesU0\n",
       "EdMj2CjPZihGFtt2Xk7Y7XZmk5C9EIrQM2F8XS0OmSmRyREw/3La1h70db6YnbsdxwULW+DmPlRF\n",
       "pgJf+VGHKVPa5OZ1HrbNC1EqXtFVBVS8/ix6h9k7UPlqek/hTDMJr5izkEXvTyFI4yC0ewn5DBC0\n",
       "bUPpL/YVUmhmAu6fsR4/WRYIhPdrbbGg3G/zAvJLL4ZBMEEwKs68UimdumN2upkx6+5ABdLVwlnM\n",
       "f1Ou0GVPuos85mvfF055h6EX04rTiQeDuu7EZcQw1L+7TSrbCW+hguRHN8KeJ00ItWcrbvASHes0\n",
       "du/kic5rTlJ/sV0mb9cEHsarXptXxqWF2mjGNGTCEmb635ZPjxGmdeBzoYtMNop+tmwiwe+VxA1/\n",
       "xKzBRwqqqEjOhZZdULW9LMenXxVOmhBmBrhnLLoq3Lpnvdsat/kWbOYfLFMad9cxWFePgrnGbyol\n",
       "nR7pHrVPUTf9gekv955lVRm/G6ib4wwz6c8i1Kkr8mdR8jBrXH9oBs9+s/cR/6UAtuy+04rDlPmw\n",
       "XDAEU72JPo88wAAAAFRBnkJ4gh8AAEdZLx2HZVXhCMtkQkCCkSUJYeDCuo6E5Ds0kmg8AAqUJdJ0\n",
       "92sITITB/IuMZYQ3KvMRQUXQ2EIT1sAHC8i7nogDahUMxsyvTdoAh4EAAAAqAZ5hdEP/AAADABkd\n",
       "6/K9676AmBLAPpAAJhGzGHK8C0v1uPrvXJJRQHzAAAAAPgGeY2pD/wAAnyPmoChlq/+RYi4HXa/0\n",
       "A7Kjj4Huav0FFBfUWQsCuuMBweLQUk2aV/Jsiw4AACfAExLhAARdAAAAMkGaaEmoQWiZTAgn//61\n",
       "KoAAULtXAFPENUHYAJfF9lAd5RlWCCt9FoAAAAMAAAMAAG1BAAAALUGehkURLBD/AAAWIrhmIxLG\n",
       "WU88zTDHF0dLRyQAAAMBafQAAWJQLsVltqApIQAAACABnqV0Q/8AADD3TNpQjfCQIPvyfNhjgAAA\n",
       "AwAOzAAD/QAAAB8BnqdqQ/8AADD+O91I1Svndt5zdwAAAwAABLNlZOmAAAAHCkGaqUmoQWyZTAgp\n",
       "//7WjLAAE58RgANmg1yjwRMdst4J5u8Z7YqhJbZe9KfovAi06tHlyQAacbzD7yECfKQP5f/ou3v3\n",
       "JSvhVlO2IieyHmZvYc3Ty9AsCaXm1KQIz+dQj295fFUp8f84ffQH0ncBNCVpLy1EeO3Mgw6kMh1f\n",
       "ZUBy/2I6NBwwIpocwkrN4UyCWsqcxzcvSgIHyemLj3kqSSMyftLmLQUGxSJFWklMfK5cqvVJiYKN\n",
       "JwpGdFyvXOdkwYSOK9QRlj4SSD8bC7Le3Fsxdz0AYijLfJw5phCwfdMTGu+MUJm32V2GKEQbjsKB\n",
       "DH4xdTF0qbkjjevmTg8TRVFuGfU07yc32+0v/86DbAFcAeZhGpBETWbjzGbL43UcqO7gaz+MTnVH\n",
       "9QyRkpj9BaWnNTevDUoBOMEUiAN7PfRiJImJEjVHSuRiA9Ml1NIeNUVuXBiZnM9eMxHk31RHgLcv\n",
       "yZtYv/8i3G/0MXf5ilBX16V4oWQK08VcqTofMMH5gRP1/e50gO/KfE/hw0kuP1s//ObrEd5aEqHJ\n",
       "G+z6t7CcX0NEHr/UF43lGtEqj5i0fjKqieK2lmAQESREUweHRbuSmuNiu6lN6jUBMDN0YzFLt3Hp\n",
       "utQMrwlHRxXcTlO5h1IoYYaAkTYJkHXvDzzaP6GJgmuyHC9nXKyJLY/PhufLebdyBuhCar51t9jp\n",
       "mmKHcKpYkarka88YPtKxCZ3dTm5wm/UcUqMCAVYSEStQoUy/fHfFxhP3tnSBlYrV+fUnd89rRMJ0\n",
       "fPvcsxvX4ufUTZGuXKtcH7+GE3m33v20cqon/fFvyE85dWlFkPBSJcta9OTgRd6YqorqRgy6+jWJ\n",
       "gzIjdWGohrVcHGTWuw2/Uh6d0deHsCoojq/kSe6hskOLbx79SnQ7GjL3SuP3m1tCWDKQe6Dsk76c\n",
       "wgljo1110jVF8GItiSa/5eumeZr9prOdXruSO5+854r6lNu+7G9KlnFKxXOuUYmmv+16rAZakljg\n",
       "rYdVXLnIyJF9HKhUOSC1Yjg1vIjemIY4m7pzC1/f4qxSCO6QDfHQVhWgqgQFkYddwNHtJeiVBRZa\n",
       "guazTJ7iFpye1kW2qxWIQE5H3n+eKPixzsbsOFV7a/0MY8cNv0ZE9uAdLofgmjvn3sKFQg31d1Zu\n",
       "QL+uOMpqzvr5nJU+WeAWgXIIfy9Zr8gXQ+qFnwdnqRJo+ThxqXq29juIefV8ZIp/6D/f0mEpEu4g\n",
       "Fdjr9uKtkDqzWepPKEOT/T2qQ5XBHIbqmLEsPz4z4mEJM3NdIT2bt75SdKZYBJ5rUd5SPtuVSPFs\n",
       "rTnFsR9sXQycNDWfz2EQvsk/FEeP2KlNT4tG8jN/Ph04nzcqwdHIRuiswJrXk74fGTwOLPrY8OOg\n",
       "acc8zvJT6F7kFUr1xdOKjRA+f8Qo++a84k3Yev2rIz+oz/eB3HIssspuW/mFpHCkY5tF41Um0AWU\n",
       "ptCsnKz6NUIExLL0E1zeRGys5UNuhW2rEkOZgmsaff2x7ipYzUZzqPeOwNIknVSBZ9VX/3p9dWN8\n",
       "y2qreUHWvtMqlW6dlPl7S3C3kgO2TvQwviUrU6mWSXPwAE928EDNf+svg4wn3gNaivoKQuou1eEd\n",
       "ulvUCppmwBCsbQsioMxOgLpWxBRRpbYbhbk/HicC2o5OR0mtB2g6crKh771V+XzuLR8b3qUQAr4e\n",
       "Uo+Ezd0dd0/nyBgw6oVvAeIq34b3iUPLlPl2CRH4vixVO3jZ7uwwVqHwwCbdwUL4w+GA6WP8Zhui\n",
       "kOTmEG4ZIMGmO1w9yc8JVbQ1p7pfMRnlN6+u0tSonIooQfyIUSDH3sQJcWJciqdjFEUpr7ubnPMw\n",
       "l/VTsxkdoO5X9YkquV51MGpI6Bsm6gx5EuGU5p83UzF6E/lGvTPxxql/F5qS6sCeOvICvr5mpk0o\n",
       "zn1zQMm1UG0fZ5Szztn7gnG6A6Usp82rop4Ihhr4qtGtoqrWoUzMJiXtoj7+pRlGQjin3Ocdv3Zy\n",
       "N5EMo3oQjo3V7t4Y0bVgosXTuIi5FwX5sORisdnGJUWQYeEzLYY9/TOsgoUZDYJZ6JsXw+X4Y6bX\n",
       "SFBQnexJTYuWnR2RfaGCShksgS6rsHhdeWjBT68OZrY75PCdG35HDlVYHBM1lmlnC25lEYwUsoEk\n",
       "26mmzyxBHDxLlsGgBOa9LGmAwyl1yNA92Pc0AeUbntzns3L0SO++Ls3bNocLUS5W6k08Of6WoqfH\n",
       "RsvQHYrP50nR1q1H/atQhO9FiUVwt9srG0+ydv1SPMJ5O2+TKR98gKEvP9hARDgbLG1xPLLFxw0i\n",
       "C4q7Z7YY0z/6xaUZpIQyG85YEhYTCjErrqJRdZ0fhpEhh3kpZjRrP9eoKbvU/f5aOAvyr6ELw5SI\n",
       "enjuzTZSsN7abgjsh3CAAAADAfFsABswAAAHLkGazUnhClJlMCCn//7WjLAAE4UjAdKAGLENQk8A\n",
       "EsNT+o5OF47P+61jFsTNicl50caVRPSqZjtZ0HOFeYhOFrWpxAQWviluXL23uUZB2WI5xkBEbJNJ\n",
       "//dY43m4doBcq9ZrUuerJoH6LmaAPLsOD+IFQnW/wkXep/px3XvQmvYzCGeMD1GwJnwXQcgSziC1\n",
       "DFbetOlbN5RTEoPk+uleAD/j+x8YvdEm8SgbKNfaEjx4IgBH7LM6Z59HLQqopRpDwZ4OjdKX5+JF\n",
       "WuPW16QHMEuBv5wHW63D0WGsiDPeHC6YYxKz6z55KXY450UpTBr60TwiM4kXJxHkrwIm6iUks6DB\n",
       "TL7uS+b3jw/xFec6pkePM7AdwYijLJZPld6H0rTC88HBaL/yfD1aooPx8WVXHYDottAm/bAEFJlL\n",
       "Bwkj/UaSDv2p16giubCe47Jax90hmY2SM2UCtWaK1xl7sRRGg84apg4RXYCRki0Jglg7srRlH0Rx\n",
       "QYAQBIrkeKkaXJxG4UM3nxSpleSwlPFrqH8ujQ0CwvkKjrxErxvn5aOyJz+1EaKjGN4nylytXjQq\n",
       "ikhfXaD5LfKSyeUZYCKj3WVGglPfQfa3n+vwkeh9TF1X1ex0PPitWA37QknKVOIFl7n/dXxL5nW/\n",
       "1fG+V1Lb1Po0SNWVvUe3n+e6wlENKzdQX9U025nxVAFphOzdsdFo4P0bF/YeXrC080amJud5/tTV\n",
       "5KRCIZNHt7AlASMJy6+q2xpVsbPnWGk2DqHckEogCtZsrfquDRp2fojX9vowT43ZZ0DlK/VQb6O0\n",
       "sGdGABDLe5F8ny6iGbfSmdMNGVsn0+CN2e3zF4gRT40LtEY+YqxwFuy9ShRBEvHVtnf2nRzsuMIJ\n",
       "EmTbb41ZrQDbmQHUXEHMcv0E2p45F7NJV3zgV8ZNFbb+Jaf64JWtDe/7urc42nlUbBk6NiGqllSO\n",
       "qDF5N12SrZlSx6jSrY6RmMIqK49Mj4pXGW67XogRHXwR7mH26ydIgDQx09AOLccw2vtK6STYUCsf\n",
       "DovtCIxMLH0ZEfq4l0Uo89cw/wKeN2trAtD038fMA5E2hi5sGwvY/25D2igJMUtd01UZvdB6R5JE\n",
       "7l2NBJZrR6Q7tE5uS1R25q7XMjR81MP35Gy3XuHonGvi9u2W1ohB4+q/yPtMyWY7DTkqiLS2ucF4\n",
       "ZEms23yUMWAyuK/FdaIjfR6c40LUyQzWLmgYJEkAJzlxOWmLbfJm/p1VYuPL1PicJvMxEqaR2F3I\n",
       "XCT/BHvYOND+HCnX7+5VkSqH7/SURo4HsLd34atQz6FYnqxMg7LPcu5/kkRU8DNMfa6Bkcz/0Ru8\n",
       "pfbyNABo4Zdq6ZuUUzzKDjFGKDYpb2m0MCSuID8FRcOaZEcxWuRGc7/3+2m01Oc9kOrzwv3Slk5g\n",
       "TKftkMuK2uXsboJJ2tS2xJW7HL9BoPD0npiuzYMTgadmiHe6To8EmN1dLLOInrAxNVyLzLcO3c+b\n",
       "Fq9ftvBkscKoxW7UahEzTjlKorqdxmE0sXoE9N99qkXOASvDatuEOZxJzGnnuB4u8dCdU+gcmFgk\n",
       "fCzDyLth9wJqpMG5dl0Md5xx9SW26sv/qu5Qh0B5SE1j7UUSmQ4IVLw5BtcvuU7UNo2aJwgsHLV9\n",
       "W6LDJYKoa7hxm+ImU426Pwb3ls/M4BtuiL4dMokMP/nI0LmQyJzXbUT+KlrU9ZbXoBtlsmF1Fs0d\n",
       "tYoo+Ka2m4pTYYnQjP/6vsLOdmJxrWY8xDQMcHeBWsVFxJfEgmopSNyrJb7+KrK2qcG8CMsQWfKa\n",
       "MMcLkRHBXXKRNpZP0nLJUOawBWv6KK6oRrYISEmubiMtgLEE3jzw/FEe8nW+C+/COhjvRAi0VzcH\n",
       "WQYUqfFcZ+3tnERj3i/CFxJtAF4bGx9clX8uINCUExXTYeiL4ya5nzj+kayrV63tSeQ5KgqEmeVt\n",
       "20IfqtgJPmlrDx71vU3kOK1EMXIbaOSZ3IXek7GAo3n6fpsgNlyA4V6i9y05GEomDnZPl9uzv+MF\n",
       "sKKQmuKC/lTOMYFW07/MOThIDiKJeSdTtAGuuw5sp/ckZ6E3jhU4+YIx+yYqM1BTzIlrjyIB+MzK\n",
       "aiT9x0vLmV7YAHqqyKdqJ6sHK5RyGlZUMWBqBHtMibl1PpxPcBie6WDrOUVgQ4xgFblH4iX+kpb1\n",
       "QDuC8xTvi2EjXKRmSHVh9e/drcndV6hVMKS2lRGt6IZygGlzVSrMuSrwfPIb7cMeeo+0xm1nSy1X\n",
       "aOj2p27/3HWT0W/kMyY0sVVUhZOKrtQ82ITAg/ugNX8u+pRrAX0zINpOyE3I+EeI0qsthPlwE5Nu\n",
       "itGHE+Ld4qvjroAYUDeg4YkCbC5BfRO6NR1G0NnhqQys5Toq1P2VU9n9TjhLGPU4ZKI9lvwjGus/\n",
       "DcpCwPk7BCiMc/0LAI6B6RVmqPw1Zkttnmxd9o0ZP8aNzfEFNhZ/5QmBAAAHfEGe60U0TBD/AABf\n",
       "aHTLedJZmmrwrL/pdADj3m8tzTPDDzNibh6xTTQKoTYb+GRFCdKTat+oK0E49zukczmY2ciXLzRV\n",
       "TtGYdfhZhiOu/j+CuXSIpXaHrurRtAyoeft7oa2c4boE0ZMPPwg7cCnS3xVtLrbQcE1ggbgzNgwZ\n",
       "E+TBOtzcSW4It11VsNDuCAF0FfHEsOnBZGoVkzyiWi6rmL57NCaT0EfVUKAVApLqJj+q0WxyYRGl\n",
       "7hqJNoE0RUxh/25twIiF3LlPU7E2sn+H44glDiwyR7fMm7+YsjXVkMX0VgFgcQ5iZbbPIFL9dEUC\n",
       "G/uKa22VV0diYc9Cs4aGBhmyaCU4HZZEbWGg6d+1c3qQ5BCo/njombVLqDWTTvDEwNPlH7KKeZ7+\n",
       "CFV3kgaNZETK48Dl+j8SVeqd2+xRcGQiWJP+8SAAZrzdO/W2M9Qq3q+Fja9+a2MWOX8yXIi/dgDh\n",
       "cYcOuoi53wrDEGK5GQNnh/AKiPJBWD+bdN6TTRAEIdrRFZhQiiWqIoIln3478Hz3BukRSS2akkhs\n",
       "KOhZTgyF1YkXQefmtsh+GRNpqyL2i1gXlk/8yGb5t9F6/XzcPC8MivTrWzIyKdHhBwPn2KWPjHzO\n",
       "CFIUqVtpbGaL7mUPpgLDm8EzJsKmYr0jFyue8shnhXiuBRBQIJ84OAq5SkaRihrPy3EK1BS5lelU\n",
       "bsZxl2pH8Dc/xR2m/9Rvyd+lpqVZtKJ9NCwdCKgeHFO2KjD6SwYjjuKcKaAfvJeozxAUeMdujk09\n",
       "bwxAZXBQ+LW5w9T6yKrrh4tTn2JMWxQOa3E5iXGNmA3VxwwIu2CRpzARahN8fDUmIMXlcM44mU50\n",
       "hHZTgczTEEsFzrec0sGIofCqwGhwpB76huIm9v/kKsDs4nx3kThFchgUoubK2B8io6ksuluSsSLL\n",
       "COJiDEtmcP3NsZdtz5GkZXkgoUsaqM2fChRWyGOrx0gHIb/LzDdNa8t+D82tPuwZGCBzSjAmkoI3\n",
       "1lGE1rdD9LvOQzVy4jbThh6n5m2rhzACArG5oGgctLBV64zeh+5p17PT8pc0AZP5KF4n/iSrqEXm\n",
       "HIboC2dc+PkeMCiXzn+qIDzITOJolqQ1cQ3o0qyYVJA0MrtkVEKtWe++UE+/yr5LavpjExLYauVm\n",
       "GQ22c0TilF4QinfFOfoiuCEiGwP4jYxUnFoU3pxM5up7s/zQQVOQmKYw/2jmw5SJjeRSRBbFYuHQ\n",
       "fCaWGrF4Y7ULVKdbR28BIhBCHf41TRXmbhu2Joyx9rDcwN9GTfK7oamUduL8BP84rY5zwcvoNEQC\n",
       "5dQzL7wYyyF1MI1dbaiVo0aTiEWRasrJyY/DmjDzK8oGq0flQ5rpfEJ5PPDN3OcSTg3Ee4P2/feh\n",
       "S9hvjCMQLSiQZNJySpniW55+s3M9eCTlcRoEgnGF08Rq4XhbI7CCaKxqLeU6d+o3zqLQYFnjLHv5\n",
       "2gTr9dRxwyM/L8qZJ5dDaHCAh3uAe77Yuv4oRzGpNKQO3cdKilhAEDJtYs/5PtzlTOfOuU5ICrN6\n",
       "jw96n9bS/zeTMxrTDfTMFUfj0yCKg49wj1uKFSp+IjS0o5L6NIM0F/VJZgnIf4NRiCGRzxmTyzqQ\n",
       "ILwddmW/iUnQMQidgcWP6+GgXQpmZflJsOYZQfg00b1E0F0T6IT+9nSjfoc0uCOlKgv4tDM32DxF\n",
       "Ki8WWebu7UlqA2zwJtjAj5K0chnL4rzvt0LsO/6tOws66yiMJ4oaDciGBFV5Vf0njI9kPbrsn4EJ\n",
       "7XbFqmIylnvXHsUcUyAa2osl0rzhrcaeuaHhSM05wLQlfyo+APsr9Qphun9V3TOx/5/NfDWhBS7t\n",
       "I34EpzxqgtlMaJUjsbUzIyXO5vzsDQYNZcwzj6tlm32FxQ7bOG6tD2ITO90wuKG9VrM0Vxidy/4o\n",
       "LlSVve9F56/pHtrmTsgd6F6sVaNXfJFlb81CXAy3tMl7e8pv7KLoIvFi88x9TDXGC09KGFk6aUJd\n",
       "1ApIRkhQm5vvCYSZtR/DqAM8xTsyUbIXvb7r/z2tVzOLzTu3YlgoNiKftIlI2v1DpfPf3hEniVz3\n",
       "JehdJ1nFA/gHf5SpRBMJQZS06yFQARi85cgHW1O8jnzSZfxkTdmTU+5PtBb4L034Rkem4B+elZbT\n",
       "iYpBkahZm7ZPdS0U04oJJX2mRA371qfPVVvqcSQYfTxVC8lvzq0qGXVevd0gCSD30IwP5ubmPgHF\n",
       "PH8JXtC3edk6Gjf+79Y7liVukx8IX/76ZIg87wY1gvQVmy3hSqklxyGGJ/+Sk8N6NPBKzAbdYOLh\n",
       "JYaS7BklzWq5tfawv0u9+mjr2FiUN1ezqzFfYWGgrM/SqgFLhkEnYC5NzmI09c4BShS4wMyYZDFG\n",
       "xFgiqtw6OJoom3OXxKfSqg54Vhvzgc/NSdA9lQi5uYOt6tfUCdheb9KrhlDLHA0hOcskQa8xpJ2p\n",
       "Ceagbo9cKDa7+doq9p8pRTZH6FbQ9WBY1j5sdfjiJ1whn0AVDn1p7j5Ty7UNSpakefEn7hfLbtFH\n",
       "AmmIa8EC+m51auftPbVnqrsorDIdDBqQAAAAcgGfCnRD/wAAzd0YRGlGoApTS2bqmL0WJJuifQkK\n",
       "zhk0bQE7T36cQbsW42OM7Nqx3ftbh4SlnfugC/CZSf//rjesytj7gBaIRt5OPu5IH27AANywFUKD\n",
       "OEsYWYfpqZFkXozpM7MLo5r1rC1ZK22QyvpxwAAAAHMBnwxqQ/8AAMj45qTFuUw+VAF8y4ItAvtS\n",
       "uPtNk2XzQDIHTDlY5ON9LBBne1dxR66xsr6vLm4l9Bge96mXfFZIOAcb/TzMAHAsmPIB+gdVruiY\n",
       "NPhalQoM4dahhB/aPqyknzBE7MM3Tt7FqkcFDZF2YiXhAAAALkGbEUmoQWiZTAgp//7WjLAAFKMq\n",
       "X4af8EbvzRzS9jlnsWgfNxslwAAAAwAAMqEAAAAxQZ8vRREsEP8AAAhqHx28qTNxx5GSv2BWWzB2\n",
       "GGXgOPEiPjKRqkZAKEAAAASq5KALaQAAACkBn050Q/8AABLVyuh17kppeTEON3FRysDbF6OSbcdJ\n",
       "o8aYAAADAADqgAAAACgBn1BqQ/8AAAzfjvFNGzn+/H0v7iY4wSKXZDIFC/ijxtAAAAMAAKCAAAAD\n",
       "w0GbVUmoQWyZTAgp//7WjLAAEp54b/jHQIAImuTN7DKjifhJ8b4y8UZ6lOn6cDHYBbvgzPz28H2C\n",
       "atttWS3Fv9qzHKTJCgLbpWihcvoMN++YZRj9Zmb1YBRLPmkcRc7Rbe8K3UKXUin/ik0q9Q4cPhhh\n",
       "hQn9D+AS2kP4LWKqmVx/eG4nb/JCm/icYbbohk8LWW+6AQEYU2gsglaFVd5Vp51lsf5SsLYA68ao\n",
       "fpVQGQQ/96TwutOGwnGhFH7yjvmCkTdkWJ5HXS0oqcQ+z8/DpjGHrhqeEpQDIAgKrFvqyUQyJjDV\n",
       "uVWnqCJPwHprFppQd5qxSqZvVoP3wb29Vggz5qogml1eFUq1eqJ4miw2W1CI3zxCAcoICDjoACwC\n",
       "0I8O2JVz7A6pRnnwJrEmG5eVVoQjsz3ogJFP/IajeP/+lFQkK7w7q0AG9F8SzhBbPzWLTj/HyugV\n",
       "9pECkJNjiEuzX+YTOdrvTU/nNSQcxpTmZbwYAcgfLj46tqzUNf7WhwzmKBfFta9/QdligIgnQ+CB\n",
       "moRbjNazM54PigxhcjSbL1sZ47JeEm4KP1sxTR4bHyN7TUosakrGjY+vVuc9efP7zbudjhGiDbiD\n",
       "TZAv7LxEFAolVNdWhsjxgPmAqrLGB/6Zfq7pRHZQN516/WYo6E+LS6OLtCjrVwNAQ4MnBSPObAqW\n",
       "e87u5GxKKqj4NaNh2rbrffzpuxsFC0gZt+AZLNxAqKARZ6sSS/b72EdvBvt3tk+/0sK+t4bfw4TZ\n",
       "nHrKUHU04V4lqw8162Iz5hku8hpsukCUeeHRdGmhKJATPTewUMxcKrFjS8IUuudRGX3ffX0GlqvP\n",
       "zHR008ODbnWcaH6A8/L62mTIDsvdpxL62uZwD++PGcs2qL928bTP+VH/IevOIirD2BuWt+Pme0BG\n",
       "MMainF0t4se64QvtQMdfJBcIG5tD8/IUrgew9iO/5v/3gHfzijN6cAHHcbcR9hUgV5XCQAmM01Rl\n",
       "42YoPASx+b3oOzN+HJwC+EZSMT1/QGe3xzPBcLrfhxdkRV5vGdHe+TQ6+EVlTDRWW43k01TvaWKk\n",
       "0VmnFEdK1phvui9u9nc1j+SVtqT7HZaNYZ1Tp+Jt9B5CzIWFlp4H/BskxGezIAmZc9nzflY0SmrQ\n",
       "HjoqdCp359/uYkOk7odTIwj/8w8VqqEC5ecv9Ev7WMf5OHVOahVETGuXGPtFliuAd2CPlj0hMyf/\n",
       "0rlnfvgigAMHVnEhHWW/y+Po/JN+v6tbpqiZdB25O+hsH1tRUNIkEnCuQ/nkFUPuZkDegQAAAKNB\n",
       "n3NFFSwQ/wAAWr50zbXagd3gmzkcnc280wA2IxHAwgUQ36pIz4qfvh9nNoKotNaBcUVLygYVJ8Sj\n",
       "mSFWm1TNNS6HixStDBw9QA8BsiEKNz6rHFq4Xi3dtz34nwD7nc2OFx1TfTpKaxxyZYQbaPEt++jm\n",
       "I22isDGjcjnYXYeKPt+kLV2ehOmPuRY6yY6xGLETQX98LiAlF9X9KXEATQHY9gM+AAAIggGfknRD\n",
       "/wAA2xdM6r7ZI9G+ABOtmdqnENjU1VEVuKT8glf08RW9adBn62xvE1YRQuTsMhAg8raBLc+RzTkT\n",
       "GfFEV4EzSCuKlWXsBl/W/SnHyxdor47bqpV/cekjHJdIk8eAfRYM4Oa2wwg2/Jy1/hrg4F3QARCO\n",
       "7sG9dGLTQbywi95ApzHQWf7I2jk4UmPu7vPEWqJqvFd1mrJHC3YdT6vNCGlewQIz8/sK+SJeFNBK\n",
       "bKYAbSSR1V5XxDs1FLrimsg+itsLhhV35dDozTCZXbhFjMhzzZuTfeTfbwRIpnw74Glk8lDqH4Dj\n",
       "mB3cBKhC6II8ZGffDEGteLIB4rIqxAZPo4tfMXSgOrXjQEbZV/VZc1ke9aO5nrNzXROpR7LYCS5B\n",
       "Bd/NDYRYt74TBwW03bZxWTbLgbM5lCM6fXX0MJi62u0jsJUci74w8+otEBwBQVGgfbZTePYHDPlA\n",
       "fRsfa8LHerBrJtGPrvl7cUpAhROqh9oPrOOkBwkY/84cQU7ZAEaKHVdaSaHFWf4rLft4mnnrPKVb\n",
       "sXc46uU26bad7X1SxcXC4c6Fcu1DoxhDgJrVR1VdihL7E4dugoMl3mfw2KXSCcivzJlDuaqXBhiQ\n",
       "gA0oYSRmDRxQsidM54PhylksEawbc/PJI3HMX8tcj6pnR7EKmvmspTl48smXKeUHXpf9tNmQRvUn\n",
       "ivAuwpy62t9SPsIrL9A0NbXk9idw8x+Ez/36UclwD1w+u1s1gY4zWF/PpWZsLiW/hZntIPt+lru2\n",
       "xB3h7jYJymGXLPwOUvqo3wtTdV72uXA5/Xa19fHvJBLjTHuwFNsRYAswp+bOlySv5+zCJ8ENxlTs\n",
       "7dY0XTtqKI4RNq0rifG17QPWKl+exZnU5Sv/Hel0b6pE67Sfl+IBGtGuQ2id5mqoDYB6x/1v25wk\n",
       "ZIyJc5ORd2ppIC0B8K12Fxw7GptdO6qusZm+itlo/47ao6v/sOEsh+lLjn3hDvZ9tZgpn2bJa80f\n",
       "cjU46ImBOryMTZMYvSQx+yXBhayZ2mDJAGjPGuucS2XlMa5Zs3Lrd1K/LeEIdtqosOVRM9LqBUnD\n",
       "OVSc6CsaiBRZi2DuCHEx7hmsTw1FNqmUpQ50fFED0J4W9y7hoOnir33IcguIzqHDcr7npdJTnb3a\n",
       "+vDNzynS1DBZ/P0lrVmNRrKUhqasTotTko94WTydDxcNGfycBZetgTrywqaGd5Bqv/RFIH15z6t2\n",
       "29Rc4fCdDp7C5+MkX13JKTAZMh++VN/ywGg95HKOGnF5DTL1sqm2wwpmT4Gtf3bVDM/rAiHwIZVt\n",
       "9ZV5THwryoEctjdu1Q+PkZopMXMIz4BmtVE7f/ECoa0QL9l3n3D30Qde7+WFA3DBZRhJus71JHnQ\n",
       "amSd2hEOEzh98sZoPwsQ0ZXZ+rNqzS8uASqgidvUCyXbc2/EQdmFPxkdNmzUuacWxrHEEqMBnlaa\n",
       "FkU2zXMGrr9WpEgKgkyxMv7G9gGpt7fcInGgpkHPZYiz6KrjBhvB/gUzLdt1EVHAeEUL2ph/uKR3\n",
       "bRlCgYe8NDbRkN2/xpvgtFWl6Ly5iwqB5pjwxw2rLcs1ypIG3eKjCFpS3YtpsPJB4TX4fKvBFmyi\n",
       "RlO1rJaTIwFpMJz7oTnzCdZ30Vgb6ywulDQrigZCNmLwum5xheV0DUphFx62eD4APJwo+4+TTSNz\n",
       "RIHzNf2v2qdeCXuSGzUT0/VPAbnEEvfuE1NYAe7qoLBIL4wyTIw6hneyLvLYXWl/NVIfqPMBjj5L\n",
       "GGfYhqW/pr7WQ7KTvMv6KpW57Ab1Cdn4Zbe7/LTtD439jtFESmSACDwj+zQ1Wh0/hyHjpwRuZgB2\n",
       "n/EJZ4QRT7zxvDUgynaFzxnd9+iSsv8JSavRYB8p/6nCj4tgS16wR5kPvJdu1BGmQeDbtKHOPPhT\n",
       "TxC4tgXeUszJb337YIY7lZUHZBgyMC7bLH/KaYs2igO2lyXhAZHGSjiJdT+vwPR3JAbCeYSE83TI\n",
       "1E9oMziPQi+/kohxH+MX+EZ73UzASiZ8KuMjeBnoO6wg3g46oDwb/izYpbHQUA2n1FXfGLyfJt0f\n",
       "iLcMz1BgGandhAWM0vD82Y2svHo5afdEY4ah+i1Z0TczbqemCsUjsRki8oNYfUtZaw/EKCSoyaPE\n",
       "I/cXIHmIRZlifJDAldcyv0+4zNHbban6ScMddQLZbIB2974p8t9AkwFOqBZ2bgV3qOAlR4ycskCv\n",
       "OdKgn3d357EwXAdPl30TOC/0bbfyN+O/wlFKSCPpF0Vzsr9DyyAQRohwFgMCJ2+PiyCRLp1uPA46\n",
       "JggEMZA5LhvvzDmpyq+/obDKNJNbWVinMoIIf367SgOEglJ/fpNAaG/UzbCo3jGLqTjww6uA7c00\n",
       "w1ey4Iw3Bho+/1iACxRsKasp0lvX4K3GZoQjWIb6D387PRprhGQQsJSP5szX/lqrF5Bo+zMUrqb9\n",
       "8QMdPazFm5WLuUhGYOofpMiLWL/n7K4b4cuKIMi1Q4vXKENt8yNJJi8KQPj/hmtF/0rbHkeLWSgO\n",
       "1AHNnWkG+DETRrAL93IzdswX60XsXWYlOkAqybva1wY8ixzJRFaru3VZ4kWzPA9F0dTLmgdNqC99\n",
       "lkkHU8CjserFkN53ZmzH0k4JcLsfhxTZYeR4kEmcrHI6yfkkIn0/N+/G+SNgR771Fg9IMZWxlvsd\n",
       "5X7zjW9xpdtM1nFsaG3uGv4oeU2bk3YRE4fSoPD5YP6tRFAviqYSy7QKc81oKp/Jl/z1xVK5luFN\n",
       "vUYpJUttVAER45j4Ti7plj1zpRaJxsfTTrjCjC3sb7t8xP274GXxTLndzGrcLDPfkURrOa1WVFbF\n",
       "Y2cUaC/N/3aI15TzsNo9j+x/vbrud1ink5QNE95sH0KUKwhRpjldLtytZZrBCgUg8TEHiP6+CuIg\n",
       "0K3BimWEvAAAAD0Bn5RqQ/8AADy9j+F6xx0mfDZydPAnZdADQ2JM9bHCiXwkwrV7LBSx+AIoEBUI\n",
       "DUTMspLgjL7XEotvKELBAAAJEkGbmUmoQWyZTAgp//7WjLAAE554b68n6S8ADR1LsvxUaYqML2HS\n",
       "2sDMbJkLfxpJCnDuF2z0P/b05OrY82sVuT3xCZCpKhRHmnXcO9q5lDe/hNr0WKDvpCwEfpJT7lht\n",
       "IbKa7ze0uAuI2YTVEJVvnO9ms7RuUS6pvbm5SVKLVsi7TifyxgUiimgqgb0Udsa91unjFlqqtI/g\n",
       "9JS0isYkarMpPTl6Nfq/FfJt/NDp2Um6R/3mVM/eatrOaQYzFf3rtb84imD+gJ7CUryB3MnSXtoo\n",
       "rvR5lUa4bfDYWi4KkN27cnZFBZK6gV8rJnBshCnTW/DDCITbiqUQNBBC7P6K7CWW5GvAhvgi9u1T\n",
       "mmTdeDENtuGYvBvIgw3QgdnxN5dsp2VgqWwq4GP97QinmlRMnFnRBr3LLpBwXCLq7f411cQYnIGL\n",
       "HV1BltkFw65NNNyBtrbEjpUpywlnfi9W+yYA+BkTOLpBNE1xEoLnM3fYUH+YRYULbX9vgnkKHezX\n",
       "Jj43k6fkjJL1zAsYHAETrm8cG96PB0SjDCtHsNLno/3q3tV6VPo3jGiwPbnTMY5bbNcCQgTaOtd2\n",
       "kpOnCsvwJJ5Tf2jF5AfpjvoQ5h7NprVtGMB+DLdupcxlGBfuEuc2ufjZW0VQdo12eY3GHImRYEBV\n",
       "EWBiEGyXb21CpfU1pE8w024b2XMIHXSqI2XZiKBEu3J/TI1ju5U+4DAM8FSiPZ0UuyDiq8Kvs17M\n",
       "qMNYCQKB1WmbkazGtZ94kfeQGHO2/fbi3A0GsilPndPiQSM3cHLva4bDR5uAYziqGuUSK80/Hn07\n",
       "LC3gBDHkvlxQicUUpX3A1yyettHMKMv9pSY5VS/CMS+h7akJCyJP3/CHk893TUpq/LXfR2qlshRm\n",
       "sdmbAA5EUeYkJe9auHk6WZMpU7Dt4DvmAQnvmuOiy7nUlk22uxGpRv5s3JmSereDbdM/Cp65HSaq\n",
       "OoAg6ITm5EzQJ0zk0BapX4P9IKRWxII3AMlN80HsLRhhWa/KysaEuuta8adNWIOMEJrttccmCD3I\n",
       "dyZSXD7WS0Y7kuwVNuPZyCW2M6lGTbx8wxX/dfCKzJmOnjSv9yRcbFRSjhoB+AEtPwHDNSYc2LNt\n",
       "IFQe0SOXEyTxa0XQXbS6WKLH0jHyqqrYIK0NLUK0JqlNezTy3nxy2e6D6w79CnP8sbrYH76dKUcX\n",
       "+oBAGOEiipf3fM+YQhhdPhKNWsA8Xxn6aNsgfmNXt0bw/icVZwKKrbp96wVYEriFxTUliHylaRv9\n",
       "dNhBEtdWYZnkxGcrBHwy5CiCEtbiTVOvLetMscoZHkRoXXCu3HfYXILXP+xXzYJ0m0kR92Zobzib\n",
       "EqeOjySLqUi44ByCg5wuKnSxhOTdczUxmu4TrKfBfa6w42l37n06/e+b8QrOSYgelQH6krIOLua1\n",
       "gz4I3/FSLCWm5x+rW1H87sUo/zvjFAq6cEBFqY3FYtVHmpiIonC8W7z92wvTdw1q2MYv/Kb040Lr\n",
       "ejYj0RVtwWHWcN1KEdjivO/OQaFK+tsDU+ScefsJNxEUv8kBXvR6GP51maJgx3YZgjf8hl2uYeeX\n",
       "CShZVpp9NezXV54Cj+mA6ZRzgBJcGAT/v8oSI3c8RLHtfIcgP2Bse+DrOy5SJqNI1j9x3vBzWUd/\n",
       "6MHImsPO4YesySQ0D3hBCnJD5+UZQforziSDmt5ipChfMWB1l0yyonch69fgzQv682N9BoJIzYrr\n",
       "8yL5zrSgIRfkuHYqbqwvByDVDMm/+nfvgF72V3U3dciLreFyjfMPWyb3pHk656oe5n98Ewi/3lr5\n",
       "zzmKtCSHJ/VxH266HAD/TAxevD8DvSQCshhtI4KNogglED1yKXkTXU9L0rP7cbVLN94ytfeSkNZQ\n",
       "Ocm/fE4yZe9viCeVNC/wvB3HkHbmvx2xycNjdR/tSJtZFUXj1ovozqfHkuDzSwEKcIqDDcM36MOZ\n",
       "TU3XmnX1Xe46lG0acg2avlLOq/CCeNFiWk8PfNCfA4L1nt2wc9l4ZfKdWddG4dtjtrkjjo3Z5Vbb\n",
       "t3VIlEL0U2DTRIpEZAZFCKP0TTKCtvDDKggAqVk5eWpEe8E1Zz0NZ5DJ/rfQAVoUpxyBHfDyjfqg\n",
       "7PdZtC7iAj/4+2axZbJ6VTPN/G7mxRHo9mQuXvEzr3blK6s1LUxZxMDsKDGYPjgtO/EFujmdO9YI\n",
       "dIWEq6/ZA1/0UZ696Xo3enas0ChZD71pH0eZ65vxSR/xMDrVS3V+srCRTZylt427LoB2BtJ8+/gI\n",
       "yPcLyb6MIbB7J/U6W4URQXoGXOYny/AefzM0Jd/eETDQyBdi0a1en4dpHVJfOf+/bwp0nU+VH3Ae\n",
       "Dm+ZIe9ZSaAsx0rxLFdqHmJd3JBeVP0nm9na8W48M3hAODne3w8KYBGRWos4Thq/CMC2ENWnC/HE\n",
       "dtyK6HBAmjWFy856Ntpar2Ul4fgPkhClGLW7NuZfFCp7FaeevJ+Gi9eZFRdrOG7bWnyoBlTVaheY\n",
       "Jz+xuxIJn2phaLDlCd2M073qLaH6tpgJ4p1QJuQiz/L73Pjt0He0M8QvWcKMAZo0ahxrn/qRRRe6\n",
       "4qyDcZyUwShTEnQbHJkwQ5g3iMRzwa6nJvPR+wfNoI9yCLCNrLkEGNlLbEsltJ9UhECucOSoAAtq\n",
       "dYE72qImlr/CHwtqcHQcma4yCW9c24F0JnRj9GmDLLqHB8EB9CX9f+ZZeg+RHyj9KRoX3uql+WZm\n",
       "n1CdCNdu6CW4e9Yp826MjZe5bGBBpHK6Pwlr53VjHrZyp52ZgDlrziwxRi20bwJuc8ndvnZUYv+c\n",
       "DRHZ+RMlYO2yYMy9sVXD0uBVDzLBfKn40j5/t2ZFQpvTiNaIMtqWkfdPSGeMaOSDaNlTlqFPY67k\n",
       "vVrQoNMzwDIw1hS3on8BIGxWkpJykDkzEcjETR++fHUDFFYcpYCs47M5szfuv0fQ7FrCTWEnfHW6\n",
       "xGtg+bauo5+CZUSTuGFFDyPGG0brK8QolxOg04fJLB6erl6I/Tn2f8ZTTdXmK8BFWrpSSKcdQU9C\n",
       "OMGeItJgPLT5FChFOdfCm7IjqrL/Kfj4qD1Xd1DOhpEAj6TjZZufkCXhh5JxpYHVF9sbYLo7rWgR\n",
       "z/h0wAAAAHVBn7dFFSwQ/wAAX2h0yeoQ4XI0+qeUhTynfjWzmkOtYXhxxmpDpEbpa3vkYpXbijVu\n",
       "Tl9YgCo6HixSZu//U4A6ZPVge/vgzbF2Bfx4cj6sHa1MB6D6zfab3wGqUbzGw8bzpxddcrymd5O4\n",
       "N6xu/ppBbBPUOmEAAABOAZ/WdEP/AADS3Rg+FIyJGIqdRkDUOJVeD6fcSmMokywR5TZIxMPjQwZM\n",
       "22o6NmwZwFilJ2b14ghWTsPvHCbNFcEu62DrVKYYJLAUeDehAAAAOAGf2GpD/wAADN+O8CXqp2+b\n",
       "nhHg259V3qJ7zixZ0FHc1pyLWy8BjFGpuWoNcOAiesJCAtFwQAeEAAARMkGb3UmoQWyZTAgp//7W\n",
       "jLAAFU44JbcnyS8AUHfgr/GXX/C1+yW9PgTA+zPX/OZCjgc7pgLQJ690odN/WULiCJO3BxZydjPb\n",
       "5UbIKynARS/7H6bk6DZUXGO7rW3LtAxMYbeL9pgkrsAtixFlX6U5eheKB7dWeTTmunkzjydj3hai\n",
       "GIOETq1j48kPvUAO3uiFmH9OSehfNb2pAlyR7K+16jzvQjvVidYOooyn6hH+TwmRQYf42GTW+kuG\n",
       "2tGldvQDVtdabaAxJSUd7AmdZUw9c5dOwYIN5iU7PkNC9ZRwfJVmJ1MQlz9cEaZubvlqKu1YSQVq\n",
       "yXHYSlmFyea447XtldhaRLjSe+cSaTxOo6I58DwZjtsLPvtbIpS8NaLSd2N06dnClsuSzbIRw3m8\n",
       "Gt4/JA7q/fYUDL0vppskAhTsG3dDFUn9Mvgk2cGaLktPGYF/mxvq+Wugb8rs++c+XxD5wvA1PEkT\n",
       "N/IdAYgcehETSkivc2Z7WRiBd8Um+ToqJElUAcPaF7FFmdJpn1AEOvsRedZGg+idllOFIRg6hiXn\n",
       "HDWBNhn3r4mzawWv+zYgNAjj2dIA0i5aQ+ssZoOBT3bPc1qC23r367MAn/700YOcTGAS97AKnOwA\n",
       "iLLQ/K4eDwRgo+2Tr+hVS/VL2kTzsGuN9mzBOxeBcp2CI8io160tJ9Z9CxefNIyj63AiENV2Xslo\n",
       "B6inBqIyMmbvrIe8S+WDEZVD176Kxng/lUeDlfSNSKIVMtViKCVmXJRGDIK11mtJyfj1D2wkXaB/\n",
       "xBNhwFNl5sokYinRx4UqGyPcU2Z0/Cmc0YM3S3BB1vk7Y6g6NGxErCHCqm7cKqepg8IFMIoKcD3N\n",
       "MrxRoodpOZ3Mxg9yDhwYNTIQtwnLo2YXw0HeP7o00TVlnZJNM4GKQWdBwQNXxy2RBeNJSiDTCgqB\n",
       "zfpwXe5jkzTAKu6Qvr0aeLw+4vBE8UfAF9Mg59FFVd45eti0gRrX4/en6iVQ4fTkxXDSRd9rqouc\n",
       "oEmVVgYPkPQ6Gh8cJw4Rqae8S+mu1J8ipGSgL2178M6xAYjnTo9TxvVBfzuNPKlUpZewGoCwy1tC\n",
       "mqq8XnDbyu1zUgpNofbTeiDiTt1GyRMcC2NiR+1Se7cD5YyBmPw5Acx27DBMsyTgE/onW4fjTIlh\n",
       "nyVedLyewQ5H5z5dd1+YHYl+jz8mMUbXULUmAUil0sRFXK+WjHfSZ+13aIaWF/XkIcSmi6b4LeZP\n",
       "/3c5H0ignXQdqeuAZxfN0hez77eNuL1uj1YRvhejHXABPKrik7Ui+6do8o/KFig2rZIMi+2vBrN1\n",
       "5dvMNKjI6rRd0Qd6SUDuoDv8B14uTwec7jNgI8+0CmeYAXcDdZlTtq236KvSHZVyLZ1KzsWSAKAk\n",
       "FA49Qp+QRlm+vA7RoSjFYb5A1E4KjSLnsQTgXwYiXRHMEZ53Uc/f6uJCD5jRqumOsI7m+2F3jJfQ\n",
       "QUNhktT74rPuxU9D8wFK4k753OrOLGNlVENYysYfTg49JEyY60l6TjD8WtYlaQ36GlozvkWu89VP\n",
       "PDmOKCabU34XI1Dob7KBW4UJV32CT0qpgQcC+NZ4+CTGYnJ/BP6G0/EA7ucljPvtzfWPSzB9vG0K\n",
       "aGT0R4lbmWyJlUaOqaX85l1+Xj2DxdsVYy68+KpLC3IBsDMC8mWMEd9G2CYwN9X9CXdEUYUdEriA\n",
       "JwHaNoV9fgAumw8AycPAESU93MX2bfxKpSRoA0aHVQlLzLeEt7E1C9JAEE5//LapdqObsYxngwoX\n",
       "a3U6CKT7wJQn6EcKQIJZOZHjoWfOqbGMJtCyrhROd//6EjliwlCxPyh1lV1tEydmrvEm1y9JfxWs\n",
       "oyz5xFblYyp17ZocWaYKUDOv+feKjEgq0dOUKUSIFXn5YNxw8IkIrGhrGDe2iK7blRfBR7Wg+Vzo\n",
       "0kmi0TWhMGqlJyqVEosEaHWwMOFPAlJWXqodm0FJx6hyx5dWpqWJ4XH0QjSQm29bX72MLt+X5aC4\n",
       "oe/ZEibPssGufdtLZspVo/1IzwwNut+jkB/RNhc5bMyRHv9ZHMzJd7nB65RBH61pnx8G01L97Qy4\n",
       "/t4F1/7s3QmT5JW8FmvTZs2msqDdPtC+GdpHij4gPIuQ9LpQHAqPpvIXUxfcJej1X3tKNkpdaRlv\n",
       "7OFYgog9xJqQowjnUpSg0TyN7HE2P0Q36G7Bw6e3POZ5m9n97FaXrvLFW1UtHg9Qlyq1EWbiVr3M\n",
       "YlB+p/u7O17inSqfO5tnNQaPN/XZL/b3zV1D5f/nJMuVRraAFo66CKpZKAZa/TRNoLNXkx6EWZQe\n",
       "Am3CfI/O1SLwjhINAaHkJDM/de/wHVo9Gn0fQaeWRPxF85bD5Z6l+qyNBVwaLUzgMlALiap8dAo0\n",
       "YJSDl/sHrgJXaV0s+Tz0c7nwDCDFXd3MP9VWtGQKht/p+XNS2Vb8Jh4IHvCIGPAJOBdZvnsvXDCP\n",
       "ZCyg8uJyXiOAaiqE3+RFiQhB14KDDkxYI+Urz7ddxnf/07UuG+Y6mBGPeHUq5BeGdmjC+f5Enev0\n",
       "KtrGi9JNHtmfARiu3UKjweWWlDcrw1g2Py3d7C9kyWu/5elET2WFkhyGv8EeHIvdA2ZT9RSn882q\n",
       "T8vIFaMOkNLLHu5EZP3qBcVXuWwIkbXO/vKFueQWkABPdG6+i4R3UCD1UdVYrt9f7yeeUU+reEsF\n",
       "YY5jz9ulfIHjAqbzLFKR1cqfjOsNvNDogTG/29ysl1ftiD8lsja2t+H3JKXE6eV6R4dWsL3arij+\n",
       "HP+JerI1oPvtNfBl1rQo5eBaQq+T+yZhcXlF9QGt0JMdQw8kY3uPNkh8Lgr+ELkEdzKFiNe+I49S\n",
       "g2B8aJCeC2VnMe1SxzbWzXsvLdHj5uyP//kMjHBm4kHGisjgSmV8aqfbCIQLJVmr0mEGXRNIihlI\n",
       "sYp1cfQoTTWdBPnQ3CNUF1ZwUCtke6me1tFENL12u+MwCwGI2HgRZWJ4cnNeW4xXrC7c6eG8rz/Z\n",
       "D00w8GUX5oGiabthmIUh2i6vlxqSrDQpjuv745UJTQhrQFjuc1nvqfNJ7dMsgNNEsn3bpFIoXf2z\n",
       "To1KnLW2gaz4QP+Q1qbjaShbcD+qa16jZIEPW1YqjLW9RBiDW+Mp6sWbMTwh6G3DRyTSNp2d1kv9\n",
       "yC+eXl64bxZyHHFpRxma3f8ZPPLS6obCVOKWlMQMsjHlT7mQg7YJdq0poQI8q8arKuTZBOAh7CHt\n",
       "Urm/SOL7D5ZQ2zPI0EAGpyOwf6mCqKLdmwYHBQjVPIfKJ+x6qbnKYY+W00h5Y4H1qjfqxtHxE94n\n",
       "QT+sBGAKX3kG28grRr/ddsTjkB/xH8V2qp3xUisuW9Rd/YlnIUKfmDrNmBpEFyU/m3+JwLOubKZd\n",
       "fb/YQby/XrHVllPZfnWE4CzqCcIDoRf/4Sf01Iicl4Qi6yjipQ8htFIbYwl2sASBgENP9gZPsiet\n",
       "ijt3CwZrhfA4R/LgP1BNjr4hFSeCakhQnJ1c8X2O8YQtTCfBZSf9knGsJQ88cVowCDr6hJwLsa7D\n",
       "H/a0H5PVwL3gnDp3JOyVNOZ4gMui6wck9JYizEC1ep3HVya0SJt92PPFmHJTj0QPOvekKFwpzBfa\n",
       "C8GJ7qrFLKZMRgJp4XU90vf5SymGoktP3pEgs5K9oOVmGToip0UOn7RUbsUCEp6quKvZEA345YP3\n",
       "yA7+Se5gcjnCifjmhFJQuef/ljjFuWVLgv5k4uzc+9y21fA5XvX/OR9Oae6bqiNjEuR3u1uexgW1\n",
       "fqWXvaJkOSRQORJUSezrIisGqduVTbVP8fly3eDW9gM8KAYdj/fFqvXeLtYl0Sw2ehkxSh1W05N8\n",
       "EZfWab7k5F8mlY0RhlycLpZLinhurssMvu5B/EERY+GvPXMP0V7hxNpN+xTU6/iHmfSB1MD257R6\n",
       "upl2RAik47o6u5zQXotCxNhoSxMkL/LHdXOpUB+kCxBDheUXBzXXKH75fSLT7bN5e7Or2qqKzXor\n",
       "YiDJPFCb+Ssm7b5FDYSp8AcxxHbMvv6vS0iGBC+ah1jKPxqmclKiLNFkEcL5UddiVYBm3CkKwmAa\n",
       "WCuFe6LR63p0YINkpvWEBCSMOMKYaiJxW8doQ5wjLYWstZPKFhQQCcja565WdX8+cz164zz8LmFH\n",
       "ikW4Tt2EtKMpn4xXtokm4KIqioNnk+orenDcMy+27OeD2GilSBG60m4KQ3qBp8Dwfa2bSJuAiAMT\n",
       "6DwJlU6zWpXfoFM2Q2857RYqkYI8XmEUWU3aWNIj+Eiibrc0kgpQcOXLncudyENTcDNkGa6hLmrQ\n",
       "KbAdLgLxS2dWg6qKnxJuywWa6lc78NLb37ScoQfhjNYgvXONh9C/6r8sKCJC/qmtkDeG9e8vrfyA\n",
       "5WkwvEvkzRX4z9xmA3DkPShwwggwfEkFafNpX5VV2qRPtH2fyFOMxAhBNWdCQULdX5/TWb3dhe84\n",
       "mKlhvj+0A4XLe+jEeBHBiORJ6t7MECxUHEgjOzmcnzeigQ2Be7NI8rc1yx7ofiJ2OQP2xaxfHhP2\n",
       "5XKLgf03ou7rtK9lPnYhENJcFtOCdkU13K5Orode6EHPTz9LJMqNRtuWteLwqWxABpT8NwB6sw8S\n",
       "+VqGAKgPGqMyHqee2+HtVDv0tifRiEQwRK0b9sWWtr/ENQodSMy8Z8uEVaAQ/w4okfUWZdnonP/8\n",
       "Bo0g4GzMNqz47njz3Kal4PCjH/impLDwX5CTk/BzG5M6e0JI0vfVGidrmmFbd+alaMtaJY1ZO0fr\n",
       "ShWixpureV6R4f6tsWU+0q0q0hpyyY/IQU23x0grCGAWeQQgfIo1jiHSFHVBT73ql8cJntEI9PI7\n",
       "kLd9HKV0O8dHuzjoDeCRU0vfWwn0VJzwka2fj1ULDkYp+m90ZbWU4f11U9xiXacb105mGD0rz1rR\n",
       "8ONnpdrCDamvUq6k0DRN+V7JhvZoNhn8ElUe1HhtU+XykjFMyFK0RrfiUUy0oz992tFVZG6F35h0\n",
       "LX1H9F+K2x4oXDypwkQ1PGUsiCdDk8FiZA6SXmTHzb4sQMhu92KJlJXdhRQend7sprAyDoqOKZKj\n",
       "MxNLNwMzZp5vyZSKvtP5Eae/sQlcUHED1h9JyVweTfZ42oUOvcd03sxJtxrqIoTd/YyBrzdml5q3\n",
       "3bcg4IMg4MksJf7MA4wIwS9PcJacdRDnB2CEZ27n9jXSGnB5hoGzAMdlQ738XuCb15z1ZxPDier7\n",
       "nUd5HqohRZ6DrI7FFUfwmKmJE5SO90gM/ialinUX01U6KjFBVoT0x3CczNJyDL9+YIDK9ywowVwG\n",
       "HbpuX2fMbsuNvhtqtyyXEZz98HGCeP5ZcPa6d3rZ/4jxcGl/t/Hw2Er79J4y0STqgKySmBLJA0Iy\n",
       "IVHrHwzs/szw7ElB79QeKu6J9W7DvfHDtdwDrqnu++Az0BEYvkcZbJwtzbecWv6lWyKLxh1Yl/+t\n",
       "D00AYUrJsKGPASig8Oms4GEHVJZljjQ7BFgoWH6Oen/s9g6HjbWKCsNQljfsIy7LW7uUNt8F4jB8\n",
       "4Wp8hlwOBIuGTHEO6M3eXI51wa5gTMt4g5V/oEu+M+S/kQZFjEziDb+RggrjBECtwd82zqHBY3dW\n",
       "DfAXatzZO1alVxT7x/sOADs6e0HysgdF/HvlkQ532tFaVKl9go4iyf/9tmbqWHgrl7oAhOKaQI19\n",
       "YkIyqpE5Ifdb+8i0qmtKZ5oS0muLoLcYP8XrWCCjvZlx79D9RiwKSEFI2RSyECU74Uuatv9KIHf4\n",
       "77b4HIjxgphj6c9aB/rAcuLUIKuSAmlw02TIxIkL7RXZYewE9Kf08y6Figz8W6yzS+2BiSq+Tl0M\n",
       "MK8z2LdNhVKV+nNEhjVphTj/1UksUMJVKNrLWYYuS/RT3SeNJjWSJ17UuQnMJSSvK4Sg+kAAP8EA\n",
       "AABbQZ/7RRUsEP8AAGbodNH5kw1l/BU5re/jCsPyX3A1QyA7YDQfbzY2400DyF4EphABEe0Iu0i3\n",
       "mUlbPwDRMBeF6Ri/L8b2HrTgPYSRFsLGWf1wBgct8aw41wAQ8AAAAFwBnhp0Q/8AAOJ+ZrsurKj6\n",
       "6pxl19KGpJhIbZG/Ydh6axqXYsbI283ZW9Ut5yEFoOv5PzIBj9wtoI6ee2xD3u9dwIXF0wXQDhkt\n",
       "GKigN9uMNxiOkMNyD06xu4AOCQAAACUBnhxqQ/8AAAzfjvAl6qdvm46gRz9HSWIPIcGTaAACeaAA\n",
       "AKmBAAAAbEGaAUmoQWyZTAgp//7WjLAAAC7limICdhp06AGR7+lem7HwE6Jk+KOPYNvOGYSwyTKj\n",
       "flf2JdbNTJltvngxzvXfpUpJ3GrxswyRydb4h+5PpJEjt2ruTjBZbzyPfEOIDQDEAkIGn/HwIAAP\n",
       "8AAAADVBnj9FFSwQ/wAAHa1TQ2+SmV8lDwuL05mVkoaFB6FsM0I687M3e4+VtROkOAHWT8AGFAAC\n",
       "JgAAACQBnl50Q/8AAAzd0me1AqdtNd8Prn7k/3AoIwWD4AAKdoAAAxcAAAAlAZ5AakP/AAAM347w\n",
       "Jeqnb5uOoEc/R0liDyHBk2gAAnmgAACpgAAAAB9BmkVJqEFsmUwIKf/+1oywAAADAAADAAADAAAD\n",
       "AAPvAAAAMUGeY0UVLBD/AAAdrVNDb5KZXyUPC4vTmZWShoQhbNhzK35mHYWl8IRtoKEANGAADxgA\n",
       "AAAkAZ6CdEP/AAAM3dJntQKnbTXfD65+5P9wKCMFg+AACnaAAAMXAAAAJQGehGpD/wAADN+O8CXq\n",
       "p2+bjqBHP0dJYg8hwZNoAAJ5oAAAqYEAAAAfQZqJSahBbJlMCCn//taMsAAAAwAAAwAAAwAAAwAD\n",
       "7wAAADFBnqdFFSwQ/wAAHa1TQ2+SmV8lDwuL05mVkoaEIWzYcyt+Zh2FpfCEbaChADRgAA8ZAAAA\n",
       "JAGexnRD/wAADN3SZ7UCp2013w+ufuT/cCgjBYPgAAp2gAADFgAAACUBnshqQ/8AAAzfjvAl6qdv\n",
       "m46gRz9HSWIPIcGTaAACeaAAAKmAAAAAH0GazUmoQWyZTAgp//7WjLAAAAMAAAMAAAMAAAMAA+8A\n",
       "AAAxQZ7rRRUsEP8AAB2tU0NvkplfJQ8Li9OZlZKGhCFs2HMrfmYdhaXwhG2goQA0YAAPGAAAACQB\n",
       "nwp0Q/8AAAzd0me1AqdtNd8Prn7k/3AoIwWD4AAKdoAAAxYAAAAlAZ8MakP/AAAM347wJeqnb5uO\n",
       "oEc/R0liDyHBk2gAAnmgAACpgQAAAB9BmxFJqEFsmUwIKf/+1oywAAADAAADAAADAAADAAPvAAAA\n",
       "MUGfL0UVLBD/AAAdrVNDb5KZXyUPC4vTmZWShoQhbNhzK35mHYWl8IRtoKEANGAADxkAAAAkAZ9O\n",
       "dEP/AAAM3dJntQKnbTXfD65+5P9wKCMFg+AACnaAAAMWAAAAJQGfUGpD/wAADN+O8CXqp2+bjqBH\n",
       "P0dJYg8hwZNoAAJ5oAAAqYAAAAAfQZtVSahBbJlMCCn//taMsAAAAwAAAwAAAwAAAwAD7wAAADFB\n",
       "n3NFFSwQ/wAAHa1TQ2+SmV8lDwuL05mVkoaEIWzYcyt+Zh2FpfCEbaChADRgAA8YAAAAJAGfknRD\n",
       "/wAADN3SZ7UCp2013w+ufuT/cCgjBYPgAAp2gAADFgAAACUBn5RqQ/8AAAzfjvAl6qdvm46gRz9H\n",
       "SWIPIcGTaAACeaAAAKmBAAAAH0GbmUmoQWyZTAgp//7WjLAAAAMAAAMAAAMAAAMAA+4AAAAxQZ+3\n",
       "RRUsEP8AAB2tU0NvkplfJQ8Li9OZlZKGhCFs2HMrfmYdhaXwhG2goQA0YAAPGQAAACQBn9Z0Q/8A\n",
       "AAzd0me1AqdtNd8Prn7k/3AoIwWD4AAKdoAAAxcAAAAlAZ/YakP/AAAM347wJeqnb5uOoEc/R0li\n",
       "DyHBk2gAAnmgAACpgAAAAB9Bm91JqEFsmUwIKf/+1oywAAADAAADAAADAAADAAPvAAAAMUGf+0UV\n",
       "LBD/AAAdrVNDb5KZXyUPC4vTmZWShoQhbNhzK35mHYWl8IRtoKEANGAADxgAAAAkAZ4adEP/AAAM\n",
       "3dJntQKnbTXfD65+5P9wKCMFg+AACnaAAAMXAAAAJQGeHGpD/wAADN+O8CXqp2+bjqBHP0dJYg8h\n",
       "wZNoAAJ5oAAAqYEAAAAfQZoBSahBbJlMCCn//taMsAAAAwAAAwAAAwAAAwAD7gAAADFBnj9FFSwQ\n",
       "/wAAHa1TQ2+SmV8lDwuL05mVkoaEIWzYcyt+Zh2FpfCEbaChADRgAA8YAAAAJAGeXnRD/wAADN3S\n",
       "Z7UCp2013w+ufuT/cCgjBYPgAAp2gAADFwAAACUBnkBqQ/8AAAzfjvAl6qdvm46gRz9HSWIPIcGT\n",
       "aAACeaAAAKmAAAAAH0GaRUmoQWyZTAgp//7WjLAAAAMAAAMAAAMAAAMAA+8AAAAxQZ5jRRUsEP8A\n",
       "AB2tU0NvkplfJQ8Li9OZlZKGhCFs2HMrfmYdhaXwhG2goQA0YAAPGAAAACQBnoJ0Q/8AAAzd0me1\n",
       "AqdtNd8Prn7k/3AoIwWD4AAKdoAAAxcAAAAlAZ6EakP/AAAM347wJeqnb5uOoEc/R0liDyHBk2gA\n",
       "AnmgAACpgQAAAB9BmolJqEFsmUwIJ//+tSqAAAADAAADAAADAAADAA9ZAAAAMUGep0UVLBD/AAAd\n",
       "rVNDb5KZXyUPC4vTmZWShoQhbNhzK35mHYWl8IRtoKEANGAADxkAAAAkAZ7GdEP/AAAM3dJntQKn\n",
       "bTXfD65+5P9wKCMFg+AACnaAAAMWAAAAJQGeyGpD/wAADN+O8CXqp2+bjqBHP0dJYg8hwZNoAAJ5\n",
       "oAAAqYAAAAAfQZrNSahBbJlMCCf//rUqgAAAAwAAAwAAAwAAAwAPWQAAADFBnutFFSwQ/wAAHa1T\n",
       "Q2+SmV8lDwuL05mVkoaEIWzYcyt+Zh2FpfCEbaChADRgAA8YAAAAJAGfCnRD/wAADN3SZ7UCp201\n",
       "3w+ufuT/cCgjBYPgAAp2gAADFgAAACUBnwxqQ/8AAAzfjvAl6qdvm46gRz9HSWIPIcGTaAACeaAA\n",
       "AKmBAAAAH0GbEUmoQWyZTAgn//61KoAAAAMAAAMAAAMAAAMAD1kAAAAxQZ8vRRUsEP8AAB2tU0Nv\n",
       "kplfJQ8Li9OZlZKGhCFs2HMrfmYdhaXwhG2goQA0YAAPGQAAACQBn050Q/8AAAzd0me1AqdtNd8P\n",
       "rn7k/3AoIwWD4AAKdoAAAxYAAAAlAZ9QakP/AAAM347wJeqnb5uOoEc/R0liDyHBk2gAAnmgAACp\n",
       "gAAAAB9Bm1VJqEFsmUwIJf/+tSqAAAADAAADAAADAAADAA9ZAAAAMUGfc0UVLBD/AAAdrVNDb5KZ\n",
       "XyUPC4vTmZWShoQhbNhzK35mHYWl8IRtoKEANGAADxgAAAAkAZ+SdEP/AAAM3dJntQKnbTXfD65+\n",
       "5P9wKCMFg+AACnaAAAMWAAAAJQGflGpD/wAADN+O8CXqp2+bjqBHP0dJYg8hwZNoAAJ5oAAAqYEA\n",
       "AAAfQZuYSahBbJlMCH///qmWAAADAAADAAADAAADAAB4QAAAADFBn7ZFFSwQ/wAAHa1TQ2+SmV8l\n",
       "DwuL05mVkoaEIWzYcyt+Zh2FpfCEbaChADRgAA8ZAAAAJQGf12pD/wAADN+O8CXqp2+bjqBHP0dJ\n",
       "Yg8hwZNoAAJ5oAAAqYEAAAdTbW9vdgAAAGxtdmhkAAAAAAAAAAAAAAAAAAAD6AAARYgAAQAAAQAA\n",
       "AAAAAAAAAAAAAAEAAAAAAAAAAAAAAAAAAAABAAAAAAAAAAAAAAAAAABAAAAAAAAAAAAAAAAAAAAA\n",
       "AAAAAAAAAAAAAAAAAAAAAgAABn10cmFrAAAAXHRraGQAAAADAAAAAAAAAAAAAAABAAAAAAAARYgA\n",
       "AAAAAAAAAAAAAAAAAAAAAAEAAAAAAAAAAAAAAAAAAAABAAAAAAAAAAAAAAAAAABAAAAAAtAAAALQ\n",
       "AAAAAAAkZWR0cwAAABxlbHN0AAAAAAAAAAEAAEWIAAAQAAABAAAAAAX1bWRpYQAAACBtZGhkAAAA\n",
       "AAAAAAAAAAAAAAAoAAACyABVxAAAAAAALWhkbHIAAAAAAAAAAHZpZGUAAAAAAAAAAAAAAABWaWRl\n",
       "b0hhbmRsZXIAAAAFoG1pbmYAAAAUdm1oZAAAAAEAAAAAAAAAAAAAACRkaW5mAAAAHGRyZWYAAAAA\n",
       "AAAAAQAAAAx1cmwgAAAAAQAABWBzdGJsAAAAtHN0c2QAAAAAAAAAAQAAAKRhdmMxAAAAAAAAAAEA\n",
       "AAAAAAAAAAAAAAAAAAAAAtAC0ABIAAAASAAAAAAAAAABAAAAAAAAAAAAAAAAAAAAAAAAAAAAAAAA\n",
       "AAAAAAAAAAAAGP//AAAAMmF2Y0MBZAAf/+EAGWdkAB+s2UC0FuhAAAADAEAAAAMCg8YMZYABAAZo\n",
       "6+PLIsAAAAAcdXVpZGtoQPJfJE/FujmlG88DI/MAAAAAAAAAGHN0dHMAAAAAAAAAAQAAAFkAAAgA\n",
       "AAAAFHN0c3MAAAAAAAAAAQAAAAEAAALQY3R0cwAAAAAAAABYAAAAAQAAEAAAAAABAAAoAAAAAAEA\n",
       "ABAAAAAAAQAAAAAAAAABAAAIAAAAAAEAACgAAAAAAQAAEAAAAAABAAAAAAAAAAEAAAgAAAAAAQAA\n",
       "EAAAAAABAAAoAAAAAAEAABAAAAAAAQAAAAAAAAABAAAIAAAAAAEAACgAAAAAAQAAEAAAAAABAAAA\n",
       "AAAAAAEAAAgAAAAAAQAAKAAAAAABAAAQAAAAAAEAAAAAAAAAAQAACAAAAAABAAAoAAAAAAEAABAA\n",
       "AAAAAQAAAAAAAAABAAAIAAAAAAEAACgAAAAAAQAAEAAAAAABAAAAAAAAAAEAAAgAAAAAAQAAKAAA\n",
       "AAABAAAQAAAAAAEAAAAAAAAAAQAACAAAAAABAAAoAAAAAAEAABAAAAAAAQAAAAAAAAABAAAIAAAA\n",
       "AAEAACgAAAAAAQAAEAAAAAABAAAAAAAAAAEAAAgAAAAAAQAAKAAAAAABAAAQAAAAAAEAAAAAAAAA\n",
       "AQAACAAAAAABAAAoAAAAAAEAABAAAAAAAQAAAAAAAAABAAAIAAAAAAEAACgAAAAAAQAAEAAAAAAB\n",
       "AAAAAAAAAAEAAAgAAAAAAQAAKAAAAAABAAAQAAAAAAEAAAAAAAAAAQAACAAAAAABAAAoAAAAAAEA\n",
       "ABAAAAAAAQAAAAAAAAABAAAIAAAAAAEAACgAAAAAAQAAEAAAAAABAAAAAAAAAAEAAAgAAAAAAQAA\n",
       "KAAAAAABAAAQAAAAAAEAAAAAAAAAAQAACAAAAAABAAAoAAAAAAEAABAAAAAAAQAAAAAAAAABAAAI\n",
       "AAAAAAEAACgAAAAAAQAAEAAAAAABAAAAAAAAAAEAAAgAAAAAAQAAKAAAAAABAAAQAAAAAAEAAAAA\n",
       "AAAAAQAACAAAAAABAAAoAAAAAAEAABAAAAAAAQAAAAAAAAABAAAIAAAAAAEAACAAAAAAAgAACAAA\n",
       "AAAcc3RzYwAAAAAAAAABAAAAAQAAAFkAAAABAAABeHN0c3oAAAAAAAAAAAAAAFkAABuWAAAGIAAA\n",
       "AFgAAAAuAAAAQgAAADYAAAAxAAAAJAAAACMAAAcOAAAHMgAAB4AAAAB2AAAAdwAAADIAAAA1AAAA\n",
       "LQAAACwAAAPHAAAApwAACIYAAABBAAAJFgAAAHkAAABSAAAAPAAAETYAAABfAAAAYAAAACkAAABw\n",
       "AAAAOQAAACgAAAApAAAAIwAAADUAAAAoAAAAKQAAACMAAAA1AAAAKAAAACkAAAAjAAAANQAAACgA\n",
       "AAApAAAAIwAAADUAAAAoAAAAKQAAACMAAAA1AAAAKAAAACkAAAAjAAAANQAAACgAAAApAAAAIwAA\n",
       "ADUAAAAoAAAAKQAAACMAAAA1AAAAKAAAACkAAAAjAAAANQAAACgAAAApAAAAIwAAADUAAAAoAAAA\n",
       "KQAAACMAAAA1AAAAKAAAACkAAAAjAAAANQAAACgAAAApAAAAIwAAADUAAAAoAAAAKQAAACMAAAA1\n",
       "AAAAKQAAABRzdGNvAAAAAAAAAAEAAAAsAAAAYnVkdGEAAABabWV0YQAAAAAAAAAhaGRscgAAAAAA\n",
       "AAAAbWRpcmFwcGwAAAAAAAAAAAAAAAAtaWxzdAAAACWpdG9vAAAAHWRhdGEAAAABAAAAAExhdmY1\n",
       "Ny44My4xMDA=\n",
       "\">\n",
       "  Your browser does not support the video tag.\n",
       "</video>"
      ],
      "text/plain": [
       "<IPython.core.display.HTML object>"
      ]
     },
     "execution_count": 5,
     "metadata": {},
     "output_type": "execute_result"
    }
   ],
   "source": [
    "HTML(anim.to_html5_video())"
   ]
  },
  {
   "cell_type": "markdown",
   "metadata": {
    "slideshow": {
     "slide_type": "slide"
    }
   },
   "source": [
    "> **Theorem:** If the dataset is linearly separable then the perceptron algorithm is guaranteed to converge in a finite number of steps.\n",
    "\n",
    "* What if the dataset is not linearly separable? Complete failure of training.\n",
    "* Do we have stability, no there will be $\\infty$ many solutions."
   ]
  },
  {
   "cell_type": "code",
   "execution_count": 6,
   "metadata": {
    "slideshow": {
     "slide_type": "skip"
    }
   },
   "outputs": [],
   "source": [
    "X,X1, X2, Xall, yall = gen_data(100,sep=4)\n",
    "\n",
    "n_steps = 100\n",
    "\n",
    "x,u = perceptron(X,yall,n_steps)\n",
    "u = u[::1000,:]\n",
    "\n",
    "from matplotlib import animation\n",
    "import matplotlib.pyplot as plt\n",
    "from IPython.display import HTML\n",
    "import numpy as np\n",
    "\n",
    "# First set up the figure, the axis, and the plot element we want to animate\n",
    "fig = plt.figure(figsize=(10,10))\n",
    "ax = plt.axes()\n",
    "line, = ax.plot([], [], lw=1)\n",
    "ax.scatter(X1[:,0],X1[:,1], color='red')\n",
    "ax.scatter(X2[:,0],X2[:,1], color='blue')\n",
    "\n",
    "# Initialization function: plot the background of each frame\n",
    "def init():\n",
    "    line.set_data([], [])\n",
    "    return line,\n",
    "\n",
    "# Animation function which updates figure data.  This is called sequentially\n",
    "def animate(i):\n",
    "    line.set_data(x, u[i,:])\n",
    "    return line,\n",
    "\n",
    "# Call the animator.  blit=True means only re-draw the parts that have changed.\n",
    "anim = animation.FuncAnimation(fig, animate, init_func=init,\n",
    "                               frames=u.shape[0], interval=200, blit=True)\n",
    "\n",
    "plt.close(anim._fig)"
   ]
  },
  {
   "cell_type": "code",
   "execution_count": 7,
   "metadata": {
    "slideshow": {
     "slide_type": "slide"
    }
   },
   "outputs": [
    {
     "data": {
      "text/html": [
       "<video width=\"720\" height=\"720\" controls autoplay loop>\n",
       "  <source type=\"video/mp4\" src=\"data:video/mp4;base64,AAAAHGZ0eXBNNFYgAAACAGlzb21pc28yYXZjMQAAAAhmcmVlAADX1G1kYXQAAAKuBgX//6rcRem9\n",
       "5tlIt5Ys2CDZI+7veDI2NCAtIGNvcmUgMTUyIHIyODU0IGU5YTU5MDMgLSBILjI2NC9NUEVHLTQg\n",
       "QVZDIGNvZGVjIC0gQ29weWxlZnQgMjAwMy0yMDE3IC0gaHR0cDovL3d3dy52aWRlb2xhbi5vcmcv\n",
       "eDI2NC5odG1sIC0gb3B0aW9uczogY2FiYWM9MSByZWY9MyBkZWJsb2NrPTE6MDowIGFuYWx5c2U9\n",
       "MHgzOjB4MTEzIG1lPWhleCBzdWJtZT03IHBzeT0xIHBzeV9yZD0xLjAwOjAuMDAgbWl4ZWRfcmVm\n",
       "PTEgbWVfcmFuZ2U9MTYgY2hyb21hX21lPTEgdHJlbGxpcz0xIDh4OGRjdD0xIGNxbT0wIGRlYWR6\n",
       "b25lPTIxLDExIGZhc3RfcHNraXA9MSBjaHJvbWFfcXBfb2Zmc2V0PS0yIHRocmVhZHM9MTAgbG9v\n",
       "a2FoZWFkX3RocmVhZHM9MSBzbGljZWRfdGhyZWFkcz0wIG5yPTAgZGVjaW1hdGU9MSBpbnRlcmxh\n",
       "Y2VkPTAgYmx1cmF5X2NvbXBhdD0wIGNvbnN0cmFpbmVkX2ludHJhPTAgYmZyYW1lcz0zIGJfcHly\n",
       "YW1pZD0yIGJfYWRhcHQ9MSBiX2JpYXM9MCBkaXJlY3Q9MSB3ZWlnaHRiPTEgb3Blbl9nb3A9MCB3\n",
       "ZWlnaHRwPTIga2V5aW50PTI1MCBrZXlpbnRfbWluPTUgc2NlbmVjdXQ9NDAgaW50cmFfcmVmcmVz\n",
       "aD0wIHJjX2xvb2thaGVhZD00MCByYz1jcmYgbWJ0cmVlPTEgY3JmPTIzLjAgcWNvbXA9MC42MCBx\n",
       "cG1pbj0wIHFwbWF4PTY5IHFwc3RlcD00IGlwX3JhdGlvPTEuNDAgYXE9MToxLjAwAIAAAFj1ZYiE\n",
       "ABL//vet34FNwEDta7pXOLTLq5Q0PVH2lKZ4tkgAAAMAAAMAAAMAepjy/qxN+Siw9AAAAwBAgAqQ\n",
       "FvBV016fSkD/MAnRgtB1qFAO2Z2YeOZEchB2DeQ0U1O5a9j4umO+4ARYd48kxQmrjYqnAwYP4ng4\n",
       "4ExzPeYtPVkqZIpwge65TPfYVIxeSABgFGw2F5thz8j64SO8Gb3CNt7+qTxORwQr2fkvXApIwUiG\n",
       "Gatl9/3XER08X8FiVemTarqOzyh7bu/c6qWjNNOraPd9Viy6bW61GTjrosnLJxBft9ieFFvj4b9h\n",
       "bnHSU4WVPZRaDxQnOR5RWZl/9cUFfo6EDdDaga1hu4nGa5NXR29+LtlWbJJhA6AgFbKgsM5B8HRm\n",
       "mo2Gn0sB3c5OLvQ/8NZBBT2KaO5u/7ERU5blW/mnY1QeMnnZ0/7fAazUdxiQxyb0sIW33ubT1ryJ\n",
       "fzVEIjmxsmXF7Qdu8m1xS9ia5mhBquOhVW2IfI4apsMQg9OaKx6RMBLen0Y7uRiRMRg1Mg5UZIH0\n",
       "vK18zDx2cygC78a6wIRw41+zjR5yMGGCTYfF4K2iRSsJcZZ4Q2zm9vlx5rV/zNC4ZB8zYHf2Nn1I\n",
       "DsMC8iCY/faAoqBRwM1SygKbdNg6kEiG39ZF3KTKpZ00Fvj855vUhXN718Gycu1OwH+DF9pzhJuk\n",
       "U/iij5S8BkenK+KR7JK7Lj1emxx6nhAtK1KuUoHwLbCkdvcYsdl4j4Dpz01++et5DbumoA9SsN6q\n",
       "pQjw0cpf31R6CQQCFMUuHsHpSBdQ9yKpREsxW008Y9xeC53uemPCN/PwVrmLRLUIqPj9kQO2TfNY\n",
       "EkZymLUFuvgEXZr/OD/pPgnBw6+lifvDQg/RQlzd00eNM2rZCzU+ctaAbk/D1ULr0kHzWtilH6yl\n",
       "7lhs4/ytVxgSOX4pCMg4jkIfFEEtzW9iRX1Xd5/gP2XaRO3rOPE1wKz3FVHYoyhMKzYelUdXKgLB\n",
       "/TzNLb4zkQv0VlswvaF8HwNWf/GH4kC5jFjH+bZjIobd0VUcvq5nh9+b0QXdVb/BEUNrF2Sw4NAw\n",
       "N3s8WNKquMJk+JNQWzXQsxZ/Rqo2VmZXHOsB6Jr5HzediZN9GmgJtfbW4TtVOqeyyGzQOcNKrsNn\n",
       "Ug9k+mdIBqjwNLLUErV8FBBwrR+mnwjE/BpKcMMY97DBsNHgJ3LPAeYk95lgNx6UeFxb9OQKOX2R\n",
       "Yy64zJz7NsUwlt2qu6LHP1hppT+MyFE/4lO1I6ZW+DbDpvomQ3jj1mznxfj4tp6JL0QWPU58cavI\n",
       "NpdToVmR0yzYEBJlfrc7OJ/hIITMg24e3PrBJDHXH9Ydm5u3FK30t1Ny6v6pK6Eu4EMjERypJaV3\n",
       "94IJEOIHD0eyhwsjWvaedBwbnYiyA7QEOLke5Elc7Lo8pFBBV38687y2ApDPiKtXlQSxsNy+0s2d\n",
       "flk3bFgIAXCp8+4BsHnztxTWFDAClsJ3so48OZE8cGDUFlTgeNuUYZiTCsMwkF+1y3rwxzfkd2xb\n",
       "mZ/NgHcfy4tVihx0Ee/f5amlqjwgeKftEYdFjMedco+LOZDwg9iUdiVo/Q+/2Zwv7SmOC9+mIac0\n",
       "iP1TiHE/u++fBjyrL6St1ZgUzE40ySJtqYqCjrd1GwxJKtdOXat6vXb/RWBG52DUg7LMnwjLaAqk\n",
       "FCgSRazCQniWjOSOHOUMF9et2rJgpf1eVfJyytkAsToYrDqb00J30Lhc2m11XmfcphrYGMMcy6n8\n",
       "uBs4ksLL4xNV5K5SWRBO6WCqAFcuUiMMezQrEaFduUwioCl7paIZ2i/BaJnICFkffg5PUyIxURNW\n",
       "qVykfBzFDbUTGuAnUvfNXrRaHymstLAUOCTP16cShsxY4Sl8oybm0qnqplzLTz+XtLT62GM76QEm\n",
       "+EKIzRqigEb8kGpqbLVtK6KnHHGiM5sehpFf5/Fmh0seeEysP+jLyv4J6pUAbBIR3Z173kbJy1Jl\n",
       "Cv37ylLjElVvzrJ0ttukNWglm6/EairJ3YW0B3N+35BAte3VCr2vt54FHROXqzzu814ne9JMDNVu\n",
       "ac6mk1Y3pv6UxhE5htcq5UlmS70mdMXvDOD8SpYEuERGYancDeDCUyetQKSSBsrKHWH3WiL/zAxN\n",
       "ulGBfyUQniLOf9RcjQE0Ykz4pyJpj2Qn48c5yMQA0+9dF/fOD/PLhwGSvjnO8UKiQhT5PMODP2Nn\n",
       "0rI2kxD7c7tr5DSBiZiCxjnhASwp4D6f9fNjR86O47bu6DJsQ3f4tQO12ZBsFJfbcaioQmmYYTqb\n",
       "Y9HAR74yDBv+Ib+xvOldZXqu/AiTxaMFNXTWtF6mTYVeaiYcq5XM9/41HOMT1IWL6V5QbO1n9sPQ\n",
       "oB00ZRCS+lXaqwHQ5qew+HpDh+EPd+ez+XVAeTNLmcs7yZhRuA2dzLOCVqEj/b0ZgSP2imPefTZS\n",
       "YkFQuzrUjSAe5ORpWt/PAOhErjnOClfmh6tR3qCiRR4k9GRRfsp1UlN8WuSv4b7g0dikUaOBtz3j\n",
       "CH+imThp10D6g+A8SF/JHsTed4QmuFCkMzYk5gcIDn9mQ5tASa3TBA/OqbRrUHTkJdzyuDW/itun\n",
       "gLiyJzMyyEDjieRgHRZEe2opGZGTEauYi00cup21+BTU5nWtxyvxLIaUfWK239StHVP3XO+6osp4\n",
       "j/YZhJeL4q3bnx2SKoB1UIhDkfem9KotLoqfhBezKE34kkd0/OxBY3IBzGXK7ZonYoT/7gFjgX+w\n",
       "5X2aN4leIXQqJdubPPcBZKurtAAG1hYvyjO7ukhyAb33jDS1eTddSkyJ/fvhxkk6j/xk2JYQHAwQ\n",
       "esyhecH5a/YZvkk5Ipn0ISHqD4b5122+XlQ8nXx+jhnjn4bZTCLOBjPWpJGA//iBad+p54eUkF3h\n",
       "pYgzY5l/vyLr7LhvNW+u9U6JN5KhXANPpIm50TExZ77Hg942YxOfoK6hC8U8PHQi8RVWvgE/Rb6d\n",
       "PRZHyVwkm0X0zcOO27JoHev1CcxPorq32DmF/4JToPsDjHc6AEXh3BnEd601Xx1UEHhS4Z4t8xk6\n",
       "sgTFeGb2n7icLXNk6q/lozDZg/wDTKARE1B6lDVuxaRTSvfOtZlBguEmMp0NpfuUepViuhOXrFjb\n",
       "k7oZXYmmeiOEtstjgMlYTrwwodKWP1owlyd67nScQu37l5Ct26IyYx6X87rpGU5EYzv84UkahoQV\n",
       "2NWmiaqc+6BT5Wjb3d/kbH5W4baQu+s9oiWJ1Eg6KU4fyNjudmSfZYGrBdKdIJq9NnCwE47ioOOr\n",
       "tsET0g9pLZEYCn8HSM97bnmDjqOBDGGwOPlfE3ReOjSbEsmyEn5ZGLh7bF44810GeweTz81qaA1A\n",
       "Lv1U7GAiwANYuoQtcOv/SXD30WXK0ZP4pFfc79GhR12cE75tfAmBbrZXon+s/+8ysLjUfhp8FP+M\n",
       "fhv9H6K9PB9AgbB2HkN6fmJOP7MKsvl5LRiPGlpqsoGUnzUhl3+ugoN6Q4lpFTLO4MnZ4F1MkMkS\n",
       "T0ElpJmQT+yZLv3X67Clnt/lqt4/BvVwjfU+DK5Skf0Efpb70TAkF8oACJ3iZjZKn9gG1lMJozOt\n",
       "jKmgxR8bpS1ewzU45Hbjjb5Mu05UwIUJaZMav5iCeiVPX6SDGyy5HrXhBdz26m6E9JlPfr2MwTd9\n",
       "vm1rAu2xpvYQpMtV72OOuHLw0uDh7mw8im9uDSFzYc8ShBzY4YTtF7TcVzLxZawwI0iVXz1//b5t\n",
       "m9ZZKXRUkOh5fGbuXlvyB+SVmkMCkJaKz6HKSMPHV+w9LJ+d+uer92XOPMAPWnHW+fbV4YykjtXl\n",
       "CrJcoMJNzAJYE3GNklksaTOpJ76kkhqoVC2vgo/73aU9T8n2qvJ5hFRXftCPXPCLH9z6TKvwi9Rl\n",
       "cWadRnEW9OIPMpwW/Ou0be7/CJNpYywgd6SlLoFxV8Lr5bzKr5TRkfyuLMo0O4K3FZq/DIkFkBu5\n",
       "AH79obI5RvtuLKoCutIm8XuJqDROMm5kU8jmPsHZ7l8X32WkqMmkq+ty0AHcS6kZfpsKGAraJr8m\n",
       "F0NeMIms3P+cuP6HyNPH6TwY6owhxkFgL+IQzespXG8t2wq6VskEDACDelE9n22XxfDVTViZ2Amp\n",
       "GIyQ3mmoM1bvDwCB1aL3qd4Np3YUmK/nnigIigMjNuHrBHxMHyRm4+rrL+VnChJmfqzmuy3ZTjXn\n",
       "e2b3tKFns1YNgQCSaPgFBMwvVEtEfBJq+4BnblwZBCNtcyH28B3/pn1WW9YAyqXr54vrBkPcgUR6\n",
       "KSLVqkJiN2cducmyZhLSu0wyhmNRqtROeilKMOg4s/Y1cc/iqHiAtyR22B+/QDpFUj5R3xHCw8i8\n",
       "/v8bjoXAMeC6v5IkoFEzC2uzOCgyGnDkgcEFwB6EpADA/LGS+4f2qyv6O/n6vINHoP8B9PI3jTqF\n",
       "79GhxLGVPnRNnu/T1atpm4ZUHrlYrOgWXfeTwyqekCtdhyIg9BwZAGTGbj6Bz+lmUNbszugIMFEu\n",
       "XMaryE7or2TT28Klfl4uCInivmYdHNoIjvyDJULfi7tHz8Es5TI0ML0xv0E/zIRpiL9Do5tKXc5x\n",
       "3xYJZ1ypts8Yi9+kfVmL/LzezdtAEvk5oO97HmbK75N2DluWnmt3VoagsqcDxupoZWpQk+agAGvw\n",
       "BOSeTNi0eW3006Q5gecOx+6+FXKVMurYmHS0Mc++AkYhUOUnb9GDV3uC+irfRcT8l/Ow50NF9B9i\n",
       "PmK3xX4GLvkbCS1WJUf/Gr1Omkhsyt4yDEYVVO+mHI46AgI8siT3OHWjue6CYawNWkkP+UPALKDK\n",
       "U8c2BwEjvC55gF3uZP5qcj3/ovb+ps3J+q7x9WjEqvS7hK7rEkqfFgVbwubQqftYRzSgmONL3sqf\n",
       "y+CPKjdqGz88KEXXFI9klKGvFonr7DYpzPKd0CvE0Am6p9aLBEbq5NHT/0EDF28URGRLsbX8kc6B\n",
       "V9Z8li8PqMytW+Q5T238rcbdPFnDWu0logHiQL/M6yvjKgHo7P+991vuRNbNMTM6j5uszxC/0QJv\n",
       "7YI2jEnmf528NhdujehfMNtS5ED4PUlLaTCkHxHKnlmHroDyfB3wwSR3jj8rY86AI6EcPMMaJ4x1\n",
       "anXnY0Yi+TEFl3isCuUCJ5DmPryLvw2I8YNPLi1wqRf7VvGEwZPNyiRoUX/SPrjBZMymURO9hjZh\n",
       "pnAAXR0yzNr/jRX5oS3MiNIB++WXI0s2uJYNTyLrYIuxGpuLVM4sVj0DzZ7O766Iz0ckS+NhM0Qz\n",
       "bHlNmd1Y/9BwgK+yENJuzCYXe0gyX8Y+u3IV97l6BORuOm++gmZlPbEz6eMFhP1sPlIJyaomRQDl\n",
       "/MqoqI0I5shyh2BkLfuRutHQ/U+0iluyTi0qV3TvlwofWTstgPzXAGSVu+0l6Hmj2DxdcqgIwN6Q\n",
       "TjIO5491tbp5VztX/goPN6vGf8cclFyiaKlizKZDO15KTcAaqqLAa7IQjL5WlOZSIGq8Wnk8WP9b\n",
       "+WMZUSMeqkJNIecIOqE7vryHAC7e8P3DXbqUWm35r+c2de3x/f3Io2jKmkRWmmtygMct3YfByhRt\n",
       "NgZJTJlumOtYBK+ZrNUC0CHB2vPSDDcEdZRF0F/JNZnqFhsVebLVfV2vJ+yr9cgXSO0ezk0MgDYi\n",
       "r1rLYjK4kmr+QliZF4U5BjoSYpb9o8cU9M6YxN8Y+BsMRJDOkeNq1Dtx3HfctfaVZesfQjHBOY+w\n",
       "z7QnZDMM9BEPYbi5q6nwL2F+FLan/86O1rrLv2iRZO3Htq5h2VWAhx4EzjnWfw8TgsDU6ZKzDzZp\n",
       "zdYfLyx3covCzEknLpTxj3DJ2sE93Zh0+1cQdLLg4biAKjgPFP5+SbTqe9IoeikFIygd8SZrhQfE\n",
       "dXeEsK4hpAYyRI+ATpTha2CcuUSm69ptb4oHegEJij++o3hZU3Vy/b7gc35OossXvHHdVumZTtJ1\n",
       "wBGxT504iI0/D6C/3Q4lmyBEkoa+0RI8B50jW7IiLc06mdf4J0slWUb2gafKwdLe0dr6GPb570ry\n",
       "R+TsceU9p3/R/KuRwyFVHfT5+ymsyVwmCWDGv4FasR5alhpF3SaMyeIzxZWycS5sW3cFh5DtF89A\n",
       "3ihnmWqOIQOJA+EeCxkYemllj/Xhv8GWz4digg3I/k7ZUrSpMT+EiUEKNIqqr+lHnNu9/FgjJKux\n",
       "5CRklQYU2pFF5X5yv+kSddKZzxhMcWIV52s+vjeowqsl+YpTPrt5BLv0GIGAt7XbqSJ8DOq4Qgii\n",
       "AEYrG/bcTMfLldqVAt5iuaf6V3gXElgAuhoRXPyu33kNjKLqGgcjE9THxcB3hFu7Gwx8QvZ/MoNj\n",
       "pWtfq2mI661xiW54yiEK+DjKuUH27tvMPvq4MdKefhbzuaGXjJn6SYN8QZjhV0fn2eR6nRpirO/B\n",
       "VRr4rR+nEQ2SocTRR655GuNHPoTob7FcnirLQYm2SbjJavZYNwr/7HyeE7tqYIftFmmtL4JJvZou\n",
       "pMKYykToX3+YqODTlv8N9Ts0moYgqxjS2e0aQL4FxeBnfVZmVFmadtXgEFesCuwwF/+LK6bT0W5o\n",
       "OQS1TESab8nQrpgzBR8mtAlNYfKokRK+f0jiBQ6zhPedU/Twm/wFFFFoFgEiWdsKgpPKg+GW3Fpj\n",
       "ivtZpGjJ9wuHBZbwLF4lNG5ZU122oAaxpCgOr0VKLj9x++GEgLg26YVW+fiqA21jrz3VUMRwQdub\n",
       "7SRmjXZsOl5EdnckXuudr02b0s/sre2SSiAEmTXq3dPWrFd4l2irRufWM78bXtr43o20Th0utPEk\n",
       "ZN0DO2Nxc/syhQtrPS9XQKmMjD0P9fJf0NL2HAvMYWQ+BIhPUZ66caoB8BkqxHfnb5yJwrqGboxK\n",
       "XyJZchEhOvB2Qvub//nWUmhiq9XeA6iBE1l90eFFaoX6jD+8x6EtZhEHvpJv16T2VOfI6d6WnL74\n",
       "Ff+5EjLV/UeUMXaSW3rBq3+/AawWfnV6FKh6PK9D5M+4GLHtNHWsz21yb/WzZ/HiCw/24342hF/Z\n",
       "Tnl1jCnB9kBvUpflrncPaF1IxdI4Bus39emHKT6SvmIdmDbBmBSnPzRNbCrvPRYb/+5+fqVO3ZHE\n",
       "ELlX2o/diQjv7PRkx6QS9rQW2ViDz+nILRT4nzZB6lFCcFKrzGnXXJf5AqblQUbJHBn+FOeEGCTR\n",
       "8rxpIVzZwENqlpGkh/Ftohj0cvq3haBUnFhFZQ6orOXDq6z5dsh849bAxbQc7i/EPvy5c/FhCUlx\n",
       "zFvMZ1S8sxWLXp6CLXuWEJr9AOlebtoJmPcYL0iNYyuTnHjhrI13whcO12NxIzqNVl+tuerQ26LE\n",
       "Rx7aSlTYZP5K7FybHcJzxUTZZn3diDaiJqQp/grI8a7BSr+y7NlhbKXzO55mqDNqFLCBVPChh/hB\n",
       "RIsQU9T0T1SgGjxqS1pqazLTBRuQwvLF9vlZ5ze+6VueQB/kcgN60SGylbn2SMWgcKa7S05YoSWR\n",
       "T1RyMVgP/D0lx+ccf2QfIEhoaO6/+qxiP9zSgKLj0v2//+xeE8eD/jGbk94iT87PRAngYYYhgPHM\n",
       "loaJlYVCcEFRsqHN5CqHiVL94kgGXO+bbdKBAIxAE3BeqAVv/c70vL84FFnNmuLahzmJvnrynNpU\n",
       "i99mkeMOsnYYbtXMLF3QoJWBr4Gp0V043zh27bhaWHFjSFHG1ar9j/fqYoGhyOfN1svdp1VQK2b4\n",
       "hcRN/B7e4PUafrMl5bxJM9dbffye3jz2WVNKCp7hqV8IWAjx59iVcovu4IXjL2f86Sh6NiT+V/V6\n",
       "7Vs7sy2eMoW2mMc8HJQg3LUdwjf9wnE5I9lVo+SSBeUJvOOE2+jUTR6HyLrp9fgcc24//TVauS0x\n",
       "icp+gHxFCmc0k8o4aYeld6+qs/whIjCuAdm1bTBq6t5QVQcccBkQpui+2gp3+OQCCvnO4LriPn3d\n",
       "8/DTJBt0NPhNcvoT+JT7RJmAnf5Ph3I6uOJzBhcpPBRJP2jmJcYe+nnjSDIMuSeIc6cWy1nRR7bl\n",
       "lzBf0liJAcZaibDw731ytwWrhhniUiTCuO+PsbAD1991IcEWOWtzNy5Ay2nRIStxW4jzdE2BfdAA\n",
       "m3GdVklkKuUL1/YUq8GLLWsvc+Nx3XkS/8jaQOnsHd2XQoSW06mQGU1TPlnGR9fe3Oklu6895/Qd\n",
       "A69nMH4hwV+8kWSNjKXgxfnvfyC7nymPzbKnFgqbPy37BpQwy0nDbFRataLIN9oAFfdVRT0kZ5JY\n",
       "q3QwKUyx/3y9fESTrHTzt0kfUN/FH/Q38VjlqqwBqZXeVRuel9pwqmJKOBM8//rCSviupqnKE3Y2\n",
       "AFY7+fVLNPEO2kVfn02Cbnl6N8eIZoCi0ST9iAm5jMw4q3heT5FiccvNCP9074enG5zO/7TySuIt\n",
       "KJNahPcppI/ZFZKei884Xfmv5GS/OActEo21/ChQOJdQkoE6NBjVJuJJMPgASAIN0Xaov3Fn5oMy\n",
       "TAPszVFRap93ZdChJsxPyG1kBxebZXQbe0mCUMTbnOwKsULqbaM72rclcqrkTmXRpUbQaMxJ65Fu\n",
       "/TThzbBAQQ8dPS7A8F/9tmjaNIobbwIS/OfTtwAAZlOLPRLvLz/DQmcWJlsNBF038eG/xGm9aOw4\n",
       "+BX6IUHHYmHcZ7UfhRIsPZx1JU0qAmbe8OINuAwAPSizO+ST6m7G1BgvaCzhyHevDfttcv+Aq92k\n",
       "ckLUUVlpE20/JxrC6zrV+dlx9WrVV0xRyvjY6Hzh4YtsZEt0YONtjB/PqPEdIDK7sDpoG0EzblIR\n",
       "7XL6YfWOy2QUrUOexz/OArQtxLa/mQ0r5b8S83QCCRXFqsk/6RQUkn5MA9xRs8jvC9v+QS9+c2bT\n",
       "rx6XkITkJ6d1KbB2SSud1dGkJJ5eVMo8JqsT0W5VjQ/U4vLMbCT4wAgfkwZeknL+OSHcgj0m0U7N\n",
       "Wk+wITFPTDhUXJtk2tqHySvEtnwQyxIRLSGBVrCv/oqrNUpli0y2dxpAOnzJKuecsbxd0AA8lYW2\n",
       "N36r+UrMmad5il+9Qx9sVkuHyfcYy484gd317+p9Z4OzmmTMCtej7wUCKasyNYb5E9syq9VjX7DP\n",
       "/3qR7sPpe9/Svcf49WwH+zpqpDVQDoEr1t7A0V9JpvQ8HqfmyvDhZoihb9l4i3qdusfXdB6fIf2Y\n",
       "YzdgXHFrMepDktdI+5tUjK2cUMNyqej8qj9RzvGaIssNsrCCba+SBZsm4kq1F4hcsIqdJzTHDQqs\n",
       "y0YEgYDFl7+mVm4iO9k7CTQmH0QRPhdmxTK5mL6lOTGhqPNBTYv6JswH0z42xIyLGXSnUhu6LY90\n",
       "8oZd3e5ss++zfV8srtwKNzNJjiITPZJUbzoM1w1WBheaLQmaW6rbUzp8RJuNG2mt8WlccTct17oI\n",
       "qAdLmUl/kN5OodUIhHCO6mK3YhO8k7HvfKoFq+HTGJCznzMZg8niCyFq2nA3Vc4KZnWeZlnASmop\n",
       "2yMCWcR8kG0Gj9Eik56C3zkciao50dhTqX6Ekg81bUy/sYMlrRkM6b+vFGtGSb6JCqnfv50z1KKQ\n",
       "l6yUMqzILijXEIPTNn3nK+BgHMBLbj3dtc3T76J2CGI3HBNv+Q/4ASjClnpADyFVAqlC2bKmn6JR\n",
       "umuFrcALx/3bPUQORHCdgveze80QkvukYxDgV4+7j+Sa+XMDDiWDHFcSVqW0lbvJWozmKxNyKumI\n",
       "L01EewbuSCMsHPSF2LiwMyZUMRcva8v8euort/Kl/QM6az4HGDVJXZd+Nv8Ef9/zE8REtA/hCMY3\n",
       "CTxKKYnz5JG6V1SMllWCx2vp54JhQkkLh/SeDuObR0RysbnMmpQJwU+PLIMlQt91JlKPMxi6flq5\n",
       "gcvJXp/5dzBRlHlwBjTUqGt9WTpnGo37L/G5dR2uRFBvLT96M0nKfY28IFmZhfgAawNqHI9AADHA\n",
       "YC0obY+ynoyFDa69Ra9ZhkA/xi529mCeST0arw/Zju7QhD3LmlFSi7UYNXR7A3fAgGBixUmv+wzu\n",
       "swt/rMxWihpNB0BuyVvJ0b9XHvKMZldJS1QLelODnrrqYD5MO2zbE7bI9AyGwBXTi92jharWo/RL\n",
       "5KLEJ9e4Rzgyn0fBM1m7+tyJC11M9LFCR4tAuvvdaracd4eUBYP42I97EdPUY1mM7vF+5ZmDIW7C\n",
       "O5NstfFQ0Mx4AvJ9PLTDT7c5gaqpRqaLyS6oJa+9vlhyCRfowhf0zpDSkOILCGr7N/gsg98Jdmuv\n",
       "9JtpehqdW9FOsbAItioziO3JQR/xpNbmzNtRTJwz+8fnKoySAz5Xz1ObMsOsdoyHdDbuj3/c18hx\n",
       "HKyuSpBgRPXU1AcruESg2j/pUFR9O+s2x9aATlTyzlx59UGThN3pAzisUIK6D74OJbtmJ3zlGFnz\n",
       "Gsufr2U529dojRYJ4J3pidl4TrhVz3Unmyt+DD8HSmiyR/EYzazT0210crz4qu80L4Nl7Dej+rp3\n",
       "82LlhiF8sgW6ZnUjkB3kRLYXUxa6tQgOo6ATr9E9DrsCKHdcexuiQx5w7uLobTgzp0iZll9YCAAB\n",
       "texfFuafiok3+YEuKOSy/3aqsDv/WYYFYCD8NjDiJM/CQCp6X8fSVgk6Ta5SBXwcZaVItQ2emyoE\n",
       "rapyysNkhfENOC9FLaww39MDAg597H3gaPUQts+cpjEfTOmAzMNi0+EffQ3dpww543PPQnFfK689\n",
       "GiNf1VDgwzyCJhV1XR/S4LETQQZ+Lu7XSo60qFGPef+78JQzH5Q8AR3XuDPVA9oFZ0zQAcVWBPVk\n",
       "q9pTl7cDcqpLb4F4l20/vNiSc+NangbK/kA5aPi31QaWQHAH5pAIzdIEn/3tW8c/R1wuHfjg2CJy\n",
       "THUswaGMbkCoPfb/EhHV7wjJYka0wBf0/hp/Qbk1NT0Fhx2Y1+3XuN4WKTmT60Qg1gX93QeYEucp\n",
       "DUG0rAYH+42xWyBpke8QXo/yENot8ApE8eYpZQm//vGa+OfSZPjMngwcEpK8MJc1a1Cv9AImlOPs\n",
       "R/1yoqYkgl66HeVIPAVidRVTFNIKUOIAb57x8EF7x5ef2GgPf/xpVk1YZKvjXH5HKCxACD5vZJ99\n",
       "BlZajnUO2K9ManWTJwCcifLsFciv//b0LjKcn4BXXR7URZlZldIa7JvkWk0PRb5OKoUchI5xfphK\n",
       "PE9ajzuVqDS6VFatkRdAzaLfcXhmVpiAq49Jmc8YfZOMpvg1CaxscbdCq93+dtIs7/tmN94ZR/CU\n",
       "mfFcc/R+bodEBDU9jzswbKZcy0n/cVRv1+sEEeUTCdfAFgW1VHsYTGOh4n8x+u9lDHmbQ7GrUeWj\n",
       "MfcL/uGtmkaCkDABgxo59tO+kUo4IMc2xLT1WY90Qgo3Xbjfv7lw9IGpk0z+lda99WEAh49oOIVM\n",
       "VYNi1xl4RTUIfttHOm+svapKKAU0VhFC8+/iDKflEadgR5gAb2Xkz9NC1iv5tO1qNOHSejfddkla\n",
       "3G8Pv6yzGWTWc2JtkFq/fKV8bgkJw4lM+PqRFz5OczmwMHobBC1USpnMM0DvIhCHShtWVhnTG73S\n",
       "H/n1ZkoIRZwqmvzXBcRezx/Z1jN40j2nkcfTOnDiwPwfaBxYROObhNepMq6plK1NyX0tJhEWx7Px\n",
       "SChFEHX9Q9spaYnTnwTzdvoMt1HeEK5Hdy4EUaYLfduZL5fWXCzMqv3Wu0EZLyb4lf0AfauMQzH4\n",
       "eH2/aMv4KDQZ0G3pQR8DxYaQtfjxpcb67pZ689Mjxg3kcjuhU0FfrOY4NLjuEkG6i+c9ahTFWk7u\n",
       "WULjpr1p5rpobz0dNxP9Y2a8KvN15TS6Fv4grJ/L5BNZG86z5e95nXJJLm/JRVqSPSj/76xhKjkg\n",
       "NSiutK/cyoqylcC17CwgHoc4OLu9AuBpTymvxNG738sU2y2x/6g2wdw3qhxRrVDCR6YJtTqZ7wo3\n",
       "+ik++387+bK/Y1YxyMsCVtCN3wFwelIYeWQNGXoYLAk+xNAbXQFtJLCYO0Fv+Vpr9ZfEAKYu2aGe\n",
       "wAkx/w90zI8z+bfQFVWwBw93lSj1fwkA6KB+n00sE8reBbN1TlSHFkUe5mFVb3aI0CVazAjdJeMo\n",
       "/61RtmWRoAXJYdMAUuKG/N3uWxuGPXDqLKUaQkaPVDhsfmzyE7OFK//GQ8akENLiLDdUaboqXroD\n",
       "nzLTanyFpEzrdqqLjAZE8btVb22PAdq7u60bbKmudgLpjfB39NJ6FdFWEk4UPWd/yeOB2wVcaCDC\n",
       "NA1LT07MhWp1Vw86CQhDov3Ae9Gyqi4Ci+aC6vwwWq6L33POQ5WQ1QXusD4YiVMsRbeke2cVhLIl\n",
       "1xv/Tog+MPKHf5WAbLxFMQt9otYHU+kUc6bx7g/ebrlpJkv+lztYcXtktk8GdSFtCIsdZJOGlb4U\n",
       "Z3fYLYSwqFtYS+tyqEdBwlz+MpaQKLnHekNHbKK8Fsdp9ZDIvQPjajz2nQxIxbLRjkweue97Rio4\n",
       "0VgKf+DiQabFFRgFnrMI2pfSSynpScUYvR7oj6G12SDUKKeXvawdN4Kg6m6swJEzRdII0DbgnuJ0\n",
       "8qgzRv1yFHRqfMW4cMDHrB+Y3IZp8+csAYDXsuHWMDgy6NYnvyGonbrHDFrlCIWoHxPSk1Wqf+2y\n",
       "1wSVJzqDLtL0mRFAeeqB5RWNjOIrvbniiQQkJGK7JndCQ+9SDEtvLIAUl6vVG3/7rt91F/Fk9j75\n",
       "+3WC+082xqwD5UIf+n25cYwu0EmgnJciwXFwf81LEmONoF3LVyhFhryg++jpS9KePdf/r6I1FUQF\n",
       "1yksiCpZuGyhQ4a+nP9FgzDGo8jcUyEKk7ICxzjjlGpB+XnzaDAyAwMEa4w6v/UYkC856Neca/DB\n",
       "AO5Xvp7Rs6GDPLbWs79KSV3UWiU1t6gK31yxA5/ylz8+pb7FH/vZmpHWisXdJtG5s4rPUsJSFTXI\n",
       "YoucPCIlo6q3tern2xTZaXULzMaLe6M9let17rqU+z9BFsJUNXGYYGk+w6mHWggaUkwmTdJYv0yB\n",
       "crZHt23sR4SFtaPeu3m2tE6DbDKNOhId76EHL8+aN/LJiosZb9BM2ltrFytvYltWCXjY5xDggwGW\n",
       "PAMA0eIIHLJqz3w8AcUMgvtEBfv0CERCti8985Cbmgp2dwTyG6Iv3Idv7HRuEjzSFoLx/KUXvWnS\n",
       "fimJ9EEYx07lFwOmI1BtugWKnj2iMMzzze5JK63CGIYsRI+p0t1E3WG5P8+ODgshMXpfcK+YpiL4\n",
       "aUaWd1PE9Dvcbf3dF/912c+i/fOv460Kd+BTl4QsJt4wwUYL2JnADToab5DP/K1n8OfIhcEn/uhl\n",
       "uabtokVTOWEPVhLgGpQ/RVFq6zT+jHYBFOPfQkADdQgWcXek1dAz5w0oHIAGXgYKnu2gi9fnHS7p\n",
       "a52Piaod/Caf+4d//eDeDO8ADBC/LJlBU6HphALU1ty86lx0pWsBRycPXcgbpYOyAaLcPaASqE24\n",
       "X2Ab2ilRuwLrj9EZn/WRYcYMt7AJFP5kihuBKLG/ITMSFybuijr0hcVrc/BHHkQb1/wVXQZ7YAPg\n",
       "vM15N7fhy8Pcw3XdSTNlehnBvnErZwG9wSV2njZUbcaiwAhXh6/s/U+7Lspawcy4Q6HC+VDVX2fU\n",
       "dhyeBOa6tFotJ89F8qqd9jH/K5HKhukFyYYeUvUiYFlb6uJd2yhb63ZkbQ3zSmkbn+9FMqtrtYYV\n",
       "Oi0BCC66SMPK0wPs+5kqDNZgXpG0usOcqLBExJgIelSMJgppo5/8F+imKUyLocoiLYNZStrSlgrt\n",
       "mra1SQiQOlH+R0JINBuA0prhMYr01r6caMGiV7bjyzscQ/6kpmGxvl9UfHC3N7xdJ3mvUAs3nIvy\n",
       "+UMTh/Wgm9dOLfh0tzlx6ToxDcuyMTz87dl4Tdq2/xiWFOm5ppnFejrUvKe+i0X8PcyIgLCkCsbY\n",
       "rK6kTeIiOv/zFPRDU5FEOzD3ELWHV2EiFpnVCU4NDI58OrKSP+FkuNqiEUOHHUuXAARQzWAoGFOQ\n",
       "CQJZvkfmflfET9ZJPuryoxuFe+dcB9fwzTEaFx/aaalGLbWvM+eIC42FEXqkqXfa+VdGNZmyG7V6\n",
       "Vt4Q+kzKt3Ypc2CJb+9IqmmZX2U90TPRJpV4PQAg2H8vAMHpu+1MbO5nSPeEDRQ4aU3zrBzWnNdE\n",
       "MXhcwKsDh4YFOclXal3K7GqVUyH7BrKJiZZKcsRBaNfg3d800XsS04aMk8fdjiwx7525n4r4XhxW\n",
       "VRS89U5wVO7ah/hta8eAYYiAFhlwqh7MeKxtW0FKERnpPFwc1PS9KfVk/wQE4ojkanPH5YueZCdM\n",
       "HdYLdaG1XDKVABszt48Ql7Dl4JMs4wmwVS7xkE0J0/SoLTgFeG1wKcCpI9tSTG3MKzy+YAXB0mWZ\n",
       "bjUIM7u0nJbbhPksiee9dcPSVqedqE2varSS6NJY8ng4IiCYBdoTKkovi5TbNVhSlO6ojNSVEtuw\n",
       "65UoZ3bXNL65TzS6X9xwfVqrde75EZq/3nS9UvHO7ZjYXIkM/iyq1VJuJtUDP7d3WaaBigev2/zU\n",
       "oy42CrcqQVjwG35hxAhBzxy4pVCn5P+yHEUcKvK4b/Ier8LMG8ftT7sq0gq35gl2Ort7HB7vmImn\n",
       "IOKfGTkvJkhVAWu2pRGXRk4aq+5uqLVmyPZVsVu18Jpw0RDZ+JQ3ytvWNdUgbU0mFTG/QIsdDEvd\n",
       "VqxC5NqO8Ykg6CVlgu3EwRs6QRgd8/9jNyux6EmPIT7XPaTtFgwYbwMLnziDx6wNO90euN0q8Dht\n",
       "TgjRJCGEzR1ROl0lj8zRQz170AD6XC7dsJb6fbqMEi/cbL1p+sosClTef4o8a3bVbGQdA83npSd2\n",
       "aDs9bgEHnAVcCvhMo1duYXq8RmpzwV6yJoCuCKaGNUxV+bbCQm3Zmi208YCLA3MdVXOvpKQDpxjM\n",
       "4EgyXot06nTV4cKxDvg4K3p+6zWsRfrcv63wAFPaSNmunqS7Pgomn4FeInxsD2DIm+6S+znT1xuS\n",
       "VmmVGOtZz6++xKnO023lf14010e6yxosFAuZ/9KtM+NURm56AdN8Tb4KBfZrOW9Og3d5aUtydV0W\n",
       "HOiMfzlndtY95OqO0ljJJNaiG8hriUnTo0lcu8IWOAiErrXTNVqRn3QEsd3P8q4GUWnDllN26p7j\n",
       "Ne2NcWISzGu/tm3Itrpqtf0fFlbZ3lToMqnep8HoqSCQjrX+gB98oo1oaklPRw2vUQ4m9NY9mcvB\n",
       "oD/W5i4fWWh1r0RuvsdKDz58xaNxf/1j70uVcL4vWKZnWyB/Tp7vCOa0DWE9ZbuFPLGAx36Fhfs7\n",
       "whk6iD9+F8yAtVPiI1Iw942T7tksp4vseV43Ol/gtNUud7fi74VqlFsH5R31Ih+ROujO6ibpAUFt\n",
       "uljU3Jh8mth2G7FUIbVCX7UPizfQkdWzQdL9EkDj2ZuOPuY+wnL1mfq7S/Oy+VnMmI+0aseQWjRS\n",
       "mjRmAweNXrx6byG6hSd6WbKrbzr8Okegr+8/L8TepoUdc48yetcnK0IgibZxA8G6i+2YTlRnVHdP\n",
       "9f3Z4GOsiYmDg69wmGxcZrkMsImiLHqfQvC/RXdZ3ptoCb6VnVT26HJG33BJZI18g5Mar1RRLUiy\n",
       "FcSyKqpQJJc4BKjMl535zhKkZfjkc8Z8o5LYWt7I4W5f2IlIuJrkR+w8VMRB9EqLE/rX2ZyM1K6P\n",
       "WJUbR8I+TheuFHijnasLITuZk4c+dK8dgqDcvfzkFp7uVch7kHkdf165nJ3+q0+wRbuiJdVJVzq6\n",
       "s6hTRzaClwNGe/04oHpePaxEShYsXVRPJz6Xn4KOUmQ8aO8miQT0A7ots6vysaKEV2aZEnQWHhkq\n",
       "QugECedIYS2LTAjM6scA14apW9MBmgbT1ojKzvrrpKHbTr2vZLSwFx9Nv5jyqYKe4aWs5JNZCMHP\n",
       "XpEDU5H8Ofj9OwHsnaJrZ6ZGk9KfrtZw6KYbsp+lUELbuspdC+ditnOZyPkYWXJ9dAuIyj/7kLr/\n",
       "koh0A4YaQoSZS6Dus+UQdzsfz2r/75EgvWbe9ClQUZ9J3VzUmwXdeC+K83mGBxNQCKDG5Mh8FQML\n",
       "Ht1HF1+xMLhUciIHnofvErjV23tsTkrW1yNfofaoUfoWlNzhXe+9WELV6wLmHjxYaq9cn4k1OKVU\n",
       "IMvzUexWVg4Oq0qCL1Ao5/w/iR0CEaHWD+63f/mVhdqg2HnpeDQtfz9iE6srt0rRW2jplMy77/WB\n",
       "Dcm5PwQ/TjCOEx/QDPe1lmPPnJH9g5EiqkM4qdHkAbCXJNDnm5Ed0qA9duVpM7ZT106AsGkTpVsg\n",
       "vEVr0MP5wL3Xe/aYHaMSvCSBTd8CsrGyNN5mELBA9WZsXRSf6DP2WrI44Ztk+adrUAVXTeLkNZp8\n",
       "Rq5D8URchrZjXiKs9slDgoLfXC9mdcGXZ4U4tGdv7DrYOIGPCA1hQbKc8XpICLZh3/eMhco+uNfU\n",
       "fqbslqN0KTKKgoze+6QWusOUBVc/t5De2Xchf7Yjgcww0EdZxZDvzFYBKRm7Sf9XST7Eci/GXg1W\n",
       "/nMSz56Yyow/X+lzGL/MeK5Yx4mmulG7TISejibW24OonkFEbAwhxXBmCN7ljaCpG1CP/L5q9baA\n",
       "PaEXLGKZctMBh/6ixBa/nar0y/D6Qjd2XQoSYQWL9GBztk7sIuCUHGM85ycLpHaHZuxBfz+PplH7\n",
       "BeCcgvSnSUbqG+GLg8Be7x3UzcON6KFu4bXKZC3yCwY3gKevmn8JpDFwrUN5AE2A4f4JbGj17Udx\n",
       "lX7VDRxf8ec8q98yDA9RqIMU5rVyalVKo2KSJqu72ehDMsM75MBrhp7n7sspq1ewayqoyQePF1wp\n",
       "u1smsOO4348L+I2PmyM08s9yA9IbaZum2QXsmWamqPDZAkBCAdcVRodnk61MuMH2Sa4xzUtG7I0S\n",
       "DhczQd2Ko9hZOYJzVojpDMZJjIrAgp00gWsWtBOEgbWcVzymfrdRqcOq9uitgJflSg/J3B9LXts8\n",
       "B9O3ahrc9iIbVu6FiC8v94WHLfM1yiuRk+XObaikrB7CQWhMIGnAmFXntKYT0eaMHFapbFk9uhZm\n",
       "y5MT2g4sjzz96DecVilHeR3qhpCd1at+t3m3vBsHSFg9mxlsw1D0wuEe0oigsscAi047uxabFJ1n\n",
       "LARyM4G5+6CFccmuavDcAw//uqYBYeFjockyjDxr3YNW7y8w8GSjA0QoWwoHJq1156rBfFHvTk2t\n",
       "WTy/8/Oq2FF7HPGi/iRtNG3DhYO91icb1YwSfnDBTQRSssMKAxxTtHn6esYkaBEVYZU9Y2r/ZA/Z\n",
       "l/j8IxqWEKiwkS4/mYoLWc9+S4fiMMBEpsEDtfek7t+TtcrAa4eQ4XVqYZJQJe0GnVW8gUNocDb9\n",
       "UrG7jHag3zJgXoAcDcKFTiyvBbNvCIuw+griFDDEev9JZr2rgl72d9TO79rts6+ROaGOraAXR6TL\n",
       "Z89xWucZdGBTlIHEoY/Slk9c3VOBZXYKu1MJER+PN+3uuKll/prQkZN9D4a7H8aJcEqOmU6mVwCl\n",
       "uvRL1AiREtQ+/93hgnLKSB5zWPXnlfO097qVTLhFzOo9XB8zLmSECSjn/Vk6i3CuAnTvnX26dX2B\n",
       "AtV00bJE8yOmAEltIwdAwrn7nTgLxGy24Kq/0r8hGILMfgGFkaW21UghMwjazBaHjecURQnXgyv1\n",
       "FTb8bKDzUrlxje03oFV7qVG8iP1xZtqbw1lptCaYPjoQDS93cIjirECJNXXGdqG1lUy5eoko9w+c\n",
       "0qAwKqheKHjD+5uf2D4cgHwBgEBgbQMyZyEFdSzvTuBbZbfcWhRZ/qXP3SORnNCXtvxQBuVx+cba\n",
       "LNVX2T9aQKim3VbNYQsy+d2HwZkMtpTcmqxYO+vR0a/9I0kPMIhHh49H0zZpSDPrNAqYG4Oou0l6\n",
       "RzolDHnDftY/72opDamMtIKaNQUDtJK0L1x34e373P+2jiZXpLanbxfaQDUx8yY3Fgj/84NlmxHY\n",
       "ooAgwELQy9Bg7Z/VlEFePT/bT0GVXe+3+XfLaY7xg3/UzFGDVF9Lxyvw2MNMJSVZyoLVRvF/QyqD\n",
       "+a3+sP2EsLpar3bOoyowJSg/zRb7uGlbI33HoAwFGYSmF3GOVjAFRNjo50nKfmsg6rXmLqKnGi6V\n",
       "9pCFHftLS6nmb9X9cjQ52xxW0kaD8LKFpv55aapASAxQGa8g/Tt72JYFt8OkBM+SN0dX7Ptl3/ha\n",
       "/khZyc2Qf5ivrsJzMk2THzOTXGvTML/BMKZTmGU1Vkn4WA1oRQ02aQyRiGd8EPzHYP2w45R7nLNN\n",
       "0cR4FEpcVnAlRX31c1r1UKWXJeAv9gM++YtFvqI45oYRRV40K1/jZlPgzreGbl3ctu6A09kgdoG6\n",
       "v/1KRGJ3J25qGqG2eKAJAB1Nb/z5QS7Bd62Gl/5Hm65jJ1H5yqhcISeI9Fp+j1vLDOf0vpXUwGd9\n",
       "mjE08eav5mOHAL56DvyVAxW8JXogWWnxXKJnZZ4BkXr1lreqVWb9hKVZjq5vg4MWLuVSeruITYeR\n",
       "QuRJePwr4EZe3MDzTfK2bDB7wQDYNnG0tuUYDFuYKf1o7jVWMPVMuWpTk9Kx7+iDl2SDOR9kd7Yz\n",
       "CW1UC8lSxHd9fkSxa1ypD5ilRS9GD0Do+w79sVc74QxjRTxVLFm6XcpvYG8gcy3RyGOJZEuLhDos\n",
       "lzf5khJI8B4JjCDBMdl/z88SAALrx0/gIhQbHZRiCzTLZuzolAiFFa9BrAxNymsKboEUJXROLDa7\n",
       "5tgfbeHNYLesd1Kmaj1zeg9CxwL8L6Ib/vlYoXvTlFdecr1HJzuP7uhGc6f1r85WyiY+BkarjIQK\n",
       "XeRmsK6uKGbc8QOU0XsghRaZWJ4EvglA1noy2ZstE8qbvaiLR2L9f1bS5ExTGh7xX7aKy48n52bw\n",
       "gy8czgg1tGXhWNLjPEfo5HwJIDRoEbVRllrFbzeYwJOG+yH10uugxeBviKVl70rn8WhvrdX/xHs/\n",
       "Dg4VqDr0nvs23xIK5yCKT7KIo7TVUZluK9Kel53mOhiZ3r9w9rSAxuFJx8M7NDamNzhVkuBcRXA4\n",
       "fUyQOZUR1hQZYvjNmqQrFz73BVbrP+aH3S2G7y21ZPbpHD47aZd2nAYAKeqstxnfXkgeVpnSuPhc\n",
       "g1Dq3QgR8ntEaS3vFaHelF6w/9Qi+Cm6cOnZ/ZO2Lc5Segn/aVtXrXgoq6YBdeXJEPAnvqN6kOyO\n",
       "ltxIgL7on31hqERaylPqqP/NJstXuqjv8++BRicDUoN90bGjLQXNGRaaeyv4IsQuT78YfF8RpGwH\n",
       "2L4uhZ2+Sinlb8nCjlkhGXrWDOK2vyadDbGX3cp5X1RwdcU0Q1u66nb6jwvwAoNCpAr5tFshSlGq\n",
       "fQyU6oUVjU6UQvWca2/sbQ7ExBuTsZmnPJOntN3si6DlJJ3atA/lkqOtJLnPz9zNVqQc2Lqj/3Tf\n",
       "e1OQGfnR5OIpHQy86CVBF/rPy/hKme9d//1G7tydNXi5+MgmzZVnWSThXQWzGiViM8A6LZJppgXS\n",
       "LmOIjFSnlDhq/VCK7z0LmsKp3jI8M7vTGt1nv5ICjMEWqpTDIRcsNxaJ/+tJVo6U7AfWJ1Tg0QD/\n",
       "/3RakGkxF7Xmt395faMhMbfgKA7f6SftvigeFtA3v49Hla7T2c3xhfiDBWNHuwvLrj12PYVdSyjo\n",
       "kgoDoXTvYaelSIcfPhYDcw4eHcKelt6P5+O3AdGeqJcvTcISbrHBs7ZFhs094mXYIh6OLPrhES5l\n",
       "rvmSCx8vrVUiS9pW7ZLo2oQ85o25aziKCWMuVIxmnJ0GcYXtbB4ipNL9c8jYwaafYQUqio+mrViW\n",
       "W8ogFwVnpcIwmkDvXkiP+P5SBqpasROWbBvpBMmQ9H8AvITkiL7x8CbSG4wU4XKKIIpdBuWv9oUE\n",
       "7Pq6ggOw07+w+iJRkqKF/hb/70+GXxfuZRkflVNXMpX3vqN8ARZ62H6TRmth1OraLdJBFXCf+KyU\n",
       "sq8gCLhZQKcigP0tGf4ArqVh1Bs3QOcT/RB+bamdlbRiiTUU5AzdndPT/TmZurPomIqPfLMLkA0J\n",
       "94GRiXR78sbMdzWOY3VuQE8743qWr04SBLUXWdtl0lgAAAzy/Q/Mi6W4XtAzhExsZIC7QReYciq+\n",
       "sKca8tgwQFrtLo1CwIno5URahDem+tl728WldzA9UIDGRDo9MM0CRTHWzOyZ8puawGpyKFJ2km7X\n",
       "zrN8Du8kvKQdi0cgWecdLVxZkoHBngv0Fyi6iGiZ8yM2Ul1PQPlW19sU+uwcHHbR5uxbymDa0Afu\n",
       "okfpqoEeH0RT3UPNnBo/E78EjlRHQYQ37VszPfOyXEP9Nd//CHqQsfzS2MT7GML1wUtoRh6ouGDH\n",
       "lpp3oYhPATwiSiFuqag4MO30kLkO4hvrRtO2N5Lv3OT1pZNC2JiBzVEg4GThDYYSR9xeb86sHx21\n",
       "6Yq13WKjLxeXcg8Cb0w4ZXO17uA642VLucD9OcV3wTvzSrIdA+eVUff8bR7LQFbXnbxd2TxpYh0v\n",
       "KAK/347xFKyFKBf1cVwQFGylK/wyFzwPjzbvIqCrQKNJdeTBWAIH1undQnS8a6VkrPbu7egdE4qq\n",
       "53aveASjaWTu4veew/P8X8icuRWUa/ggDpP6lgHNcF7CkRcdk+w8fUKopMFBKCBX9WGTs6dOcr5Q\n",
       "ZI1KrcQHdQUgJ3O4MNAdL6qf0poW+kXGfBQb42wAzh8KvOQcHVOOGn5h+MR2hU+C/1d/qJ9pBt6k\n",
       "ode6+VQZWItv7oO3O1poxGePXTUYNyvw3inIFM8vUdL4FPy1BlYOIZm/RWdaRCf6eXKwqQhCKf8P\n",
       "Fv4xAjJhV9UotgGP+2jQ5iG/L6jqSvllDfmFXiEPLHpbm0650AZLHv/yqNS9zAsgs4/biSn+ZY+1\n",
       "+ay1SimzDeNPzxpW7e+WewIw5EcjN7hEehKZUIfROFKzEeMVdjjmYIBWKgLgyqeRVjq6T0JQqJ8e\n",
       "zczxsBEXGAPhgQ4MMP+oycHpkPcOaPZ2gqAOUTyLw97EwsehB51nkULNunJBp0C6sxf4HGvMJuRi\n",
       "s8YSVD010MWBz8HSOj0AAK8sSc38ZXyun6mJRiryqBjRpsLH/J4HUBs+20RQcDZVERYMiCH6Wp5U\n",
       "bj4+GlLGqDSN2gOa39ohJYb9FSBfiBejIx68GzBwJCs99NJ3Cif/YO3Wl3hL8KgXRIBSslxGRWYd\n",
       "Fe/rGe4KvK9L2CHftvd+JBoQRJN5YRnHB98Q/6P28OOrvHpaPQFbU2KVVFddmVBT+sU3EjdX2+J6\n",
       "FpDZG1IS63jrXrDgeL8Jo+Grp2akejHfT7tBIvvkvjMPaXbdIRXcXlMTeGZtLLcC3aGfdR+wxX5e\n",
       "W4BV/FPiTAc10HxMqoR9RpRSbKnrC2mQM9EOuw8kAWVRL4a7tmpCR4THj5GV/pvKjaOK9/DFFXP+\n",
       "1NYVdoTIVBUsdJC2kqRoE2/S89LwHs6ksHK/tCbtPEFBwaBrrb8/ud3UbX4yHKfExwOpe+t7oyyk\n",
       "Sc3m3o0WBE5T1X/u5UTZzLPyBjzDjzvQ23SQNulVCrs0V8vRAjVW5+qdw9UI39beetbyPXKnJfnl\n",
       "4NofnerMUMFGjm8fU7pBqtIIzgm1GJNNFrhxpyqjD/yE8NDd+nM28ppBU2ZMTXCzvhLgy+MnQTr8\n",
       "GtAf/mb/c7HTcM1rFyfyEbuhV9hxhuhjQOl/ZHWoLZio9OkTrUzZjyFZrG5CQFlWOrCt8uPCyevR\n",
       "JUWyNf/Ev/yhKNjriWY6YQ3zrMoEBoj0GQGG1dYdYrvv/5P/7YEnuBWfPKf8Mc2HPokdQqiKweGo\n",
       "Thfg1Jo5Lui3fy2Mep37FVHIvNUm3k+d68UvpKpP+X2VwvLLo1VhWD/+G8M3SlIaodVy8y0myeqp\n",
       "jzIcwyMwBIEIg6tlWEA/hQf/yN5c9/iFdYhCpXo/X6eYwXA7dTX1YOXuDYePlknuEsy9TZojml3x\n",
       "sAnhZWjMllz2im0Wy10wEp9jdOiZGkymgS88/Hwy3QQI+Faxa7h9Vd1pENlxVyvm55hbHTvIcL6w\n",
       "ABf7nyuRVLHnnotcHA7Fjbtw8f/SBl4gAMVWL1X+cuwi52tLQV77ePttK508dWGP+h0Xhf3rf9DC\n",
       "XVT5VVPSBB6V8a5MhU3FV9Ho1zuOnUoKiZ2KsgThvaTMEO4sIGONm5rSwnPPtRUxveMZq/4MY1IX\n",
       "gP6jy5bc3/hmwC67joErzDtvAwk2izwu6rgFj2SAEOvRwiDtlCGgHnZBCpPGFPuCUbLQgMiQUqVZ\n",
       "HUhhBmmKe2/RYDrP2NrvlTuJnKyuuLxpqoge94JiomTl7RryvL3plxa4GCMZw12AFecWj9kkysER\n",
       "bpLiD211nUMKis04n1XNm28ul8Xbh3NYBNYS5/Lz6i+qrTnynzr4riTXxqVkgoZ0I3UhzzvRzoxO\n",
       "SeTqqIY6wRVa62gWSvwWT0ETTqsEd9PFP1YHnayRmMtJfoBCjPn2rMztN5GD/8whcJpO2JTjXf63\n",
       "8DU/AOZqI3f8lFFetp9vN5usX/ITltusTF+566fg6ALAKwxrmflBar1YyLRh8VpqFkuy3oOz6dmL\n",
       "Lm9sfskeRWsIcOPuwe21ehQ+mIY0Y+LS7YCFLbU2pyxW7dh07H23acS0PV/Nn4+IPVmgg66NmNGc\n",
       "ZVUKOVBjOftOVvtBlSFx1CBslMgBxmFfrBbt5UG7VxmhvgHb+UgsjkHDMaklA++Zm0IM9JqX+mt4\n",
       "cXRT+Ozz/mjrb/CcLCImDgcysi+4Awv2CjGnexPg0JRh0Q2tElNCNmbN6EwZ/mvRoGdwVzaPg3ib\n",
       "OZKcYlkqtAtyusZPeHCaIcLLOr7Q7WjNt4kCkMYTQxTul/iiQ4tBeXV3AzoK38UIpt9wnfx2/uBc\n",
       "QdzV71IpcwIxIdjTfLfYr2Lr41p9wzJCCnfAU/XWrhZ4Y2oFK+su5dIqoHxI+AuZpepDh3hIyLm5\n",
       "Ngckwj/OwwRbzeyQ97DhKV9uQcl+a2/8dIcppkSP1MGrqqbtqb5BSbqop7Pau7/XuBxVd74u845F\n",
       "VxOlUd79A9oIzKfOKh0KRhrtkyd0dUCeDa8csFy2gd9Qy0zkl29I11FaH8W60E/GLvoo/MlquDmu\n",
       "dF9d+PKsZ3btSVEjYbIVqKuo0/o+8ZEiZ25gcUr8aCt0PSPoIw2PYGofqqnzGm7E32FjSRg1k22U\n",
       "/TZoZrJ9p6HwrwWF7Pp3fgPSj9NiCtAfYCzSu/AtM1AsGKNOvcLIiwVGYwEP5LJRdwyDF1BeH+lI\n",
       "XIQ3t65ZJrekv0D/UCP7WWGl+eiveXHps274Nzvm3tFtUj/D7zlp0Z1/HtobHzv1lOCalgADvlWj\n",
       "mXz9Y9XGQ0HEb4Nfc7AmzJqKIj08+BcMLiMFP2EQS1g+aq3beegFHu24HCOw6OW3CxLwfq8garTJ\n",
       "QhvH3un73EccmyjWICQ+sBDlR81mJc+Ot/DOU+8rHJGcHUDludoeSm8zwvAGVs99N4duDHJvHhcc\n",
       "ce5GAJUEwo4yHQORGGXfrx47ERA3/l36XVXla12GFyTUe6f6iylkb0dBCDlc5HNP4wZPq1tnx1Yy\n",
       "G9f9PIUcxWSkXHDAKWUenJ6sJwsN7U1a4YMkQA/Wx6CN6h40xtho/9UEb3Jer+MGmMy26wIOfCV6\n",
       "4GL+1hDSt3dyeOM8DYYtTYuUiYlulhjnSYq5+rDRKM3HR+PCMOuDb68CT8aJt4/rLfYHfHeXM9w3\n",
       "ZX+KZDVl5QQaViFuS8wVSF4uAs/l54HGQQtzLpxOeWgiHfY69+QbbolXLiKb55QoTlgVk5teNx1q\n",
       "tIumtT8Xw9rJDUt+gBv3bl3gLFmzgcfZrjloYpaWCRmPRwMZ4310ANibt7gukfn5lb1LgdDSSiL0\n",
       "QFuIkCYS5f+zo4hxKhf2M1oEP4j8bZT3/kDBB9ZFnQdYoVwW7OgjhNOyQmcKnRWfmc9FTIQk8o2N\n",
       "sd7MFXrf7cBnno4YdAu66hO8wcQDeTxfH4AFPVSLgXPqYNPBcyLf32gQ9jJ8twSfB433UPNA+I73\n",
       "1L5IgdqV0gMm5AxqSxwY5JAHFXOgp6InTomnx82E8svWv+7DK4veBshJN37AvAxeFT29GlrKDm+C\n",
       "rb9p1hhboW9CXUt8LVbkGfbgY3drSCmnIYSlbByiGXSrFlwBm2lH+ClzZHphHHc2N87GEiwOvvcM\n",
       "jqO8u9IAme+4p/Ue1iesFuSvgkC0F8xG24ZbVcbtdIPoDIj/pcQyV5g2DtttkxQ4gibe+ZFV3JsP\n",
       "yxXGAsC+X95bqIlhhQggdwR8+Vc0YVlNHZmkpyY+1ecLF61rQK/RRhW/RfFE6QRkEzDG0BLKj6pb\n",
       "94dME/hec9wfahhq7kzZVAPjGrrIHBJ296x7X8CH5r92WXb/BncYZh5NDe7Iuyojf4GIGQ81Sgl/\n",
       "tED47qpXIXvya+53QBffIYSRVJQ4HVTcn15dBO2udOMf6kWE/AmBKxrGY5GBzSwkwPBHt24fXSOO\n",
       "0+gmul2AevnUSbpzhUFdPD+dDJyzUPO+T0xj17PlKWnR05yT8elm/Gs+erFuYFTqWaaTuG9oGSNN\n",
       "lEXKnmoWbDRAASXTfj9lvNUX70aHSx56Lva+MypR0KJEruhNScNX+pFz40hxha+5n5cCv/x9Y0pz\n",
       "h0ROOj8L5koM+ZTwP9guqiKWoU9/4Q3NIYnOCZqcemjetQbdg8k8Govufr56khqBPEUieA4nvlk0\n",
       "SZqMLxMyPrGlkH8pf6qQ6gsZuU8jk4cWxbvdbMsf79nZBlawQ3Ao+KDd1eZ598ICFxWiVau6UgFz\n",
       "2osG7IE/jA3jIwnmZEIYfSheh6YuOm8/FmdZbLd+mSni//J+wDSYtaGqssHipjvDtugO6nBcSYbm\n",
       "61uONi4dNa3iWIN1y4m+hjtS1duJ5U5u14qp80xoXYPwiWYYLUXJWxu4oX2xxIFilrWcrkmN2Buj\n",
       "MtkHYMZUSfc7tnHmIMdOuhoS+kmX6XVXla12iesc1rOarfebi5yudHamIdyH9Ur3goXlW7/wNS+t\n",
       "9XO+Vwacn+BaUtrT60ocBgYkau3tafYjILBv13ZLB1J502WnaydMmW9sh7S9zXn+urXEHa/qkndN\n",
       "/XRpdbAK0P3XKu4IyGeXOWIRsF6uSxia5cia0h8vZqUfdlhhYoAeGyzkrKZa3/bpAOzttRBR2xZl\n",
       "5d4E4LxUckX267C79rgehO5LyQ/96C4/g+31Vr62L0C/3ZnpvmrZkZusmE6umE3EcU0mz+OsCtj/\n",
       "+I2BbCvAkUY8y1eXQHgusLGwXuoidIUD8yBdHMNAj5tq+p3wUYU07FJRqNfwYhzuUtXd0+DUrcud\n",
       "ksTlgc2tFu7e2u+Wt3/wLCBaP+qsbaE55Syv6i6wGYO2dgPKtk8qqFjT0wnxUD5GQMxSvWrDFBVZ\n",
       "nABJ9LPJIuV5rXEKRDilK6LXw80rOW9/mAJ5ExRWqemG98Rp0ae6XqJedGuud6PwprvLOA5rbMwV\n",
       "UZNVFrc6GGu2lET0F/7O/rIST5IrjLJDe6Uujly5ZkAKrt+cg2X+343jDjx0NFiKwaqbULNJqJUh\n",
       "tZAtxnJ6UZpM6q9OGJOB7gIbx1gK8XwppOvjlU8kpA14/utHC/tOr9nwDuSzj+2YrL49irSqBKV7\n",
       "RLg68hY59b/jQZ0K2FT859mWm5PbDTvvKgjLE02PZnh4GpOinuhBg1tUwRalO9qVif/tC36Zx7kh\n",
       "sZBV4yO7170dVQuUfT5Tz/9u/PeeEuRHrGpwFezuFb0cG5MP191083F9MuPoZZTntQEeUogjka4Z\n",
       "wIQadjkaDE6Kbw0pAk/Y7P+CMdEfC3iiujC8gzCYDbX0IEoJYDy2X0tKB7yxntWsUVMdmT536Jiu\n",
       "5LNGkWPdcxo4ClqA1Q7sFRrRftN1Azg8S+yosn/Vl9++C60uRF7aAbBOxhG+HY+CqYoZkzsG4XJ4\n",
       "6xY+JthO+URblA9jErQYcjQKs82/oab3hICM1BYdgwVaEoRcdiveZhkI+B60RS2ca/y8W55DpSfp\n",
       "3855z1/9YGVO6cFo0Qaop8vjB8S9hCB6y2cFMsY3TUixjy2mK4szxAFIqV8JwwIpw6IEH5KLSgnJ\n",
       "BByDgeWoI6k1UCE+w7OH6BHy2wZksFiwxtcGr4oHhBoO/8f+ce1S+dLOu53DH+WeT3uZNrX2FMPp\n",
       "fdcID2wfOIJnk5G0WP3SPBvhZOc7CdoJ+Ja8Q3bvsCgzdGWkVT7gM235wX/e1raCXG+YAq1s2sM4\n",
       "SWJF2lePnPtoooA93vPfy5caQpfZJZ7PzJFS0NT3+Uc2ysacgiWlFxlUXQYSwQO+KoUZkXgw2SsM\n",
       "unwtbQ/IAPHAUg8wxTzi158C3k5mOjBiONHq0BPVdtl1cw5UEHfkjPPusNMDf48XO9QDzdoU90/1\n",
       "vAvU6jszx2SXhuH1m1txr//mUFIV8uWEyMaAX9ajBl8fHDE6vRbKNqgNkntomo0nlCKQTmNdKZHQ\n",
       "3LvfVHVJZRwsb2nqMBPhWwTBVl5QfymFp+GRYKqUgl0plYR9WfZ4xlKeAcYf2tvyy7VrMB+1ze+j\n",
       "GYuw6fgzSw1RksGNCsHuwXFqDQYnJTHIB8W+lZyh9o0DwDr0aeXSZYw3I74ZsYujDIwfC0r7ON27\n",
       "DIyXzmmvE8C2AZZSDAOHeYt6H8TTNV+2SI3mOQL6zcfVHRDIA98FhkokBtc7GUQ/1q5ovE3/0rwY\n",
       "3JunBfPG59taK+fKVCXac4TX8lVtiM6Xu55us8bc1fDnW4n1kknikbenrtVrfBFT3dJOACyndeIR\n",
       "YZHRVmqPaM6YnOzWghbNJQxp0dp2UWPeZCXLsLvwwoyuV1ByH2OV7O12qc/FPzcLGr6ZANfJgwN8\n",
       "wnwohUme0B4opJnZ7YFV4szWSV92NU7gIN9T3lO0fmFPHJvjx8HlWhQUXxvjnoHw7T4yJVZVgmYb\n",
       "bkY0a8WrKrIDsKb/80ajIKZJL1IvleJ6Ih8aeCNXX9CXmHcPQCxPdvz7mdfP036F521o6ZaT5KNY\n",
       "IOtjdIvDTyy8w1Cwf4KT/s+blm9U1JxnZYplGSs2gec23tBXCeceyECjFnGI7enbQ1WFd9oQToDD\n",
       "XYYvgrB5oj1bqB9DrTxaHopds7yIH1orQkx4kyGvrhHQAAQPpp//Hl3N8Dkg8xuZotXt3/5gKvq4\n",
       "cC73AZ/vG7YytigW+t4N+09ncvNwOue+VO++XVDTDFBZMm2Boddhs+ZNdwwiS1l19CunGT5LamvA\n",
       "cAYh1OTNhsv/4mKcdCusPz77HYjIRWz/LF8RzCOMddM8LdaSaJ6Intt7qvF4vK4x+KH4sMmrYJiN\n",
       "G0VoQt9y5IyqA6qzdP6CYw24wNHRPnGXwwM35FIHSY4KJn7iqKMUiFuMh00MFjq7d3NNsWS+zudY\n",
       "RRY2cqb/Npjnp0cbb52EKJf+Xf4EkuS5Q9OXOofP38EGUqs6s3HGW1fbIb5rnZ9clhkmuiJ2cXfc\n",
       "pXw6GdK+N6xakv7wjXLA3vKtqaoVeVdsClu3VNeQv3T/Zf82weqWOoOb4iCPjHWlmXKyH+t/MRB4\n",
       "3arzCID7m6/9va+iEtAk+6CAsGcIBM4iEYXiAZ7xqvsIckwI3koJL4TOJVHJTQwgFMB58s5Lvczd\n",
       "mWYcHhL/O5Ztdt+xaaUQQbcnH00O8KtbrZPgBfFuSEU7AGL3/FCvhpSxqg0jdnC3i+9nicZC+qLA\n",
       "6wiaqY46zCjFj7Ikeyq2elNe022i36wOeFhTA0y+bT+WDtwprn+YTF9isy6w2F3WN/0gw0l4l3Bg\n",
       "Y3fM6Sl6q7vUvkmtFATPwHkb029YdA/w+lBUnI7rtqBcufYQyXS7V1hYdNZH4YOg9BTvog/Lawl9\n",
       "d8L6sTSc0l4HeB57nDVhEP2MLbB/GEOqFXB+YxRFBFI6vMmsJSg3WELOcg93btQ2L3xn+EIxKWst\n",
       "L/LEqAzHRnHNsBdDx2DPRC+iNEt4K64eVy7ijk1i2MUcRjRYPStg2y+DpwbQFHDIwIp6o2IVNSmh\n",
       "3j1xyd2//sAboCnfAQ3vmWdSXnupd8qNHvxOVNrefMFib5ZkGqDEirQX/xs3RPPpZKLlEd9dOH26\n",
       "Zhg59lqCNxRv3OfOZTI0frpmpGw5c1LStOBFCC7v9GfhB2ozTIPBVKAd903tuVr6x0olZE3H8Z/E\n",
       "2ORdNlIl6kL2VaACZMSUAkJtvUkrMCfHuHqVvbsBrfdcMCnarAA+FuhbObciZzNWJ3FzSFqnx0gN\n",
       "Yzc9gSMlRuAKHE+pZOaUOdml3pTN/DKr6GkrNclM4q4hCMQ5vvXVteyylpsVsH1jO6+c0CD7DE/x\n",
       "ijU5+Y83CPwY8UrGaHHRAk2PW72Sh8kKXBbGdH4IO0dXpWM+ieZONpHjlmZ04urBHrr2ZVGMtecS\n",
       "0pJy1NxecRZxcuuy54i/AfWKWCkN0XCVgc9PU4zCl/IOG+qg64+1nTKO/dDOHni7SPGiErSu6EAM\n",
       "GPAOM96w2BPP7tPs02r0W8aaXi+DVsanvNVEzHUMXqE9s2C7k6asyDwdae++xw/vp048Tv2lZP4b\n",
       "cC5jOIloqtYHcWEPm/Dmybi1eaHiK4A4QVyxqL8jDgeA+dfmhIsK3PJUUrwkUu9SyjuHa0y7KkRR\n",
       "Dkez1uBKEJyxC66ftjhIR6Q/uvhRUlee1hMO1ae1i00xRWSqg2qBfJop+yQkMFlx5rCVllzr4Lfv\n",
       "f7JcWaZ1XHn456Pzf35CW5MIAYl4k+TWoL0Gyzil0QiIIY6/TrntqRfelA2fmFT4xIYlvAVtgcl5\n",
       "2TxofL+kEdJemFcp12FO/89JlO7uwmKunDBPnyL5KxVUJkcuL1szlKuESCu+T5Xgb5bqes3GpldH\n",
       "hbd2KlxIorIL/E/TJG4e2Ap4wv5FNNgUD5ywjUIi+AxzEGRSMvPEHxehHeFutc1MYLdW6YwFrHJx\n",
       "mJnOyzC+N/KT5F1HyOUDkMG+b5fYL4Hs3oiV+ZHg+LXoRnIyxWoBv7aO7hJtSwYarsmD+mQeAyVA\n",
       "ungh9Tu7rNJNmcyrxgfqqmG0Lgpu3I9dHBejL6MgFuMeq4Yqz8JuOpuBcSYt2+owuw8yHkydsQ3R\n",
       "a6wa70Isrwp/A5f5Depsw7HKdtZqaC6WAyuXmQfAxCHrZAufL6+hk/3WE3DULNtwOXJnlb2Q21N9\n",
       "VKZ4HIC08WHCURaGn1bykoL+LsfViFs7QSAVmHJFZc5Hma22gPW624mJx+bf9/BCyfwNKsLTXCJR\n",
       "TFwxFSTweOW0HpoTMYbqFCb4VXjpQhe9d6wEDQJl4NU4Y7+FFCfgN/JB5Y5m6wEQdmQeGzGWmmCx\n",
       "FlAZffc5XRiYVWM6PwP4bWTDWTZzhe289j2v0r4bJA1bgpujfTGyGQDJEjfhLmAdIUb+n42tm+Sf\n",
       "/HeQkcZ0hD9uoXrOCgLqym0ZL5F9/HnvgHdaYdQzcAuN74TcxSg27u75yHypu6xks+qxo5dQ7u1C\n",
       "kgkb+qWZ7z2amHok1M4QjM8mTZsLy50Zb622Hm85UDY6UNrZuA0S/BI+PFS/9QiRmRUx8IR8/zIZ\n",
       "9yqeeWFCwNgOxYwnzHPbv4xAgyxGcJKISp2ILA2TUZgQmcc6Wjd9yeZXvQTO/WaUhIUDV2ha3oRZ\n",
       "j5IBICWJStyujx+G0SvJH1d0Ihr9AtIFHhmQCPhv1E/5mc99sRmVx9Xa3HkF5Tm5jd/YYP44IIpk\n",
       "+xBhVH2eoPto6FK5MN3XT3sNdPbGHMzgBnxEUm/w8Yv4v+u1Daww6gKaN+ghR+qaQLbfvatmvUG0\n",
       "piIJ6ogWO2Y5Xu0cB/7AOGpHz2hEFE2Na7L6wKwLuTQYt+ErtI1G2Lz0UjNJg/dO4Tvp8XYBRuzW\n",
       "bdeQnZ3zDokIFRBdUJLt1GT6v7m8pL8+YDBXvt5cCkEum/+NkUpp+Y3xQBuEPiNGn0ML7lrWhIND\n",
       "wpZBojY+Pe53/e+jg5RW922Hl80roNZcj//VFNxeWh0X9X19XU5Npp/z+RZmzvAGGdB9nob1sZ3y\n",
       "ceoq2MeSdZGgBQssw4qb9DFb/etVlNTajA0atS+KNz+Fhx7zLeX1GwvDO3Es0SkxEIuBYRAz/yxX\n",
       "PnMOm0rVXD7WCKcH0aU5ARYxbYog3cRii7l0bnD3jNaNRwov7tLmNs8lzDtbqWcKYyk41Mx7HnKY\n",
       "OiBw7ounG133v9Rp4pIbeauc0VOYOS5biP+DuuLSqve+paxGARjPIcod2AfRlBHyehf+2lyiZTK+\n",
       "aVj8UjBzGLrA0aCRoqNg4n8S4WhPTuBo6v+1EzA16opzirTBrmXK+escDQefpCN9yq/NreXTjibz\n",
       "sqq16A8y2I/Q1RyXjsU+gQN+O2wOSIgrrllXNXBcpF/3aUOqwxXfJHUE3XM7pgmB9Pje2eHd6XFx\n",
       "VW3mFJSFgHHU138yeUMRRVjNX7HinBg4NmvVBUmJ/FESCt6O3+wbZGvr7OdPxR+ZQlZIFhd07Pal\n",
       "oHX3r2xTaTVmcls46lO5LwJwR3ocBsdQs9MilCe+TbTninh5t8/urEcZcL4iNsInjrDHPZDghiQ/\n",
       "wDd44qlUXNI0ClYAAAMAAAMAAAMAAAMAAFJBAAAJ1EGaIWxBP/61KoAARHmJu5N7U5sABL1xUZ5i\n",
       "TjzSx+BPt0p0GFtIeZO6v5DpNUjpVxNin22A/Tpfe1k6dQtILYzyQ9bKjENm7U1jhzz/0ZrZXK1i\n",
       "d/FvLsH3Pv7OOoYCB4jZuPGwAnB97gs46XTXeK88D0eH31Hit5BDawfdQmBw2WhsMclxCwrxarFW\n",
       "vcvdN5LiD1bQCOtbTFWcfEhi7S6jIZF0bGN2gRvcawpKI2wG7l9Lk1hLBWn808ccUyakffmzFqfz\n",
       "Lg1Hva3RY/d+aHfY3ah2EF0BshSBJqTixS1S5MMLkmfYITBQm39rRcJUZTbDVuC52MpNqBSaeuF+\n",
       "1vXqAcqEuGwlA+FqmOhc3xiUARO7+0whvmSMS/6VzrgbG3YgIhj9ckJZOiSgqVdfaePCpS+oGcoB\n",
       "3/ua60RD0kZwQ9CeatIK29iNMmFe15j+4bOYBZjeb4/n44LAq2EFdtSMEJ+r5S/CaRClkXVXp+gH\n",
       "6M26U7HzHf3foPBEaHsYKZy4zhsAyESONnURoPRM5nJ84QATBjTWuhxCpN97b1wvmjkxbGVzB+cb\n",
       "JvkfP2t3MvKYxXySa/JvyBxC71WZfcdVrXhK789Dgv8sKM+B5H7kZx2fp4Baygf6Ormf2aS21zmN\n",
       "5505BqlZf+culJDLv1tzircbZ7+s324qt4gBL+w+AvHlDVdJQ2j5LNy5gs8qtvJ3zLkcBKFYRdHb\n",
       "ff7Q4cp92JQ9TumEx76CNYzZ8zMWt4eLRbYwDCCkt4hlTa9mlkz49RS9nHU9Q0RzC8lse7Om5y0d\n",
       "GJE5cHnAlFnAwsvFOWk1eVuHxFtaVNuVVMJBsuFbFCU4L+6mSDgV08tGsvFtwARt4IW4AjQXz/0X\n",
       "FB1D7yq8qAwXg9qbi9znVIUNtpwlajd0iGov/hXPKAwF5U7ITb3p7MSBXjGArBp5j8xkzg3UrZAD\n",
       "gl5RzLe/0uwfa6/6rREgH1Q4+7I0BbGF2CDYUV7DEVoF7PlxQreOWN/vsHU6MC/KgUQ6906n2VFf\n",
       "MTJNWDV0et7gfHeyC1LXca/MLun7bchp8t10Le1EW8FarHqU5C/7N3ChXgvHBF22a4URq7ys+lre\n",
       "JMLtf63kLutqHnqRbCpGsjjtBnYObMmhwf7xoOmHj42I3f2xfW4qww10DS7AJyGrGfcroLtn/AU0\n",
       "s7NcKR50SpvX4NO4nvV6cdomsR21i8BpZ/VhoLhJRRJaCGbV/K3aftQYbmSPCz8XP8k+BVt0pm2c\n",
       "jv1PZJhyaGjhCIm+U9xSdskgnbUKpsZUBmDwA3nyDTCxCzRZFyoZ2d7A6v7l9KdJFLzoy1TkY9Bu\n",
       "/zPvarjksddNL2LxHtQ2a8mARQSYN2GWnz9FpyDoV0HXjoHxnLyD0QQym4jkNu+xuF7mr+IG+o3F\n",
       "DXJf3Y3ALGzn+CDUS6ObZkmutmE3uVsPNxvnu2U+BZm/Xv6Prip/pQuVy+/he23+r3y6nvOAi9Yt\n",
       "UY0KOmUbTZBeTBkZa6jF0IGElE5iAbTYbE8JvuJbDSp8DlU4ydpNGo9yh4ndyY0Gv+oWQ/f7zyFL\n",
       "tWNgGAzlaFy4c7tEsfPYNGpFBota4dt1cbBtzKdBLbaWrk08nkxl70g5RFDIOrDQTh8eI2QpuGZn\n",
       "KuzPyXEywBXR/m+i/ug45UT325/cmSXBFN9E5EBR3UNdHIfY+a8p0I78+z38ZbszTbNWythzwZgB\n",
       "c6t2hBv4wzMOjPwWRRXNJBVJ5cB8/5lrXI5A/wTxqNYoyS09PxB19TKRBFWUm1m9Fm5T153sCqAO\n",
       "mmUMVAzY3+ez//4UlXhFVW8Wp5I9SMJYeXhkrqDqkwZYD9dTYry/Onpfqs1rE6utPSVivNw1btBI\n",
       "3EbM76m7WY60/32ieX/52s8fHoNBFWJswMiAaWqyaZpgrpzbBFLD71Q/AUUuIRiP6bEC29cqEFO6\n",
       "0fLpOv6Ty/hOlSd0ePQF8LDUXE+bu86vHvh5ktPOF3m/+/rKwbfGn9NIG5V0QXhsUAGpzZsGwq5l\n",
       "ZgoKKkPfDDJkUtfYLrYFeI7gKMSkK+hUzzmfo0/uWc2FlClbLWSNY+ABMVb5/rIWFl0Q7Y31Eu3K\n",
       "MAd1rB8ORybbvp/KPnJLb9v6HPlTVn/fYjtL4UmIFBJbxJnlarVMu9QArA2btJJWRp6tipfIA3Sn\n",
       "RxeydxYAQPyGA6NOMskHe/rPsKiVKnLUkydT2jUViXs6okJX89yAQq0LGjVle6gOQLtwKXzIXQlq\n",
       "rxNsEMYhmLuHOg73dGYuHRstxUu4OWi+7u0+KQY0xPJzapUU3E+DqrvA83qmri/YOunpCd9HSuOE\n",
       "O9bhK0G1DmluUO9Ri7kWp+PNvMvTtNtjjEaLsUCwcKRKxtK4HclU+Zd4iYU2I4mWQumsH8M293RI\n",
       "AGU1uC4SgaQiiUteAQ9jR/vh48s89/XyVnSqUtAa+uLw1tCuFoLt4F8sxQ17U+JSvomHrb4l3T5b\n",
       "3WKYk8cDi3E/TcyPoYmZG4eMTAR/PA6ed6XrT21NYFH0HYbiXgGj8Wh2/oBCR2MPzJSJnUoxN1nr\n",
       "dicvtjvz/tPeAt/qX0DisdjTGriC8rWU3nmoTkFVRAixlZmLZQ9jPrifDEiDhCvp2I+ncQ3Gd00n\n",
       "DguXzTQqnfDF+G5swVq79Kk8yXyM+jJ7U7gYcA7ZcdcjQfae7/Ocxi1aXovDpFdOGZUzfcw1LeOs\n",
       "FoE1Bbf49yyrzoMLueHCbTMq3evwmSrXkfz8swPAWOPZ55d1bldFx0OXq1MPBMMVj5uR3I//WvSY\n",
       "uBbvjt2z7zRTejER4Y8L1opPXTKGgbGGSFL7KBSwK7oIZ3/apDfJYU49/GF2hZ9xs+7dv5iElK7H\n",
       "oTSFMjPckIDIlSw3Tiw1rdpSPhkETPVX/n6wfzUekSAAuWZOy0/flnoDBsVa1HZtGCLrqUPj2gAn\n",
       "4FV9bsprXCO3664uK9ZWCOD/AS7FnEWcQdwZgBypCGMoOe8KaNDkxnaxeoXE1JqrOaUHMRflNEX5\n",
       "6Dfn83v3VxpqEJgzdR5BIEqK0Nw7WNmgy3MvywfVsltlmpW5CQiVb/zl5Krhaj6YXhJxg3ZAYkmt\n",
       "rbRgOM4hK0oqcSKeM080P11BCM5PfZ1QqNhKMtyScpjy6TGkTpTYwCZBIIQsgFADuWTd//aaVrYS\n",
       "Gtg5C7izBMt5dGQYHaAABwi10xNbI1EWebO2vUHeq0Xxz9n4FE9w2kqPFyk7lig2Vpuw+UcjMWyu\n",
       "+f4seuBNzDdkLw2iM53uzfX1Uva7Ky9zuDC/p2MAlQFVRtuVe5Mb0XmH+wLBQxlcit0yoY+8PuC0\n",
       "gFe5bvrxyQam/YXGHGjwyXgBC2njjf3FePc5+xUSufqllvV0Tg44AAAIKUGaQzwhkymEE//+tSqA\n",
       "AEx5ib7cqd2CwAWpCyUzXshBEuPBlmhwMEnmHsf7/CY43T14rQAu+xMsuyhGWGz+hEP3T5YAhL0e\n",
       "2bDCVW8mIN6WhpAkpZYqHS5SwHPESCYNkcxMW2Tv0JVu4BMYC1DHZN9F+FNm6wAkPx9j60WofThl\n",
       "VhGCMy2KB4s37bEk8TWP1qFwcAlPwGZBjfeQaGKBfi9yYp/+HZ8k6i4u9I+b9Zr/XZ5M9buCVsoC\n",
       "6GXYZCuWf3o8bOySwJYN4OQ+a/ArOZRj/6H4ATCrFijB5exIJvePrUs8wkkRFAZEdAstpGYY9HWY\n",
       "34wPi/ugRhyNofaSNkvaqB677BfsLmavnK5IuUa6YR2jTFRfjacBt8CeAeiqWJ23EZ/kCG7nxYS0\n",
       "9OBrUmUbIFG/IvaoAGvumGyvL+IwtvnvNndk0oJc8rzv3C0pYAz7zhaeT8Z96uwSQCh/XYRABUTw\n",
       "AKwPRB1TZ3KdulspyIHabvp5PY7nqqy1nZLmfm1bK0VPfLzr4qcWTbGy2fUoOQ6CggYs3tNuEBek\n",
       "JlTpOr2FHAHQaAN+Q28lO9ieYE+xU+5L8fbY+7QwpyT5rmcvchvZ+JGKhyUFkv8VZcgCO/JYfBCv\n",
       "tj7baOHNhlYW/rsLSna9ato2fJ3VIzpse9fvig8+TGvlvYktKd9s529prrrUliyb6kY4bY1KOvhn\n",
       "rAo+GtrRPrjr72Iy9e/aUcEJUNoCNRFVchNed+4WlLzkEH1xmhZB8OS4dyEsmsmr1pZhDYcISFDe\n",
       "0WlVuhAXYINNWtsE28H8iyzi8VniEwg+3cFlqGZZePuZwCDaU/NwSuGs0MFOyWhi00mbNBCrxK4M\n",
       "bpSEia24LYnX+M61v6BMoqTtYQbGyeXHaFZ2G3gG0oRDrDCe839nyL5AM2M1j6lNeQUaQwisw+7p\n",
       "+cNbR3F/1DQfIKdLoTADp1B6zCyKQb1Af1z1jnWTW0DKWgtfYSz8q2su7r1b3+vlMV3CQ/0Cn6vH\n",
       "V0Vz0HTTGuvh07JAHKMU/1Muvi75MZOPoWTaQHlEO8cqvZssmSrPAJb2thak0+nH7jICVxaSTtDa\n",
       "UrZFN7oDOgCi1LcqTfZi7ihxIlOpQX37U9IYu1sPl39zp7t5Am9Cg8HhVPZ6ZN6LcniDpag9hvDU\n",
       "Qpwio3oashd7Ws4J+M95RD12IUkUueUG5oQqbhT5VLbD1zH7nyWMTtY1I3o67P7Z+6oyMze3uB/G\n",
       "HTb+CvJqXPmwau61pIkjZcuMjjBXHIGoua/Gc4Pp7P11h0gJZ7Vzii8V5CvIRVnBku8XgOoP5go4\n",
       "l2i6MLGlPe6Rt9v22WozYehFl07xpS9l6sl0DydPvKOZUJFTDg/640SvSPXPjPd8Gaxw6g9ZpwHa\n",
       "LKWV6PkwYAI1qf4hBUwx3/O4O7vXDkx6UQ8UHOFABR7l0b5Cv9R2FS4LtAgbx044QWLYNhOUWIkC\n",
       "WKxYBGcLvrCQZXQepSpMrudlurQ/MFz1tXn/SLapyIHwNcOPl5jmKoryEBs0ZSBV4LURbBv/Kr2g\n",
       "8KYd8vUGfX0vfsv861Joi33OAcZuEONjAbexvdyyOlM6qp9NDFhtEDB+GOq1ufE0Ts/W6nxiBHsP\n",
       "4DkuoKPYZJIAO/zwGK5cbhTTjxd6yhIaqKNR2N42fwYwbp5rq//resgaJGsYHIXfcpulD8vSqk5W\n",
       "HVPXPKDcs1SEhusOiETcyjR6hgQFHooI8kfNAXCbLJoK+0mHA5C/DC6l+9uydwCKLzjicnMv6taC\n",
       "Lfct/HNKKEkiZjTHHB6lfBJO9+3tqbfa+2f8O8oqGV1rzDOL3OzRQ2M6A6/CfqHeIfV/ey/uxNPs\n",
       "r3UN+fc2wI8iK5Qw+On0KuTO4VPB/xTKhAHsg3n5Ayr16SXLGnvDqLLJK31opourxF0HvgGh1J65\n",
       "5XN99j+KPqSBrDvGNv6XHfFFj9eBrdpXTqa3nTM1zosAEX0H6O2MW0t5tebJvavdIlgeUubmP7nC\n",
       "aw0bscxevwbQnukvThiZ60G1A2fcK/+63El9Q3zzzzCdemDfx5Z3qYt/lxdQuEiTPJ/cC5k/LBaJ\n",
       "RtvZ4YehEGUeFQROZ40/EP+QXjCdMj3YBvXTBoSmXCRrpq6H/9/aPJLMSoEJZmP64vc9mfBluDWX\n",
       "Tocmt4cP2KXDI4s8kzqRMchgRlJF8oBLlylQY40xj4N5p8TUsbabvR+WuUzIWCdbVlFUReEVRT6G\n",
       "bVYFzfIY65qjvqi/gvwZFtVl5bZbLzGeDRmXHMu8lT5FtDlp9OAv6yWbSGPrQJbMVMUjkfK+i+sb\n",
       "d6trUXOtkbd2UOfoqk+XO3F9RzYVKlJ8UVY1SBBwypjv2mFE0DL/twnEjdiyKCBknFWuQUqq9IvO\n",
       "dcc6JfjbTxoyLZPIzKLq2pPXpX6oQx7jadWSS8aGa6Sd+MuQQWt3/zXGVMcaJxUxLbqD82dGF2m4\n",
       "KrDSElJiSETimNz6VzqgPiGLNRUsOIaZx9cgp2v62HBCyqCfD6IdgdEqv3zxZBVTtGfmwo04DGyb\n",
       "vOPv8TKjdNbAHgJOba/Qu7l/ogV7haiS3xkziCwqB3vAOT/fHp99DBkCvAZ0QheI0FVYToEIT/HD\n",
       "ZivYIRSMqpsEoqYweHe8FZ6PhrbtxEDKB5t6KmfTSTmvjhjIBZrDq9qghUo2vv0rvOXq0EUAOP15\n",
       "boYVhypnuchjb97ZjYPviWKAyys8od0VLWcm8/CHKKSTauH+j9B3gSfee3QwRMXvYuZ3rq00+J58\n",
       "8Ntrc50ObcNZ8HxFzgd/nOvDTxnBM+EAAAgXAZ5iakP/AADS+PmZCrWuasD0n23UX4F3L34AA4Sh\n",
       "H1xwQC7wEE2AT6n6lE7d9g/GYygSssIA58kXAgA8pC3F5HmkkHI5XHZ3rj5Cy4q6rdY0qCY/TwYT\n",
       "TdYd+NYCPh0sGirRuWOCPXeBJW0TwhFcr4UDbw5yWDHfWbiL2vlOxkLVGygIyZM9Oxu9a/bmvHKz\n",
       "zCyUGCJPqp3Am9QxCAR9k94bctFwNuenOcsL86HOnNi8hd4XDDEstj+hcFe5LMW1Lbt3GxiksMMx\n",
       "FzjfetABkwjnk/c2Nd6faMfuV7cNoNziY2ekCN8RuvuwuQPZW6uzlxtcO9RFwyzaNvUsot6ZUXkt\n",
       "m05mh9cn748Gl0oAIKu8lDJfAoJAouOKGuC6EvXPIDgk4zCWukeX1PvX8CteK5iEP7wMr3a/DYqk\n",
       "EMLq22R7myPQJfngVvs5iqHrdXSwPBFRhzIWPhhoqGGwpLRR+7Gplii0zijjgc0EdPEivjlD4X3D\n",
       "J3afsjKJ8L9k0I3t1jzqC3l48jh0xW1cdSX+n/9j5UWuK6aUsI0IBBY5/JJRr2P6R5ASKA5gbi2Z\n",
       "0rrcpPOae+twv4xuWiY5rZLA8SvUubgYlfnl0HBXrg06i94V0Qh8VSJaPC2pX/oCqVIdefsRJVCp\n",
       "k7M2XvabXOZA2TwAxNzlhGcTsRTZeozJIKY5/UKg1thbBduTW0mH51CVWIASBccoHkM7Hy4JlkqG\n",
       "cNyX+PDGPGe51+Nk681huhpPTz9hS9fHQ7c+PA1s1FKy21ph7OS2ug/LD7uVjFt/msbtfXJ3SRaw\n",
       "+hlP2+vs9Lgu4W3qtQUR3czUlhOeUWs434oTeZXj+/d1XIFo5S0JXOqu8c9xfvEEu8t8Q979UO7h\n",
       "D8OxO5pFk/pl53jS2O8+IhH6Yzze5WR+OK/q7v/nrpUGsH9as+RJakCEeoxZ8iezxymeru1iNqRX\n",
       "G0Ycds+WY6u5cPmLDU7TICXZ0/MBp37Oo0+A0LVoHULKLoPTFvzCQ5PHMWWn7aoxGmrzn2UCBcTa\n",
       "5IvfQFxXLAoOqqH7ro3WWuMk1WA6jl+AWEOQ/H/ZGcY1jGzT48lKCPUI5bvoE2PRllzHJsvnGGKi\n",
       "+PQayEeHVjDHS/KLbkruOiqCgJw1iCXDxa0NH+0fwcK+bughmYQU9nq9w+F0CfPvMgj9tEbVtVr5\n",
       "Gekm87FyrZMKC1TS911hXTwx0HB92OkQpSD0/kJjysAqVD1NyGUw5uqBjvsZUrYgm2eKbi9J5+J0\n",
       "AMAySaZIjzdjMZg68v8y3uBHYh5wMBC1Ltr7Km0D/pTzhznHw1FBe5MwbhQdTEWHAO7dREAqswcb\n",
       "JWUwCQPlM7ARS+KC0CUYQ+CdzYAAZNLsKH1uCBq7IifafIRdqe1LKLMxyAcx5HOBG9d72s7758OI\n",
       "Pl2vkoxw8PW6iXYtofplgd67Phhu0KRdGdVUhzUX6j0YX46pfNwk1Dxz1Lc3aiRfNs/KH704j7XH\n",
       "akbZw8cvlsdhvfEZag2FKDg9tpwfjI0H39c3PuUWObdqcyKMamxTyM+b3g6WS/DRAw5TuIkEDGCB\n",
       "ezr4yojLANDJjz+ESXE4KBk6AfknEeD9prFzBHzK/fDRS1Cm/O+flnQtRrSogh0zZWKmWNCEGDmE\n",
       "HviIZmmgKSqZ9Dt5YzWkW+cGI//KlwqOJ6v+cIw9ObsM0028TQkml7eQrjiLG9PGWVOfc6d6ygLL\n",
       "kyoRtrNHhbfLFTF3U+24wFMuZsfkoIsX7wTtChH8L9vcT3YxdJyAyJeozwAoMWNXjs4pnGBtbCKX\n",
       "pQkNy3CVza0j4LI70OtQe3XvZ+akdr+vIXUeXXAgpr8yQRzH56mU4VevPhHPQZZI0plqmT14PoJB\n",
       "w+PyVcA9kJyT+fZBOAVwQhqPSGTvTr/oxZsQmF0pkZ1eaUSd98dRSKhJWuD+gdTvbSQDm7x9K4rX\n",
       "NhcNfgC61KbjYu/aqbPm2D9JfJNUfX5mvGuecLnl+vGnAWx4U3Z0gkaZVQm80pVIeAV0UDY+CgqZ\n",
       "V4pfrVyt4X3UtGtte+jEAjKqIfqROjSg8G2WX+XVsqi5sVNYN2QbRyZQ9upqUTINLFTNix/D9SC+\n",
       "/PXTWEER9G1+djmRfS71IfDGfm9M4Nb/BtMk+5IYETWIe4e22AFxo7GON2GE6TiIL1Net9T8nhPm\n",
       "1pFcIksxIFNJ6ghyPiah7KYAF4hTTF5mPaTCEGhvm11CgzMUW5oD66pv7ouk6zEMKeo8ENPsNj9G\n",
       "nZdFT8isueRp1Z6g8U73goS6IW9qhE0s3cy5ogP7qwDdwOf1VheNxP8pR0dRQ9dGqdN6n1A7CXXM\n",
       "V0ieQeafJv7OHOLAuLRnd8Ash4rjvVK7f1yqfaYP2zmOht5qwa1Zgvlo0JagyKvFMiQDb1SenBAP\n",
       "yO0pTA+1XDPurMJvws63VkhFwMAmVhOeDE5gEeVm+wsoEzyD+Dnj9ETLTBpQeSd5eKx0FLjWy2fQ\n",
       "atBM5EAFPTN2CDg3wfyRsNhneebNUjxRW9AlpZhaXABIngNct7MGfCPx+O6hnwaldZZjxwidwUX4\n",
       "X9t6F2fJI5m5y7rV5usskCytKiyFBTUonrAzjhk7vbIrn01oWnsnA6QF6tDKuqEitlADCFM4Edtw\n",
       "gml0Pmxn/ESldtF9ZB3LhsJjtV4n9Aj3AXh1bwhqd/GqG4/nC6XOVLmUWdRifIE4yvFO9RQT1jSt\n",
       "nH3i4hpJgFP6S7jZz/Tiw6SaVV14pN1mMe9tpiOLNh14q/vSHh0NAC7zdg8hLwAABYdBmmVJ4Q8m\n",
       "UwU8E//+tSqAAEwSwJrsg1A3cmx4j08ABL1wOiZZ9TsPwF1X1b9VNzV2o1RHIdOfbxG9EZBfe1k7\n",
       "bJ8tBSFPjVTkJadA18/FkOS/4uIygTkp6NWnIHR3UY4YZIHY9EnhIavom0vhSJXpRbltWBUZcn+c\n",
       "WQAGO4Tl0sYDc7/djC6Mpulf4XSzxXHaaEcBxcZHFmxViAzzBrs/Rem8/w+bleMAf4NQh8pDu5JF\n",
       "MqG8up+sWxQ82B7aIHaHz4WR3GZfBdH1xeXI3IlqvG23oLn4yO1vS5na+4S48gZRgOPW/SPjqrig\n",
       "cOH2DQmR9hgpfKygjPgaQM9eaEI5cAPYgWk7oVuFWJbRbpiDRiLsau7UJ2Y/p6O7GRzYa1lhVTSU\n",
       "OZK3eEzF+a4Lt2vusQR+53wnO0Lr0uHklWqFiU7iyCUNP3x3d0vqcvcKEZHRm5BX6g/UqCrIMYe+\n",
       "V+I7VhPw9tAIaEguyDCkbNoFvTE0ogDgm2foCdNQRS08ZnP9bxevBSbZJEkYWd4osgvrXGX90tRd\n",
       "zBDtzFK4pmwq1/ZAD78FaX+Ago0hyhLrLmOYdMTNK+A5ziPgLNyKXLiLzA12ZHRiEMIKwCgvWEkm\n",
       "dbbVFQUIQ92gsaPIZl8JiuKJ+rAJTq+xLqfFeOz1mhxgL86/YA/btwESqqGhCa6eftLmrM71pUuD\n",
       "ZtZnBXi/S8i9GGaPLF3HxwKd8EzoeX7MJggEAQAC1xjPPi40MAMrcrt0WMPmfRyEF2XTpJaTKm/z\n",
       "svf5647zLrXIjSo8BB5Wztmjld7AjctXf92bM9qr7cj7MR4QLPEnDiiKCgMFq3kh0aMwrFPaQokh\n",
       "daA0jDVQ3uphaGAiv2qy0SzbbJhGH/HILwnpzYFjiJfSeZ6SaU7jKy+J+9yArd+zc43KAV7+IK/f\n",
       "4rTw8UHvwEI1KdYJh2PRl1g2NidsmAhlx2Wx/Cq1lesSdHfR/IyN+hp+emGSydFY9Nqufqph5K0J\n",
       "7UUTWVSUNj0ojeBW+Bjouw442aRZ7GpfkeCuC9H0J/LrvhHWibOHVVIj9B8U469hjujK2XS9rXV9\n",
       "wP/HetowAmuwjcaRf3TdKORUWxdWUC+2k3vk9wUKPvjingF521FvMEPNl8YMD4MomZ/3I0+SR7XI\n",
       "b1JxhvxYsZ7pcf+U/k9ucsktOMZZk87Nqjo6m6ZIQdnDxKqbpXhSHR4hSsDT4o8yPx4dUMmTyb4B\n",
       "/V9oiV7jhLNi7chVCabGGeUhU2Y3d5b+SfpUwW6lCfX2hrDdNxOyROhILIcl+93zUMvRd9UMyu7o\n",
       "kWjBU/2gbjRfnu6jsjOUii+vXkFr4nd7PAJlKecQJESTaCb9UYP2wZ/ucZA8kF02ib8Fvj+znZxK\n",
       "vaM3Xx7XiOP6dbUGO1dVzJoZ8eLgHAMBI9xyIrN8zs4lqZmiEZ6Hdr5MuXboJ63hUf9HTjzCsvdv\n",
       "6uLKjpas3txK/vLpnKWJl3WDDVnvJIxOu5liKOzMD7/eUz4jXzlgpe7zY7ZjSAxPw4DvBCkV7JMS\n",
       "kh3fOGswKmmrBP+4CJTA0AmsRi7SOFHeZOgf/y0f8he5SuP/ffWnl+hECqLOFGneOenp8ZfvavAU\n",
       "BlM9oqGJGHE9PUP5GI3MyItDVLZJVHmIXesJSd+WwHHsStamR/x+GrBnSOL7/f7S2E/g6Lyxw9pW\n",
       "b6NeZh+JoBrk7OI5QbyOqn5ddVQeUlj1OQ9q6MiINhssL7iwdYIMpJMn17hljGAqHkra29eiZYEN\n",
       "nEdShXqDloAxmjHlu4LXF4HZRkqiq1uTw7Rg8umVDCZ0j/o5bdOcuzdgymK0JtSkuyHzizdNrUko\n",
       "bGj8wV0zkvCC9zUrMI9nD58uJQV4Mrr1ga0WTwJkWL+wfcU9yfmR8QAAB48BnoRqQ/8AANLmpJK/\n",
       "kqk6d+Flk1prVaMwTXn2rP/tK78a0ARaNRjKbkpFscuBJ2jDafKGDcf1O9EsZXcGndT6Y5KLSZKg\n",
       "R0DdRaMGA2zySiAWWJAVR39MG1FMgUCZfKkgXmzZsMp322C+KPe2hbDy1t28h/onrwFbidJ03aLj\n",
       "NTJizx0fyMPfxQRuLHewQSu06Oda3WqGW0w6pwxChF0fhq5a6qdolcR9BLpsdNqgNBjXUZMeGX1V\n",
       "hhPfiLDR2wmKhlUW8D/RKiwhaLwo/IukpbT9o93x9T7Ojuow50OW8yAgsorCcj/a0IDwVllDy/pr\n",
       "2xRH6tSp3nRY0bKr1pb9q1AUfQyVHKjloBn/4E2tcIwKmOwuZFZ0VboYyGNwEyie/Mio062+KEU5\n",
       "sfm5kiD1PRx+TvK5u+nURCp3sUIRWe5vLOMAk9vAuJYfVplm1//ljLc9sV4iitWV6ErmjGcE5e4F\n",
       "SOUMKgMtWFn0dO4ZNEmgMTnwMq1VdK7CyEKmrepuKcZtCs5rqb4C177aze0av/AXKUntP7LVpP9K\n",
       "itgvu0jrzmgyCs78k8D0XC44BbYoxQJsf3cyKgxUQZuX/NuBxYqyDisRRwCUANOmTEBGYXwMVkx1\n",
       "dfseYvwNzUAg56bgND+CLItkU1tmbsu3He09UYaxx2zzm266iZEoNlcsQTx3GbnuS4kr+k75XPlM\n",
       "T1y2Q5gNULbsWIpRhycRZ3HScYqtVp+wnZnH+5+15Ii1lepEM3HIsxS5ABDxkEp1raWDWGHWlTjY\n",
       "G8ncbx43Oyd+NxkkFeQPMQdnxnwwwArx2hgxMheT2JgBlBObleqsDtb+jLB1TQJqGFN1bjr/eDe9\n",
       "w4NFzsYHrVXb+di/UcpnOqDlvDql8D8z9AxSr29Vw1Z1HVmjJLTABJ2EK5kstuQy7r18kzYk85Ag\n",
       "w5kG51t3zDKGXM1LNVWu2GtnyOHWFjF/Cpa/LkU6yt9DdBZNL61fwqm+PZ761MfCFLdGTbeVnWnq\n",
       "PDccK8XnhMyXRVlrbsws7ZaX51PyYanlu3WRibgATOx1NBLqFmGXikVz9oTaho2/LcKG+XEC6BS8\n",
       "297IU35zfLhpv0ayZPufZ1DuWwx51GinxfGZAIMe7ZqONCwnn932SbtMtz456yPYgf0rhZysmvpM\n",
       "lWFWxg09GEk5yJESQWvWjGSyY2RC0Y+UrFa0E9Qje/fNwihHbRjP9C9B2kCXj7qDl/vkSNMNEDD9\n",
       "4a48j+rlJsK1qhSd9MlanBpW/Oh2i26KA5uKw4trKQ6UXvU6mIphjJXf6483u//LxhGEBkChaUZk\n",
       "lhJvgVap8ZGBVpv6jorlc/Hea1sekLHq4YkSL/RpSUXG95DNiWe4IncVcK7QMa4RF/Gcc4Nu8Ukd\n",
       "OU3BjJaR4Sd7Rqz7Sy7OviD50TkZD6FW2En7+aIf+r8Xi3U97WcDeKXzKztzD9aoZ8Gld73Jpavm\n",
       "Yfrx/d4+gquaBWJdX/5xsYqJXr7edQnONUer2oliH/3TOASDuoDAULqvVekf/0cH1DQ/UcnvtoaK\n",
       "5uxo0NH1Mdf1zKwKtKgmjtr34qZvVCbguzeX4QmYq7qKKEtY9VER+XUFbf5sgXtT95xNPc7HK+CO\n",
       "K/WI30BBFaV+DxisVzd+L6kEiybjMuh6U51fHVUQMHDnXQ2pCI3nXghPGtuHDrmLoZlL6EfjB7v3\n",
       "mcMU6Wm/T2/Dbusg4qEysiQBvHFyBlpCDyP7BHdovXg4YnKSZ6hvJ2np1iXNvK+XqPjY9+oXX4Wq\n",
       "T4wqjYJ+hP+cmLUkOW/KsuLKxeMpvAsc2/NPU78je183leVVTfqkoC4hnqvXBB5PzjDeHpmXLHou\n",
       "zz1OQnYFQRirNru6AGV534LHSmeBsxaGmgsknEPCxdIxjZXlvrm6hkf3YU44/o1mgMdQ9TCSWxJ0\n",
       "oJta0eYMcSE0vU3bo738uxZwDbULUW+oBMqmt9sAS6L/AfqVwBcsddH3LDegACx5qAfQ/9YjcM1m\n",
       "kyl8kJtlkrASr/eCgzMSQON2u0nOPDv/qlSkRZl5W1Sg/ktw5YN2soe4FVXx3NOQv/gcBju0qgBq\n",
       "X3fz9SxpkpAcQBR9nYIET1ozoSn8JWZXIt3naODvyKQlbXhS482OYpVa8DZiKW/oUdSfPIsOpIwo\n",
       "1UXXB0qKVrUz0+kwfj+Qyn1jCVIJ/FMFzNFS/HsLApx+kK3GYQWEAL9FwbllXx9rfEEitq7+PgTX\n",
       "bz4W21Kfi2mQW4qjh8qdUeP65JDA1wkHkG1SOZKzHYzhpLjM9t2DMESDMIseNCAw1LNAOOAzV8eX\n",
       "m64zPDAqF+kveiJz8NNnxF20Wj0LtHmbQZEPS/KhMDgyJPlWLbrRLOrmxjnrKCI4GKvYLXcNpvNP\n",
       "KFlPdPQ1aoiDk8imAW/jsxb3JvbGAZxSzYssp8xbnoFnLux3SzwEEJSxcNnrbxueqCBe25Nu3F95\n",
       "Ez7b1ud1LdUv7tnDwUIs121h+EnIWNOQnx+EXqhm7PM9Yd3g1OeR3N+vQqu75K+bm0JYTh8vOkBr\n",
       "b41JRwjthnT6OPhnsv0pey/LSC+b9uJa9bN8Se2eXmVjHFqn+awkMWEAAAL3QZqHSeEPJlMFPBP/\n",
       "/rUqgABMeYm/+euz6ACXrjuPtBNfvHtWTe9lHQ0vUvuhKVsWx/kobAiERXjcymNu6b0d/Uujh4h2\n",
       "uZtd86qTWV5XCOfHMIpTX8XYNwSKqB8tENLH4TWn0tXEQ1q/0/sFfxOkoYO2VJO/F+5a7/gB3y8C\n",
       "3ODYWS5eTyd0WoEjOVkhN7m/Ozjjteh4ryPUgQMORDn+e5h+dHrJERVUUKpB+EBFMQAHc7owtc7Q\n",
       "c4WIfZtsQDX58tuIcSzzLAHKGkBwlgPu0HXqo7Ch31/HeUAnf84P42mVfsDoaHV1WhE+du5lD210\n",
       "Eq7yRJLRGKGGAyYoKKrU5dMqJvUYR6SjzcrenQs7HjAlqhqCqBjmbroKeIx/uTgi/bdmYuVi0USB\n",
       "MPl+I3DC5XqbLlFCOYArTeggm5u8LBgAL79CU97uQ1VoFYTRkz3ufMTTYfaKbjD00OTWUrjNW2yc\n",
       "sZ783MNaq6aCJI9jDQDJzWzlnM0VqNxnM5R38Bax9/6qkwt03wcudvKfAAqwMYFQ3QZYCnM8wRmT\n",
       "lYmIrbGV37gjaj3Gbpo27D5cacBAZJ9mLGNR2aHJqBg8Gi8gbt/8iPbq3KvYQIuowHHrnPvKn06b\n",
       "ou82vVfNugiGNGddxXsNeKXvx+H8JAqdjU1RexY+dLJP3SHJLaoJVSd8gaHst/4ozobdrWAJgsby\n",
       "sz6Ktt3ZIFFK1OSd4wVdj9bN7i5MkvxAXNlstMYW12qF+k/jBPMRYqWOJf0i3INDBFbe85dW0Ghh\n",
       "jctQNaDjy3ji6xlwFVRjvAykCbjW2BKU1QaOhAZHfGUm+JJEjTfA4ElGBWvXsSnlBW9qhWFoFR6P\n",
       "DJnyp3f/zz8oLUiYJf3OcYAKknMS6twun6mFNgNwS6sR/LU1Uuo2sCIjH5aBgjeAF53jRRgjugFS\n",
       "gJduyfFffp/zg/pc3fmxCS92giLbdMO2pO3ErwakEwPoqI4rJCfU4x4kUYbXopyC0qNGIn2GRpHl\n",
       "pvyVrHFBAAAITAGepmpD/wAA0vjmmLhzxw1R0zwAf0h81phMGhaBo+cacCqdIY+cPfzSwtHad2LE\n",
       "dZs9qJgjZZfbkDk4A9Oz4Qm1Rd83Etyc4xIqryYgke6WmM8jpdh5G9sXuxYwX5BcYfmg9LaYm4Vi\n",
       "PngVpEMREVM1wdJ6pzrAmIdMas7iN/m5RX6krrBY8RhE+RTuwUH94y064Ei2aui7T+KDQgERfQai\n",
       "LaYrXvhTQxZzW+4Js60Xc4+CRCP52jyUjsfJoJSN+XPmTjEKhwdkMpzzx8uCMAhBNj3+CXL1D+mR\n",
       "/J01z3unGqxLxh7IvEUPJPP2yttJO1Az+dUN45tyA6a4K666nNyVkYb6YauyIL03SaKOFXxsXkX2\n",
       "5MfTvd9+2qubsUZbFQzWxn+plVV1maRqgo8KsNJQ2l2TpLoFAxbrJWQce4EfXN/9blJXL2IcEeUA\n",
       "evMohOQa5whY+9DmKRMXURkYyppY+CvrjQbDhnPb6OlwxRH5rGeXHPlyUygkrkkCVkK9sgXgX75y\n",
       "eUdHhLwV5WVwTE0S9Rx+awoRBHoT+mPqLLLsQ89H3MY3ouexRu1/saSka1kRmdMOQa2P5c0Y4RGU\n",
       "ohti4hKKWm+Z1LOB8uLjNYvFZC2SBRszUPhU2oRoGP4ED0JPo8LPh2Un6g+VwrauWlwNYlCrjjZo\n",
       "/y0ndJsKSCm+t6UKorRLET3d1S/NT0N6n8h+16ayJ1bBiHVQHOt4hpZD/gTWt1H1Cn3fUJ2Ih7WJ\n",
       "VpdQqScgP9SfEXWgqMEMsVHkJY5s0reiOAoegEAANz4BxA6bW9U2WM+dSUejSPniD1sA9MMsyBeL\n",
       "w0yTEjtSFb+KYuMFRinPqiCe/0Pn88+8wWHxJmD1unUpnv9E76glEGKpuzwB0EucFLSfpLJpQOcV\n",
       "QPbMCdzFOcv4iJG4Kz1LTP4LpRpUPlCMLuMuzpem2dGOFTosGNJ5KDrPOXLZB+LC8H9YrQhhOOSF\n",
       "3QBmnQc8fEjDUMQjWDxxfkrtNBDqCKbrJfNJn9CShVdGkSHPh5fvH5b9v2kMbIah35EpwGoNSeE6\n",
       "T1v0NkfWkxse4iq62IfndL7V23ZSJWGgSHKerXfVYLVnpn6JsTigqCDGCLVoEQYA2WvzGuFckpsS\n",
       "3CbSohB9bJgniX2v0DYFPh9cxrjQ2DCDqFocvURmhHb8VJh75ltwCY3BkGxmNcLZhPpnRq2Npiiy\n",
       "U+Y8B5QV8LaPhFbzo5ykxSWu8F4003ReOgHqfHVw13gGD3EIW2LSkOTx0vCWSLvl4Q+TYcCYNIhH\n",
       "if5nMSY2VpGpbxoqGSKdHgKev+aEG64kwnapzmYvMowUTkn8xwzT1XZgVFQd2LP1nJ3V8ytNW4J+\n",
       "/JRQVaxVN7ytnYlzOhoftnuYQYkmyUYvEqQ0fH5ncFuzb9SEc1xV4/ERForEacZyBpluN1S8gMxP\n",
       "WllEH4SN74x5iHGHXufq3Q88Ync2WSNcL1rwj9S3L2YzIcH5jouJ/kitIt0xb+fy6m4K9ONGGu52\n",
       "87x/IfR71s0uv36e6+F+ysoL1S12WJ6pl+ZgyxrD29vmnasG13X+3gTdz3toShEkmYxFRaOVfB3g\n",
       "KqH9bW4JK6RryJVnACXUI+O/VhV6cIApxYjSqCrzmyd5xVyL2oaG6xvAJQTOLnMNA1SqM59FVbSF\n",
       "rBScvSN8kQ82LgZRdwHUn3nBlXS37zuzOdZnHp/pjox9aZXIfSmlhn8oxBtOrryQ9Jv2Kj24Zxfb\n",
       "uzVo7MebdLxBNZzFpXzJomh4hbH2Me9THOUyeqqm4E7UH+ZUrt9y/iVNQK7MtWIX3z7TuvLIsIv6\n",
       "pSuIebp/Xon2ei4BJOcqHzy9+69p+MTtdME1lSmELUiYjxZBt9C/LAPAZneMlZIx1zfdJGqrDTCI\n",
       "2L6xPkpTOx9Aax5Ikx8s6HKkJKGR72ezNNrGiazXNNqKze6McxSMfntydL1VxlIR2X7rKUZw09aO\n",
       "P3uQbsghLeRlBmDwvAsbGXydTednx4hntA7DcaD2h/lxAd+XUjCaEWRFDuxU3b+RxPiBtjcFYXIE\n",
       "bPfVhiv+du3/6NrkdL9WsOFfW03q01vV07faoi9xXZRO5EOrv0g7GbE0M/yKWQguSxQYC5qw6t2L\n",
       "kj9S2aIKc5eD9HVQBUhG3xl+NbNRGisqywAWtdal0BPEH0P/tma5RYuL4etA4g9RL6QlIY9zcgQ8\n",
       "kZlCJq+weeymvARV18IdNM4EE2xLLYu81RFMzRvhXno/VmydLcyOuQb5EhokLs03Dud4bflEk4E1\n",
       "dJ7372y6S67loCuZd7mARzGaOzxzUyFX0WmYQDaKut+IC9DuMBPaTigI2te3W8IN8tR2yFd4iP24\n",
       "vyMUUhyLviizvcI2EF/AUHNFQwBvcKMtQNDZbjlMwjqLu6h/Xqwb2xdmCB4syliW+C92DIvxqvw1\n",
       "kykyL6inxXHp0/2Uxan70ve3+DHToVeiz7fFTdmv4uZyRcJQ+I+vbxJDt2h8HxzR6hjPDhsLh8zX\n",
       "bF+6YYItJsxfbJS1/0erPB3VkW0TNjjLrt6P16BFZdwEiY2opZdjKrcophVQ2a/n7oUiECa/9vmt\n",
       "5Ov4zOwVq/fSDMFxWYC8uBvnc1fQfEBKi/xyV4o8K7SIyZleoKipE3LmoxXKgAhlQqsEfQ0P/Ltp\n",
       "dmXOAl6Ki7dddUMMIvwdsAFT8vq7d7dlgeevEDJMBNWCqAUWhouc+KblPbMghWSVy/rSgR5pO7JA\n",
       "Q1ey7U/n/70Vyled8ZlBnv61gFKbtmWQmwgwXOvs+xQODctdsfeM4EAsg3kqFRy8f+ylapAOwhL9\n",
       "JiWPvAkWyKRuqO9ygT1Jyt2VBnxVkfEBKwAACH1BmqpJ4Q8mUwIJ//61KoAATBLAmupD7u/xAivA\n",
       "AiFSyRp18jy/oAhrxDJKvhrhlmMBWnpNfmYgeTrFXSQETh8mpdi8NFjJvFyIrCyc8reDTPJHGopT\n",
       "lrI+Rbl9c9A6bxARzxEehwzsHHcrOFEKcTHigM2aRP9Z02WRoU3skSwWZPzquUG+4qjt75qMviqF\n",
       "gG/yMBAtzffhj0jPZfpOmBBUg0iILcYHvHsAbVFl+y3CnOYqzvAeQpd7xFgeetm5d1x0mSsd/Yus\n",
       "gSBr/xe9ylAvgyMJcuLly5B+BUP51JImRdrnmW0sKuStQG7K+Vqhj95Eafsfp69pbpESy/jjuVL6\n",
       "j+LEHWb3ZoAfMgrw5vo6aboK5S874k8uXyH37nZ7W5+dmofe6W+KUAydxLTQw+s+ZTDmcr8NB/1M\n",
       "ngk4Iao1R347MxQNtq5uVVn+iBxllP0k26Ye5xs1Yc+mDQAb57tyBFRpXiBCuvOICA521SNFodbk\n",
       "j7f88Fn4TebSrL7KzqFX2Q9KKEXq7lNtYXihHj9o4eBVLVmwue6qYtgiqVrqMO/EZFYBtDJjv+wo\n",
       "AvkjsopyexO/7/Sb69G4LQqsFb49rWZ5L1XN60vIzudH+HtVTH9KRYgHBps00iyQwnYmbbAAYioc\n",
       "hst64sGDFzdnYsA+ko0eeknq7BrY7Bw/A4JNBtfbZ3DhJj4kmlQY7BS6CVoZfuZfjWOObTdoJ3qz\n",
       "L942dw9JpF3Ikp0gjlI6B465g73NFFxtMThFG58E/zrpLnNu+ealblIusOFtqHcdBnlL5hDPq2y0\n",
       "AqDnJD+zAwo9wr3xFyyxTB2Upi+kAIss5q9i+UUFmpxA5rhMU5hv/B6sHBJcLRA8WlJBw0/WBTss\n",
       "pQdj/xRbu18VKuQNkZWFYCkOu+lf7fH/IAhvAXFp1qU9ydPUb4YEcujpKFOid/E0skhl4fZbIiCf\n",
       "xUJgm/CpgMXoSzsDDziiz1TjdJSRGgntOXUgifs+dk/954x0+hAJpxnqA2+t0X8w9b1Xdtwc+D3E\n",
       "omWLi+pe9l+uQ5yo3FZNK1Y2WntXwzNVxngMWOH1731Du8xNnQN5sVzqx1xKs6qK36la8hAkPTMc\n",
       "PX3+MFGUjkEwZBlblAWYrd0TbcU2tPl5e+LOX8N0EsZUuqYxu6vvPV5sakM6QquWde7W0nyxcpjN\n",
       "CRGzSIb+ZpHih7x1wNAILthosrnKeQv6GWKlYJ2AH6bDNutv9Dg/GtgJXn6TGqjFaLGmOmfhmauA\n",
       "jGu44FThDNiweyqDbDJwDKdBCoZbbHXff5sQXHB46t+YG+Y7DPGMGwUsUknDnyT65rUSlGr01Oj+\n",
       "DyiBeRnOPVtUUfOcDw5jTcw+7IwR/YiV/0f29ra0aN0p6iir7+ktwbbwvU2IiBk9C4ZqctIlTk40\n",
       "h45x/28/37zdJinynSWKmAM83hN0VQtsGaRFYlj5EVQx+pK3UcO+/xKVxRGKYEbyA+2W9XnBSbpH\n",
       "5/7M8XJAG1h+JVOBUi26u1Ae0Q4th2PTI4MIV15NRp9YlkdbaNYFdNeGf8wHexxvwnDo8prObUsY\n",
       "f5M2A0j38zn3s4CiKx+l3602zSF3tz09JgkE5w1D+n485JoEOJPzoxfTzKd6moIx3nmgSmg/3L+A\n",
       "ij40SInndwBXXKAP3A/GqGyjRgfeA332tucM+2/4dEKKxG7/wh6zIc/EeMyPY9Rr4/62pWhOBf2l\n",
       "g1SVmgJzEeYb/uGXQV6m4NUIdqbKZ/vjMjtb2dTEX+yV0Vc1Voj25M/qjUidRnKjbqu0g0CVFSSH\n",
       "xMnR2DfXm73a6VIKq+kv2jKsqDIaZbehWeX1nyD4eZdZKZQOH0Gj9Ln9dHvhIs/vdjef+b/y4BNi\n",
       "EwGApJ+uZgDk71rg95HBVNHjdFDiS3JPzyW58dmRIsrWITCmWbApcV28e7ZEV0yabrTM/WmtbsYq\n",
       "Voe0K2NTjXaED4HjhDriBl4HN7ePLSi8KK//ORQkxzNfk3B3YlEq1AegG63tHkyUtdA9oNLPGzP7\n",
       "HJgn418PWFAwd6brnGDMim8UJ+QF7bnYldEDSkv93wYWKCjuQJ+7AIBYy6YUI9YcYlBStiEeyXA8\n",
       "2k2zPO94wT1kLLK/6rJMDkjHoyHbrAdJOK/4Jnwx7hmVRwzQonxplIgr6ACE8OtxBKD2fnPsVKF6\n",
       "rqYGHwgbMntlqLgydNQGO46xwQ0pvC+bz3+98GcHPCateh45aqgCEX1nrqshGO0bnQJqCU/86WG+\n",
       "YbjdhgiANv/X3Ws0EvuP6ASYnrtVmzcQBPBjjvMNH+ghxzi4dm2RU7huQtI0Vb7PbHXE2KkoKEEM\n",
       "VPldgFOi4yuhP3pQnkCrRJHfRkQqNdsDzMcrrrY8nbgXFJC6TlWqTS2EQSRG1SJPVE5doRmXAeER\n",
       "gIfWaoUT8Sd7p5v04LeI0JfvSox+1xJPJm/RpFHdcZjQareT/DfU44YSID9Fj4Hsl2ZTwmvUlkGW\n",
       "VE5xhD+h8nCjwa7sSOshGMTIEfdeIUYILakCHZVaAJ1xgHr5azwePFHEBo21a6X0y9lj55RlyY1j\n",
       "jYjnt+5elUs1Je50tXKWWcVWKXQUr2fm6U+RVucOWYRZKs+VU51FjgmdklEdhAYHjgN3ulkSSW0X\n",
       "Yefm6pXKxo7BaNqEhjR8wIDOUPbrngeHebIMTjnYL8S3b1ztJb2iiMN4ff7tROJSfVl7nx58H7eG\n",
       "KKhbNWmt3D0qOhXa7IG2vWJ4K3r/2EMGCYsLGHIN+KMOitLr0NJruVwUVJ+jwSE1ydyz8UfAB2lH\n",
       "qYchk9n7mPOoPHLlG11I+cg3qZtE12LwihlUaOYPIAXt/EGhcWNAj5fQTf2iYm+nbYtddGIOHTKa\n",
       "ncmIUXC9U8ntZh3xpoZLBFmaj3ki8aDbtzZy123c4lteAIuAAAAEXkGeyEURPBD/AABfaHTOIej8\n",
       "WwDCOwT696wALUOf1DazaFaQl9qamKsc9rc6l+eQ/+4ztNiG/uOOHJFXjtkjnDREqsrZ/QKo5U+9\n",
       "voXs+MuwmDYXI903FnkIuaR0Umx7yuroCvsZEvVjbmYBAftQx3EvJ8BbOoURsCgxkdZnAmC8sMJ3\n",
       "bm9tBTn5aPA3h+9yOZTkjYi67lBCfaDylbWf0YbmhoytI/0ASqgxf+SQoaXpDJIhz6BzItOVBt5m\n",
       "PvijEutZLhjaTDXMgoH3Z5iBw/9gsyAwIS/j2RsXcPxXI2SC2iXxtrBHbDDc4lA8gxM78kTYh4yR\n",
       "LnplcCx6425iVCSkFW5K8sS/NeuFDyweAhKpBTxd6Tn1W/NZ4vDZAJWvYXS9AmEp218rys4mkJxE\n",
       "EQsMOm/XkfWFDk1Azqmhgy/umWTIGQV5oFKo6Y8f/OqYxDPeewnVj8/CMKnstLg7MVWftmyTFpCz\n",
       "s8AtuofKrq2iE7VtZarF+QYgqtK0uNG2ImA8vpZN4dXSsKWvIIU2DUjfyw7DhB4QtiRX2VRkN20k\n",
       "uOHJwBj1lKgXoPzqTjdT+dZ8N+tFNCdTNbvPemtyLbE9sauIQ1tVWzUe1tWIg6P3jrRAcznsaMDg\n",
       "xbWTHi3VPvmMF1DQY+QxREhlgRGzkyPRNuVkJDPQXsWIWDSNWTzgs0MfKmHumPmdPOnNAwDTQM8D\n",
       "9AZJhzELihpU6E+ORHdljrXthoKNWET8xSMiGxx4tNH86J+A07+21vhNYJV/MrOjjiRuw4IDQBhG\n",
       "/A/m91RYiQR+qw2GPsuD6vCMx15vAJJvf0QVSqTLFylZQt+G0ZF90+xPHmIgsQ1akj7Fen1gFlob\n",
       "jBta/Ksk99ScGVm7ta0uClERMThzblBdaXp0LEO7ipEdk6TDDlC6fK7/7t2BqamJdGWIek+2DM0Y\n",
       "HQAafLHq5Aw4EESMMcrcbXI6wcToXzNn//cWFjwChwEBqU/mbFik8M90BX77X9yOxLstQer1DEGA\n",
       "XN20aVXxhGPWgmEDK8hN5VVs4iC/wCfQTLkO3dC2AY4ZoqIkUC8IalwJtcpF0h3JeTkJY7bg7pkq\n",
       "OTgLgAb9UocusrmQ0nRQpw/Xp7ARiQdmgYYDPi6nvdvl5w1/7977vw2CdGN5i2y0S25w9IpcjmwW\n",
       "UUt5lpl4RITqVHJiaxdNLMwxqWZ/YAHwvnCNjjcxphhYWAwzCpdIC6Bk0GBlZ1fx5Qn/tc05vpQr\n",
       "R8oOqkmSdcFu+R4Isq+wT6vQ1P5zf0Vt1g1PZJxipuSkmJYLvWI/PWw9Q345wUDzWzeGJr11dcCi\n",
       "OCgJHqQ3Fb9guiW/NguyAoFF+bTSs+eF4lJAUmqIpOQDLlLOrMavlW1AHUjiVbAHrlPuohEPed/d\n",
       "z5hkLbjVxmEehkuZEqN4OpF7u8q5zjBh3xJi+4kOM6oXligO1OKpAxX5ZHw8BwEhxDdUWayFZxAy\n",
       "MNF9vJxB8bFTtbyRQWxAAPmAAAAG3gGe6WpD/wAA055aAEtXZVnwXuXqz1dq7rJOgrvfIeZX2PbN\n",
       "xAs4ZKODwaUCHBvWsHjTxcf8D7oOFLC6ewFQHooj0H4urZYywH/JsehVGwcGGMjLBtrsIIHJnH47\n",
       "oUcmjMcfJpsXnFPEGNJDv0y7oMWbl/NmPdVcqtKoQmcCjx4t/jIPy2ay83D8iBKIg+xFRARPYTIc\n",
       "ng9U0cUiWvrhRkcpKBwoMdacocQXybIRl8Fo2mdOTzDNhEPrL+Oc5ajXE+KYt3o5R8wxeufi5vp4\n",
       "W4y3CJNUog5ZQ4Bf13VVRRgSCAjZPsZUefvouGT2rn8pMHHfvyQqs1WfYHtqufF0fLxO++TTjqoG\n",
       "qLabYks52V4fZypr36Ob69nXByIwn1UVChbbDGh7sy2DgWtvC4Yp65VVZnSDTdeSwX5WEi79lHv+\n",
       "PEs2CcXLM96dP1lyZhfn0l/beYAxEp0Zp7oWU7FsOvAxd/nGehLDRSE9Y/LsC9U0tIdxxfC82x0n\n",
       "NOTZnDCTJXlx8Rri6htJz16i/z+CP0a2U2w4Jwi99SNQEWEgCnKPzfIO2jU4JQsrSqlx+I0wiGAy\n",
       "1Le2P6yAmWeUhlTUBWBZV/SkZvTt9fP2jZGyHgjcLWITONjnGm21TIkAVcSp1oRgJBwxFEWrrcMH\n",
       "KE7tYn/y04g2bmGfSndRfvI5+FrsGFoogdHY9Mht38UXd1Jf03qLWOFdj64Lf/ujq2but9STMN0u\n",
       "K31gMkCjgr0hSl6eB9lBR9NeTmoZLFXbxyTskfN0l8oVrtiA8DvlKwT+dVLM9xTIop9M24MZnM/E\n",
       "O7Q2lBRokmJm+T7Ok4A6kSZebyRw911XfH9+dnp0p0aQaL59iNFoC1HFm8s72/N8PULfev+rgm7x\n",
       "QmPP01Npko5sbFDzoNArKpERRxRt11/VrjcyYyEv7copYp0qjZYC1coONNk8FYr897UDRQthzsKI\n",
       "DyVzJU86lNUwSLayZbokcFcpf9dWKYoIXEKgNmFTrFyFuTTw1UYFdnT6i0VVLRcbDRz3Eo8H1af2\n",
       "n6hN6HY2gpUmSI7HMayq/2oYXdg7X5uwndq/IWQ1+ViUcnQm4687yMBpxFaBQu4xCnD0ibRqM81N\n",
       "sFk69/L95H2LlMMafSMSeBuXKkSVOElwDuO5kII7aWIrBEEfYGPOZRFEjmAX4EUn4mzhhPEAe6DJ\n",
       "+JIHDM1JscilAoj0d40QAEXXXSaUJhVbrepaGmdzDSzVDRfduZLtMW29fVhZP6dXDnB2W+Ij4UEj\n",
       "hLcYicE1GJnU8KiUI48S91W31y8uE/LyvtteZ79Rqs1epTd2unsIhAVoW6ymQtAn/hwfQwyTmUnO\n",
       "ComikrwZwMJpDbW1bJ/i+Vyb7J7BiiBYv+HrjSMIrew8u8zUaQU4js9T3UhQ/ZgXycyqvoiMc9tF\n",
       "KqdOe8mwaiy9yC9ehJNl2rj9x56DUuNN/SnVP5p3xwsphcZaVi/0VKN4kUmGLsDSdXkcTeEOAHMI\n",
       "mqR/jwEpDtOzau/SVe5oUKtsb48kgLRGnb/SCXHOoY1r61X1V5xHJ/1UAHPtslHQekHfBnYpzKKZ\n",
       "TrYnHd0o0ubvt/y3RDzoIllK3GWGZBycqWuFFZ2ohCqz0VVbGfZR7+hXfsVZKj2sH2TV4oD9wktM\n",
       "jHZnsUWt0bIy5thMaEq1sPUoYlImID2tRPvrGudr2z0egCiA01wz64i3tiwlTHeFqHBWf24Ae1Oy\n",
       "ViCZO1rnUlEEcnQUBbvrqUNiZELZYg21uFiox0bD7B9lQPbAFJhqjVPQgFTIigIfViHguyIHvq2N\n",
       "uok4PSCDh32aiJ3sDVwqbp0+FFkBary3SGrTneaSzXbpnMriFbVoKL2lbJXJlWHwTtfjagAZfWEF\n",
       "hH2+Wv8qCBBQNqkdwdLrGjNdDjNzUkuI/ASHvfmf+k4Lp4/oQ8gTSbltppcc5OeM2/xfjJBojg3J\n",
       "HXLTS16mdEaXerjynVeyxmwew6m4Hs/1Jjy+K0cMrkif3htGr/QcuQpXVuHIAgdtFnNfyG0hGhqZ\n",
       "mnZDrytVnltYHH3WS4by0R3JlSdMJsejA/fobkTHWkT1fIzznjhk1dPv8qu+71a+o2L4loi3yylG\n",
       "HDAHypaJ8BHbzzsgHrxoC81wlwNdsaf/IpH/cg+PC5yHpdRkSh22k9S2hp0jidYIQgNYsyeXL+aD\n",
       "DqCcihp7kBQ39Mh9wpu0TNKYfEyhUwxZpfZ3o6lES+Qx1Jy1jTsjthQfxLF4XmKQqAWF6oynNVqa\n",
       "32M3RBdGap9platEraqeY30ZnhodeXPQimohXdSZ8/iiKjgEKSn2U+07DFPrVJEvQv3lgwapirks\n",
       "A2M29bMYn6jxpAAG1QAACD1BmuxJqEFomUwU8Ev//rUqgABEeYm/5Rk48ABoxwa5K6yJ/R+RK66D\n",
       "NrZcPT3FnVEnegbBgNZloltH7MixhWpZgN3SMhDyGnVCS7958BRomDtfZfPNQPwwloR5ibtAd/ul\n",
       "2j8WZU1eP0D88DP4uM2Zx75mCcjohvPIEWhtvEAC+wNFKUWn4rZ4/udgTryxXWO+kzDysNTukt/L\n",
       "pZxhlcSbciY4iCpfDrxBLKVc+ZnPhjO4chErnU1eftfrKyetkpm6LRGWmnm9D+jNOUA107bNXFnn\n",
       "7p/qW/QHzg4gqc0MUe3wQozflCk34HiGRv0SZL6F3k5NIY0535aaa0ybHaW0WFLiaz4cpB1kcpeD\n",
       "npFVG6RPu9VGkl/uz3fli0KfWODZu4vXwF31g9GdRcSgfaaz1m5s5Txmd/kIGsdPHAEnGWl28Q9H\n",
       "hr1mIAW8QKevb/gqBFa9nF1++Cj/6Q7BbsY/MAPLS0hF4XdrQbiP6Z3GVYPiBt9Lf9UHB8EbCGho\n",
       "6AW8AGyom4Qgq8KzCDaJIyVtzIwMvjgjRo4zjEA0rSi/v3NrkrMT9/28NqPj36gC17qZbaOmDTXi\n",
       "JNNKzomN2GpjCwgcuYBnIESrvKg4qUG7tZhwZdS9s5tXIgAQCj6dQLL5VwtPK56s3JT5K0LNAqWz\n",
       "wJtUGNurmWTu+RxdzAt1fkXaf6Q5Zra+oMabtzx12p1nqO66Hp0PRE8cVxSAcQ2XOCAZD2yZ/GSH\n",
       "5hoPTZuDpJzl9AsEmmi+YBUQSwmWDTbB4Dt/pXiRuQMNp9Y8adlLQibbHdjvzUMoiKLXNmOliWM6\n",
       "yjn5rD073BeomwcYp8PjIh2xiCsm/ZMQnycQnurdI1ZicHuURgOQAMje2mEGIcsp3562uk1/UhOb\n",
       "3s9YhFomqyLi5L0gpCJQifKY5jU6Z8zVwS47Y2VwOqy/ea6wdvfFAka6x3GH1d1mv5j7Xa3TJ0XO\n",
       "SfZYUNez6pnksQqbx/GbPw4L45KzrT3SpfnmKI6bva9u97hvc+up6rAg3bfxN/4cTn/yuPFvzwY5\n",
       "H9fuW+TuqCgwlnqajyrvuqAYMBRyLCqCbivN15TFSGynIX6SVnjBlod5liLTUX+4Dh1QKuI1xJsv\n",
       "CSBmLRlS5sKX6LE14RuYDeVRWx/AJEMwSF4IOQXzWnTfL664+AuusWruUw06b0Rk4zhryrsXuwhT\n",
       "dwi39wieNlRbTYCtjMTiZnpeuEh49r1WucfqQDp+xy1ctZ4mtrI8jLRr7QIYMeYkurzK1PWd5VMV\n",
       "+1becE/jGsddykGlCb53Wac6LLj0Di4UJa/4RN/Np+xnvhR/pefTbVMv6jaY1kfOD5KgKkdvYtnB\n",
       "SA6+8OQiiDOzw1M+Fz/0CqBf9IztiivqqTTq5D7cJ1gZNxErhkKxKTwmVPLQRHYuEqnxQLfSWg1d\n",
       "nLpBPUDg28Wjfui1Zn7SsP8vYg7Gb7/mENStmwW6oSxnUEgJj5V5mkIAA9tW22HdbyL1OfAZpuk1\n",
       "F8xLht8VI+rBhl7cbwywe6NQ7n2n78iOT5L0Z377R4sUYGS43ru3CsbFiLU3okc2Y24Rp1SW5oMm\n",
       "CeYwKBfpRqRbo0e7nRAA+1xbss8yKGdEb6PGB/yfngiRMAsH22LG1aqO+SDId4K41PISTmmGoj85\n",
       "p1KP0OUkKCC/RabsPA6avXIWNn5MrAmoabIB2zLqVV7BGr73xQsfBFN4Xz3Q7LpVUEj/sl1kZYS8\n",
       "loFRyUMW7myf5Hfh3t8m98ZKNqYOH6C2aBMACxMswdzgleZKwfUnC8pcUAoXf8ypY+cZUQhSMSxR\n",
       "rVtnfPWdvdpKFpyhOlkhcwENlwVcPgnQwfEPAhsVY60eYXBANJu3JVfJqdIQOYlC3kHUmG6V5/aV\n",
       "IN5fn8w42QTyy9YT7oJ0z5/d62UfafzzD/KugrsWC2JhjJ/MNx5SG7AQZoLddbNKe0yikwdYAoji\n",
       "pwevV5NLvsCo95hSQFid+a4uOeap8RzQONJ93hXwvDe5LSGIZ3wI+6eufTybtt3O9s9xOzRJO6tS\n",
       "e7uycJ+C6pczUtI4ivVaCQFkIra8vEmtS0h3JOoo/zo8t0Z/gkiFwINrdbS5Ch8A1DRn7cFGi+PZ\n",
       "mOZHf6s3Zum/s3R9azSzOmcQxQpEoWjNnc1njq/QplKCA1LzbyOWDmsC5TKwjAvlfGt5WIv8WByQ\n",
       "3dEVVGmhld3HSjh8TQbiakXadqNGn71wik461fCyIp6l23Q1ax5Tn7tg8BOs6ChH4FsoJJcXRBQr\n",
       "h3TJVW4cMPCWfl12qXaAuALg49jm3oxSSjl4LlJU5YC9rhRay/QVPBqdof+V0H7wPsAIARLu0X6r\n",
       "Q5Ylq7urjCxIo6uh7UqL1viUw7ei5NdQDgpuMI7eA1c4I+glJg/43maL/mhUcE1gi3bWqJ/25K9Y\n",
       "/j7Uudlgul98guwlF/1XAlC26cemCE6fSiO5IpBdt9N80ZNmBXCjhNdQ7IWXc1QLNIkR5nnzobfw\n",
       "1vA4uI2WGQdEsiwxIqpFMofTbdOxNaHxQTinoQDFpK3WQBwv8vxFyIH5HikgEsDN3he5zd9IgaCV\n",
       "e350HOdili0Xfrcjwy9tfGUwttwHxQEHGMqq+OpT8Tlqs2Lt8urXqkpjpMtVndkhowAF7L7qtfnj\n",
       "OJDQHnoYpHK2tGoMPRYJH+44Ef5rXKuFEeuLagSOkxV5491i3HD8ZVHC3e/y8Jlgb2tJ4drpJT7Y\n",
       "T/ZkOeEsV+B835V3KHLG52kFTwm3OksWmb0uU4upiiuLw0ftHjiXGsIuw0pTqIMqY/0BfUQjyGAS\n",
       "Ibgo3ixs//60CvBUqsTqBdwAAAYlAZ8LakP/AAC++MWArx1FGvNgA/pDJZsexAJf+jPbkZC1JH4o\n",
       "yvkNSsRNcEFySrDvsNqj8J0Z+N/gT0bB1deD1uVHSlr6+9vHMhhFRE1R0VeGEGZQ4S7+47UFl7vl\n",
       "dv9zcJbxUgkPQiTsRKMR4WTX1b3SEWhjJqg0UrnMEHU+gFshnRmFYA4iZjHbD4IAXxbY3kXQzuB5\n",
       "qNoRIBw1gcyQOWiHhjx6zSVLmwKftxEqcAaZkQpRTThohNL9YMx8CkaE70euEjc58w5B+cK027Vr\n",
       "emOwpDO32wzf/dk/7sS+9as60b2fCy5YXZnef1kRgeBdc75KQ3tf2Bf0/BgQ28wNLXVK8uvthrW1\n",
       "6baLJ6LXALqfnUR4P7DmT3SpjW7XhHYWKhAoP2Db/AjVV63Jhx5a2C8HdFVqbSXqPLIjcLlPDQmh\n",
       "TVcvlERS53G2fbyYQQpNTpIQFP29vjyK5LpYArQkFOzCo4TEcrjy1BrBAY3TnVEHqVK4DElUNXuC\n",
       "HbHoo6BhjyPIO2Osyvq+pGO4xkgl7D4gDQrsK+VU5BMGkGnmJxQMPxEZKpqiyvrR9Ar6RdAxRBnE\n",
       "HpnljPXccrJYQmPaqGhxlojvAimCRQQ//8Mi2ZeMzYgfGgtNQbA3JuuOQka21yHjojPcwAJSiAOi\n",
       "sGzwC53TI4MkmxrboSzECCopkj2okFlGCXiFnpeiN5AW6/oSQh99EHZ4OxqbDYQkpoIe3lQY4c8I\n",
       "EsPdLUPwBGnioPFDD5H4nEqhwbwbIgtcy23CUuYg/LhyB9WNZ6ej2L3E1M4Xd+V13hVl0jGw6bNP\n",
       "3SQ6k57KMi8artpXyWjDcA6jM/R171x3m+PgzZMzh73zVggQd8QRdsDr8tT0RxbrA8qjXEjDISrH\n",
       "M3YvtBGZvfUAbdNRfgc8vA1GMSrZ3nhItHpPmFOerx1A8iaUdgjP4TIvyhG6OMFgVnymM9ogU6Kx\n",
       "REYaCmBxclX6l+M7qolwrX8m8BEZ7m/IhVzVWjZ4/ziL98f//2oEmdbgY0NTqDUgGDdwTke5p0Gn\n",
       "sbXvO7jgpYg3un0t5zLrq70p+S5UqA2tq5YG9kCrXgFvlGKISS+xAPuVCAoqIfaHV/x5l+MAF18z\n",
       "saTWb9Euq+Nt4kkHsSCN7G9XmnSVauoqdchSxDKPEA4Ndt/sCWrCyrX+1huY4wsAiBqI9OIdQ9Ci\n",
       "dUs/jkkb2nkOv/RY6Be0wyFX15R6VTQjnHtUTj3+lWJb62TJ9IrS0fUfJt1KWv3w/zERKs9uDbTc\n",
       "4wtLrpkgGh8qHgqytvJQ2CrJnU1GQ43tLH6bTBnnyM0j2S38hPq+T1luKgJzS2MILtTkOdqc8Ay7\n",
       "gzwu5nI4Tm0VNn+T3idsjiOyplza0hfbA1nfk9DKrxUNsr6Loo3ZKoFbgHEAF2JrtqXgmi+bel0k\n",
       "KdQOjbuCCo0gIXO3n7CK7LBRJ/XaBoZ6R8JIW4mvsTLmyfgtXwrqtpSKnZd1D4XBxCymcRpmqKY+\n",
       "kcnkR2M33dYaCI6UxDBmcqjeLPCuAXwQFDaW8oeXYhHeBeZ4n/dtWWRsXdmUAedKabyqoQfzSgeU\n",
       "gOaONXYIuetAE1d9703AU2RfBbwcwObXODYqxjmmtdCaLSaIlPtHDeYd7m3YMaVUesUVr2M8hd/p\n",
       "LsTp9Q6XXj3bxzy9gkWZMMq0mp7rN+lLhCIkkBnNjbMnPzUcwj7Xd1CUGqsQ3N33OqnbyN4tFDvE\n",
       "JaMA8x2daqBTCTW5yOjyMB0FpwgN/Smt9vrtTllFjSuPLfAWtjGQRbzbmIgFskvxx1WOBPhtkoQu\n",
       "wItJzsptyUSqfZLgZKtAGox6X/9hIV4e3qNBVMHnhaXfqmRGhyaF3UJFFdHaoU1jZDs8eLuLmjwQ\n",
       "VefuRQ37AlGa0rHHj0bS+bkoaoQCesndhth6BP8WaXjX3Ss0K2mVwkWA3CA+2RDFhjc0WUBz6xTU\n",
       "RMjUSEIM76GshzW/HgzkzisBNA67qm1HECLkmZzK69AJY+XXPoJlBZkQ7eCgN6Ruw6w7bHV2qJM4\n",
       "8d8w+1hZACUA9gQ0zvsvd/jtyk/RaI8mttNXixpQwvhEGaXe9+ZoK9F7F///3a7ZMl1hw7WKSAAA\n",
       "CgxBmw9J4QpSZTAgl//+tSqAAEh5ibuSFGv5JgA2lxQgSLmgwmaiMOHShHv6g9qFI3Rj7HdYEr6g\n",
       "0Cil/KVvEpL/9U2hXYvc6KLExQwfr9bV261/Sc3uRNuVqlP1tyURp2VBeI3vu/DTDlryep4vjJCA\n",
       "/exX+5DwalPc+N6gU8HgGpUqMXnncQu/O9ci2GN87EyxtD2tLiIfAEl0n+2Td7g1MIJXUznNbmO7\n",
       "g6VC4Q+W3UxmhI0NHBhtRVpAObiHXQs+MIDuzquC51z3pHSIGI6N0Y+NqVL8A3lvc4g5mvHeCCXZ\n",
       "i4+9gWTR/GYoTT3rwOShJGKA/Or4UmDqiBINbcMBpygloS6QrPYQMUtTDZtHW9sE7sE2TknKL2+d\n",
       "9FcgC1DnQ6qoi2p+O/cqfeIrOyWGjMHUcg3ICBaeMCRnAWF1IT5tBWCRvLrfZAXAUdjL96zjBZYG\n",
       "58SOwqVtbOdKQmNTGUKKLo+QJTtJfw02iOgTKQE+YWf/HkS/p9JoHK3+xsi8KOlrwwRTzfQ+qSFM\n",
       "v1l37R8F9i4QEZwvMI7jXF3Dn6pU7Cxbvhb00RRilZiiyjYcG26TfiyJdmwYfeh6DNs3YtKHkWTM\n",
       "ageD4FjdT1zw4FuWne4Jm509Ib3o13/L6L6JSRt75bXa8FmCNLHuSYiHlmNXL/mt1CORfWea2x/K\n",
       "aAla/xEX4YwggmgCj9fAeqZIIH3+0oldw9s/F/MswFijZjvaayOCSpSwNWkHoSpg/H4lMMbtEkbm\n",
       "/Sv9rqWxH+bXseQJiFA6Azw4zOiZUDweIIykhx+63Om1x2rO4tNBNwI2Zbig11TZewC5WGVxSDVq\n",
       "ISZo5mkVHLjLEZywI6r/eW8pvm6N4fqa/ORbwhi4CV+UtHChclhDyLk1IU9K7UA/43/i+jI3LGWs\n",
       "Wph9ln14OyEyyHVviEoEmIDjKYDi3qGhxk0LsRLmO9HdiNGAT7DvzJ15lYvehEiI+HrzLl6CunDG\n",
       "kD2f39t51kxBtHrhi7+7pD3ds4LYqUd5GDIxB5ITma2eCr3R/cgBnfsTZD6O5JYwpKQrAdJ2b3G8\n",
       "sz3n2XM91ADBixXXqS+WPv58DM9Z7DdvMdWhHebiF1oGz3qcC72dZn0qQohJNg6I/u9wrRZvDyAp\n",
       "fgtzJStPv79Kh5WsBXctbmPM/tbUx8FztOwderIqrWR7eO7F5rH1MX3OxC9P517yRaUl47HRi+dw\n",
       "h4axEWQ1L5vojzOSy8YBtmvTukxxaWf2+MoPhsVEbWLIFcHmBlFDUNePsL0StzcuWR+6YhR1sktT\n",
       "FXHvNa1NeDgGBHW0RSlfN1y0AyiHYSopbdLRyNQsK6apIEyW2yLTO6SRo5lK/p1SIt9eJltUWWU6\n",
       "H8FR1JPJnPwE4+bx+S9DCPPA5KgaHyLnL1qCQeKFXrLo6TUgl9JblHZLv+lgxYWuDO26DFlafLCX\n",
       "nqdAu9M02hjZ9za70F+I7UW2dkjnb6vCNHcjgDJ9GLgcqsKc7ccxm+YDrDjILU02/5dAvwWUrR+L\n",
       "7Bk8nMEue77zsXueIaRabywdB6WJFaewk71HzVkz4ZMgkUiTESbLLRf/kzh5Urwe149bDAfXsvDG\n",
       "rTN57oHguRoXL1nzOkpKO16r8WDKaR0DQg7SHHURAxWNVu3AP7XI3+QW0U4vlv63zJetaMG5CNNu\n",
       "Bs3xus1jF5XKgw5s/7mgheXnp9B4l41ZQ1uLLKnB2EJjE/OZ6lmlnO3O6YTBDL+VRkEOF7Pxf9bN\n",
       "tsOIlRDMmaO73SuNZdnMRsGXKZmH+Ba9yCFqe71Bt+3ryK+9tnsfipZ/t8FckEaLgC7gv97GRyzX\n",
       "Ip930c/nQrtw9dS25A8Z/PqYI1Z1uxQh/MuIcKZ+R5qpbeusYA4gw9oCeQ7h5gBe9OAwciy6PNSS\n",
       "qFKXgx0W3voSeyIrqc+K2gZU1h4LU29m01bsvPGHgVvEec1Ab+UilyftpJRpAK1aNWRyEPiM4wUu\n",
       "0rsnWy/zxNj5cWeooXZb9tBsFk5Z+64EmYdYRh15cK5bMgbrp5bh9rhAMSevn1JY1j7VtHDnBgPb\n",
       "MaQ3KMDiLRr4xdGdbbyrZ6kGPNNecURcEM7D4S31vvUAv8lTTxuzyiTkn6okwBY2wiocksxUv7kA\n",
       "TfBR1GQP8tjyW5EKZQYtJUFPIyM1eo0QrCSiEnoJrY6h3toK5czA72sSr1UPCSpNnlehIT5u0Kb4\n",
       "wSrEaYghb6VggmuiQs6Q+fjOsWn6s/1j0lXvMybc4jH2xdezCrQS7fXP18ApZpPgNux3kzR10tCp\n",
       "Q8GL06VMWp+ui/ZZMUHG50xfQ/+rVj+XWiixDGCMNsJMXJ/albc+MSVMdQkXuqC5FzqxqIaw/Ts3\n",
       "1gPHbPECtNelHdLGdqQTpKZMp9r/va8hYH6SCX9otSDjc9UOPvK3Ezb1umQwgpmwOd+6jdH2PARm\n",
       "x918849YCVVn63OgegCcVF9zX+6xiUHQVAepoG/MdWFrDbC8tEHNUSr+Skn0nCwj+69mevlaPYkv\n",
       "up1EtZaEP4nKgJ9iRwTCI5m5aaRM4Av7Z9t8pZdq/slfYltr9sGgkNdU3lDG2czSv0bYCJHyZRn+\n",
       "EPs/nLJGVIzvCDBn9z5WtrQxrW8T7YdXvC4vDIwm5163dw4BWwOeod7lEFWyn+RuyqdV4GykbRNe\n",
       "rPmnmErv92qbJP6c6+OBT7zYK02QY897YS3J90vkDGYWTxR9nXyHoyjwWwmIPylHb+3A6apiDLT7\n",
       "uJieiIi7nMXjq0QmwPle1q+yVKzY/IF011TntbIau8co3Y0qYgHyH0YWCdYAr0YtkjcRBdY2TvGQ\n",
       "FuAnpGlB7O0LdDv7fg9JGDUmJ/KKp0eiOjouBiVLhOGN3U0wpUhJaQPT+T2GvNd/GlQXJdTqyINf\n",
       "DwclxkggNCSOo/3rnFzwvR6gbSEaomzDmU7SWwgOZJDu5zgl8hc/65jgP3voy4Hh9/3/207cZb8t\n",
       "b5AH8GO1DFWhSLxuCiUfI+nrxyIo7Lf76UZeQSbiCD/YcQOGAxaPgL43DEhppDr/3dWpvnU10Zy+\n",
       "tV/WYBHGLmw0A2cFwtEVFlHKGHXVmpDDgXZt7d87TeEMzJTPSq0ZMHy8OtvCRNgStTqfsH5iGHqj\n",
       "HO57dq97PpLeNjeHHTn+N2h2l5KmzXIGLwDpdB4NzRT3dfWwLKP3RHenEUqIjfxOM4+e2B4sQhm4\n",
       "0+/Ue56unbwnkTQI5/UNHqkTqDOk0fom9ik82LX4ZDW2pBQGtZxrObNSb+/ZQW1arLLV5c4RVKuF\n",
       "lwjaCrAvjFkiYoqsiXvJWtL3iABzYEgDfo6mD7Nybk/U2Qit9/XiKR0oUgXlxjFV0jcproiQMa8T\n",
       "ZqFGgY+4X6U6I+f4CqHydjaUmADrBhizCaZMoCPS9MvQriWOWj5xazmxtS5UbyIaVc3y99n9vhkz\n",
       "6+zsMEfG8kqBAAABIEGfLUU0TBD/AABc7L0AA54fhEC397QsFhkgAsJrajDBzfEkAyMvo3+4yKmg\n",
       "bpiEgvdlx9TbcT//Nr80aBZ2l4JTYWN3P0etwDIdVf1zJ8YQw2H4IfI60ejLrxfwBzBTyWhxOUer\n",
       "6FVjupEBsmubAPr/2i9jK8Ru1DmjW2PrUPK/oVBNiEoXf7NASOpmpFG/tRg6VnzalWp48346uJV7\n",
       "2tlNWVUJ/nGbVWlDxvzkV446H65hNF6cDqX7t/i46v+RiCjpWgMs3Jt4NPQxAFqcVfGEkYr13kUN\n",
       "RRXuOlZRNVC8pT0Siw4xkrL3kSbGFSNWPSI3ALIyNsxpPSeqykst9kBmuw+tZ/0mIOH/b5m1G7ry\n",
       "PjYDvcnsqYoAkUAY92UIOQAACFIBn05qQ/8AANYXTPzzeBABOtTwx+M0b5EChQ0yhXMiGaFaPgk6\n",
       "1R+QpMHk7cl1H/ySeddbKMZi2G9CXaf2qNAi/JLQ0B0/4x7afNGyewqa3zv8BGTBNCQnH9OyUjfE\n",
       "+wVy0iaHbRRImqHqWv5+6zvzLdiV301kIdsgzw8rdhd95lXvM84+X20+NVaOUWhOeN14GvDpuvsl\n",
       "E89ZNOAbyXNk0mHZYasxwcLKo+7V3AS+kQm+iyKtidjEBbzVUqSC/U30XQdP6lMfsCeJWzSxu0ps\n",
       "kq2dK6Bwh+BM2haX4qmHVqR+XXVfujaZC1+tGetJpkwA8X7Z+Ap/QYdyqI2t4AFYDFXxn6VhUN9x\n",
       "Rtnp9GA0QOdWaZZtrNtiQIM8XhVID4EbKkMIFWkFW9lFzGzkpsMZ/wtoIRP40T/AjNbEVQ8Vga5J\n",
       "WJedu3uCTJTLVsvU308KcuZvCW4UI5L9/NzBe77Sfwyw4NAF+0mFftkiTN22swYcFm8Qbd7u+yPR\n",
       "32Hv6StSE1jNMETGgXb71T+uG137DndS0SD+CMe15qoyFSnEQ8JWkMhxDqfX6oeZMJiwAha7nCm0\n",
       "mlK9gYqXgqLGt4o3c8S6rmTikyoZZ0WA3C0WL392efAsOUL0j2EO4LgGxBuaGDnYzRGIWnHv0Ocn\n",
       "Xsnn5LHyl3XWKJscDX9+tkLK1snu8lP8SHdF45f95MlRE6Uyf5IU7iVjxQPMjoPDau6ymOJxGHql\n",
       "WcY3PSyJGNqJJGhO/sCLJVBYTpF0xZhW5FVelsBLX81L6eRslQLyGrNlrX9ghxKJDOqELn63Bh5v\n",
       "NnMOIwjGqDBw4lKkj8iScFskSvl/6AMNNdUriFlp60CIIX1kn5XgeBesQg+kjzVRBuZseHLY5e+C\n",
       "h8gTWe3EyQFS3pRiNsLY82Nd5x0+HuTUT0UZJmrbDMl0t3B/Y7aajm+0llfMaay/V1rl3oA0gb9J\n",
       "6s9ZxKH48z4mfNLEnMgg+HcDCmgBGNTNMY9mpG6dVPMpLD9xuKLopVBP9akyeq5yv2/M5n4h3PFR\n",
       "1zVgbzcE21m60xm0FEaMybJp2txQNSSWfq6xNyNGKgX5pU0XrNOoSJaqXe5dcQvFB6/Vq2o2XT6s\n",
       "yIexb/6mfOuF5v71IHMuSr9hPWNk/pV3872E61ZSV0DnbrlFWUd6CwGyVwV9K80qoQ/O2rousj/7\n",
       "/h/Ld3eIqixTmfo3Pfd277BPMAg1+qI32Ac0z0nCq9zozvJVGSlmHI31MD10joJZGxkgrKznuTpN\n",
       "1KXBMfzLSyfemQsrZvRv/PwuIGoURp2hrp12cxm5V9k2F0qVQ/4OwSvBVvgPwPgReQiYcov1llhn\n",
       "r8Hx9nmhn7mhLpeQYSTlscwmAVtUrWviwY9/0pWTDZ4U6C5WW/UUkcAVAXn+TSBHs97YIpWrZpZ3\n",
       "Z9kl8EQn7KRpCoCD5xdsBGux4neHNmU/XqiuqaudhRXYdQM2/vhyzdGkUY/p+l5s4X5k7bPbf+4A\n",
       "t8W9YRItIeNK3p4XEliIY9MztMK/w6rpk5iBztQVCk3pJ8vPS/T1rkOjqPaQVXVoTaMhaBkzmapS\n",
       "bGWenRAaGFUslhclAT4QRYt4FWFVhDTo/U0xe5i+0BkuxRwfk5biZ+YjCWC16zCI6Epf8j5e6B0i\n",
       "6Nw0sDfnO2uCIhm4JNgWMGm8EeP0O+bXiYZlWg84/0S+jCg3NpyRsJ5MD7d8wop4aLVJ5RNE+wrJ\n",
       "OTFPXNBljsdAhur/RSeCXZ/4ohWSFSXTLiYckp62G8PA0t0UoVZKeNEzmltJoynuaE2Bzu+ith4U\n",
       "o5djZeEFkTV6LI47oBvV9GkAOS+dOSmeZbto0h5JlvtCjl0VJJXEfQl7BqSMZCwHk+YIy8xY0yRc\n",
       "6IgTnaZQCLrhQf23dysAK2pYi/rUXzjQP0AnqLACDfdyPttb7sKHuQPg0H4aIWBWpqA7UVPWPICy\n",
       "rVPmgvjHDVkuvUywzol9ZyAogyNbG/IilZEwLlZaSkLeHJGzlEKjxMqMzMrFpPPzm6w5PbV6j4Kj\n",
       "9Zdg+Lp6s0V4h8xulOGaJShciCXvHcHAwkB9l5BVCcfKYxkus+XBdKEt8taoCOlatPSGsJw3YBaI\n",
       "mFVlOZ8/EgCEYKj3gQSDl11QJ9YZpNrOJ/X05wPi+l1G3e1PzsRR3zyvzEV82XMiDoNzQBKiriRp\n",
       "/jwDMWm0xQe0kmYJ61fQkcTOROLJgvY/CI6kH0ARmPM485lOQz+DPF66i/hZl7gn+V86tUB5NGrv\n",
       "W6z44/lUOTGcXMsO/vHf+O+k3+hQxwdf0YsVWwD35cYD5MJ96n+Rp61mCmKG6VpW9AE0KLBkZF/d\n",
       "E1RNx7AFyZToV9LFqTQaksvSmZ5MqeQbxlUzNrkbOpTEOIFmSS9im4DAYxaPZK8ZgcC5fFsGF2uH\n",
       "XQ4I+hoXwYvmwnFnWUchFxyOZQ2mFpvVub+3i4mFYNeZxX/QPNRRyTicabaakJTFox4bLoz/RfNF\n",
       "Nkn6ZmKMLJQYp+u5LG+o542Z9EYDKkImURhpu/f5Es6E4FOJDCtCQfC3KFm1C9X0thrcZ/t5ufxD\n",
       "dwzhDBcpTNxPhsNxNB6CWXwiBZEZ4G0Y+hCO8Z725mYFxuMRabtqrSyori9b1aI6oWztOPsaVjnc\n",
       "aztwp5qtTCUnBr8+vyeQMb3W7LBycY6QeL08tZrluFQHA0UARs8bEGEaZz2oS5c7dtUgQWLBh3jm\n",
       "C5Z959xlSLMpNXddv7EF/QRF9f+fs2Lb1jKZkmWNMmWlnrkbH9w1w26ivfrauKsjxJQFdpGF3OK1\n",
       "BChwTBDFBP1Mx/pYNUgfnXsnvhJ26O5ZZgkB3LJIFoj3FNjwfopVH+EAAAFeQZtRSahBaJlMFPBH\n",
       "//61KoAASD1W4+Z+XAB2gqeyGgIS2pdGDn6wXda2ILJePt1ZEl2XByTqtj1OOeNzGb1mWcgZd5zq\n",
       "SfdLJx/oIbtTwO8WZ77Hhr0OEn8RAH+eYzMbttgzpRpVtWeFUPeURwarB+kbIdQB5lAIAuLtBg0v\n",
       "G6YUPG/V8pHsBcEoFRM7dKEEOpf+/eWtSakd6VQmLHkIrDoD9rL0RrCrTx9IvpVZVjhNe6b32H3u\n",
       "HMYpb8XLOVojtnZbskAbe0Z1YQiQyvEKTST4G223X33WJuP6UMkXVJwSvlDLFBxk3eTZH9yxOzeu\n",
       "KKFqsbmSJJpndELPFG876C2EGWuHrySUU37m5WQd7K1dX09B6WUyKOSN1ZnpzHgdfjsdMhv4N2i2\n",
       "YbL0HL3iqr+Xpimq+4Wn/U746wyxrGUxQwg/YFarEnarKhTTLX6wFEwf652ZMqaHW/GKD0gAAAdg\n",
       "AZ9wakP/AADG9NBrcc/JXhAgAnR5vMx0asLXzPUI/+1mX5wRfOWRUnQUbqSm9ptrT7BO5SgqTvLS\n",
       "GLi6j1DiTJvuJMyh9kWzzQ87/y6L2l+zcmHsZE2SqTInVmAJiFIjTiraWjVfyKxEUBeBkP36+WR0\n",
       "mKrZ7gqESpTgss1mirqVV3b4yPD1CWm3h++w+MjTE8p1HYSgXR6H2n7DTIE/EL1lerK4Oi7NTb/K\n",
       "hVu74lDCfWKLY6LDm+YB1zy8muoQ5XYsJGUVVjjIGsfJkCFuFL6P4ga4jdrM2kT6wg44MGtHrwwY\n",
       "wogO71DDGvFq/MTrWI+xEOsMskZFlm8KTBSPycKTxaAcAnG08f3fz+h5TEqJdo6SA/slEgZ5Oknp\n",
       "ZJM3ocsxjY5kWRKhD9yEmws++d6EEq5GjuuSMoIc492/5PoeNzaIpxyCw9Iy5zz3Bfgwx6Sx8fhp\n",
       "5VdP8EHimrDSAXQ4tBOD7P4+czhMMNLypuKidL8xc0oMmY9USk6LvSCMVr6fGVcsjhbBzHw42GfQ\n",
       "ll+j9GGOhXSbJHEixNAJ6mVV6GSKowi71y39qkNxCmfOPX6Ua1VzPBvBzw49zjYUjiqu2jaN5NUS\n",
       "wBhEaImEkhjzqasar+mCvDaPoPbo/X4mecI+kp6hWZQatfs9OEinKs8y4GXxoxv2b6ZLqYVDxgkI\n",
       "ZZS+iPFSLSza/mHWnAf2NmJkr+lXKuPvlyVurKW9s8NDWhFW0x54DHeapFPRTSp+Yk5svWHVK205\n",
       "944pm2PzTWpGoc4sO9WfWS7c1azX73hO76cXYVRa8QBjQoFEtj5vIDuxsVYQ9WY5KQ1c6edy04IA\n",
       "HDh5BUDnSYt2yt3U7ugcD7KVI1EFZpNvUc7VVCOVUPCFD1WrxRtAb4WYy+sIuyRISZcsR4J49768\n",
       "EkYC4dIk4v9uRl5fyD/kljQfPwZ7D5RhPl+6f6i6y/tcuZEYO1rn8rpSASJwj3OVq0oyvGmJ+XTF\n",
       "jX28sAedxoXUnmHMuDiqu/yUU7aMkM34zO/+QVSra/XPRHdb7IR3OsyiVxyC7PkSJFJYqSdlBAUy\n",
       "n/fT0F5TR2XCCoB88df7aiuwL8YPI98rxubIEwlAWcvrnDm4MUcXblFr/7GZWoTccSmdz6ETfwvl\n",
       "2LIQOrqQ9UIKVTViXl7qc4VQ3PBi7DTazrxTd4I8m3xnENmhpizD1RuXFDYkr5XHRLhAPeEeAOen\n",
       "a44aS1++qCYiuU849Vaatvr2uXRYFVm7W10SMXAhaJbHTVtk6C+GcivqRbtyrqHXd83klxR7I9s1\n",
       "InYejk1VJIV6O29oI4QIsDa7M7OLzJhBAKiRzivAtvibQJAsrs/G0tEJFZ3xXD0k4w4UBwxokMEa\n",
       "O8djKymV64Oc3t+MaUPr9BaXbLJhm8kvuaK7cUC8wsK/hOUHcpwoNSWkA4Dk4iVOqrBNtBtjWwQ0\n",
       "Lpc2yHcmEqbBrXa7pk/FHrQ9ART4hYF6Gm7hwPMeea0BS1Tm94eZO+/Bh8yB72Rn5QcOkWAscpCX\n",
       "M/+WQFsV21Yq5iko2BqL3Qj527mJ7WEnrnn3zdour+AwYdvlASLyb8RKAOz0qOEBjIh2SsaMpFTy\n",
       "pQs0dT01STrcKKMrd41CxVAnfoC81wQXd+iGEgYbX21bVwiNqSZuHGFvsujDRZE6idzP/LK1Gm8h\n",
       "eDrxOTirPAdQipEyJCfl41tyKzvYP52tgYL9YRVt3Vd6BahThMik3Eqlzhoyn+2uktbW+KoiAXav\n",
       "qTTwJikUyRD67j87puLtkBVnWa11MB68HSdKbpaqZugiQBwk02tc0LEn7CILk0FJZ3WtvRobHsW+\n",
       "w/qa5I0+f6wcQYfOFda03RFEkAv23c8F4OBU52x0m4iQkqmfXz7ebGJlPvOdiALIycMz1Jem4KPS\n",
       "tiLa3oaqaJEIXRZkC9mlaIW5MQKnpu6tDCwtktZqdL4iV946bKW4COROvVDGQ8bNwQDS0Z3PVRB7\n",
       "DamZzCQbzf25FzjpNgGJcdnJY85rVPPvD+jTUOBTLuFhUzdUCyjXnjjz4nlUg5XRDf3JOfCr+oN/\n",
       "vwToDgvzNjOFsyBu/uy8XKnSfJAFYFaoSL0RIMpPZcXyVIa2xp5HMZ6ieobZKGWt97Kn+Cj9DhwN\n",
       "iL9J+3cf9gFfB7ywCqbK35OE7XqwKuO6nyqferr/2Zs1FJqb8cGfcwfOBEgDwx/Si68FgIKqJ1LD\n",
       "gXPhaGTDkKYj6hwpivWcYE7+kCNfRZIiQUd2fRxAtVpADb+j+FoFQGVAdG4ERxmOKtYZa42yS222\n",
       "nmhNYUXHaQAg4dzcRoMhXES6H0hDnTb0MOXTmwnxOMCWbKCQGHfETWCVNBerAP2zMib9DCt4iOxl\n",
       "XxDu8lxgSgjE+IMj2+Epqvv/GWDfEvi81KTrNZNxt8uLk9OFGSF5Od/7J1nyA7UZarVUPXoVO3LB\n",
       "IlqQBzgjnsLzga37mlDTZfz92wAQkHIpjc3ueVYaEFDAGgqOhuecr7NbzmZIcKgfi26Depx9q0S0\n",
       "zGYoyD+78wAABXVBm3NJ4QpSZTBSw//+qZYAAjP1kN5gc4LCh0/wAnVN3dhN98Fpl5qUiLQl3Sd1\n",
       "etTU1ZRA8ZbNsA8f/y3IRmzC6WXKuINS6kPl2Et3eU3fgDmeFK7LxaO5XcW+yQtnOHPx2bazrXOP\n",
       "6DfL1E+jpxcKo7RQmZ+YS85iuCtWy7spEOKD/hq5J9p+0EJusn2UQMYwlDHya9rJkNozR3jj6iyZ\n",
       "IQ8nk29PmCVQYlkEawr6IGdC14D9nhzXrsRz+q3PjyEKjnlSEmxpqAusJK8ihVMgduni5kVnvRRX\n",
       "v0MchHQy+aCMWFftDqiEYWZwuciX61BeDGtTPo1uTCzWwPrnW3nQ5ewzQ1za0CbeQ+wU+ZU2oE5j\n",
       "sbXFf+FgqqtKPFbc4gz6pIiMsrArDctKndofZzofi6koGZKVUn/bUddOC3wB3ikOng1bgpRYHTcM\n",
       "dERvz6C8KeufebL+6t4OFfDqFeYX6z5nUUM9Iti+y2ULnwhuWjn5eNhmcRO8w/K6/Jj9knW9QcPO\n",
       "OhzSGIpepG/YTkFgCwf21m5i/9YWJ5vgUtKApFOODRxXU6gtH2hN7VFn3W6Vdh/lS5m/Z9XU4XeA\n",
       "5RlD/tsc5sXDWIuS9+gkULJ1aEMRVkltg5r8heSoDez37vJwMyOLfGbxaW2+Z6Mxf/7dpcPRrRfO\n",
       "pQpJtbL0nLv517S8Kkq6SImuMeqnzvDNGTmA7RenQ1Eh9yszTfo3MyRg+nrG8oGKFYY6AwVPcPtj\n",
       "7IpO3k2+sWErk+M8rV9iNqa0xBjTnG4vAycirpZG8pL9J9FKAntmXciIaoyWV69be1c5NfJeSx0o\n",
       "3IRrjgSUHDhPGI8IXPPIhdjj6luf0tY7s2jEAiRlO8wtvMfGNTcDT9Gvr17A0PDI94Ff252qTqMg\n",
       "T3cVvT9bpnMMEwcfx2kpMc2b/ldgvwXAQ7PLYPsTDEWo0M7fOduICsdxrOB3/44nfziOvjZPUz7m\n",
       "8M3syk43s4yVqVjdBmhm4Gu0Y9FPnlap9b80eqUcWqnkeM3Xc7b8nUupIYYUtggmJoa3xMS1tIA9\n",
       "KH0m7kiAEjINDg9sss/6Tdiqf/vUNcPtdLhD5ZepamgKznN0Ekpw/Wpqvo+imiuGlijAza4/8wyr\n",
       "rTUmLKp2TS6sPDCvpiYAJQfQdQI+QavU1PZ1CsEsdi0f2Myz6l5lTc/N2b13GXAQTgbRFepAfmLc\n",
       "+u5mKVz+ra/zGkgCHGCcPSybJmp5A+QVOWwVeGBztO2wDIL421S8wrCpuQBN//Hq3uvUqkIgHydy\n",
       "O+7W8pnbhAqty0dQfhtCo/Wo979ZJiPnhU+kzQjO819wB6GiwqY95N4E2FKesoFvoo3Y/y9nRAQY\n",
       "krxh08l2wRZ9LnEN1URjIkIqkEZj2rBXD3WoK/ALU+qr5lGA+NZUDBSxS22ujRVqUXd1pz8qKM8T\n",
       "ejpngxrUBgGsPr19qW9viU7xosoP+ik7ufWCbvA+DW2QPgmQN6MISByr6H29KhL76Ia3WF32Mi7g\n",
       "zo2t6p8HxIUZGZoK9AvKbg7Emfa6eildgQbE9SREGHQ/OYkMsI+Fr8Ct+ykE6wPjEXDDpwOUfEYM\n",
       "Q+f+fwofjXQKKIMtNW67j2psS/SxDNI0PGSC47TUnIefr7rGJ/SXVrfiGacbAM7YODeE/58LQffI\n",
       "sWvFKmQgrqApf1tIEmpF22Qaj0rSszSdgJNAAVQW22XpKG00+Ar+7wbGEoTzj2S5z7jsp45OUrxq\n",
       "q2DvtvSa6mf0+juYXELgZfx2YOFvhl+WIhuWMuXAsO9WUFZLLsWy4dil8e2ppTqkp54nM7usZFgb\n",
       "8KyVcvDpXRwyhHA3gvphzLOTjvA6818ayampVL/2C+v0qSQxHGJW6wAABZwBn5JqQ/8AAMjmqv6m\n",
       "fkpCwACdvkSfwGCJ1som1EUb3M7O1EihRAvcj4OpsDAyCzOc4/MH22A3DhnlVNaMezpEOUYoEOsf\n",
       "BYpG3s5ioqAyPOSa9GTFPEPHIx+bMV2fSUVE5fcghJ3IMBG1WHtss0lM7P6Jk8vnczsTfiyUNYkB\n",
       "X0v/wL5nzmERoT5tf8cEc1PctLeD5DK1PBWPQACxZRDmh3sFTVXPsqAw5MOBaI2a6rbZMjZIqy1V\n",
       "R020sdXbed6c5Wk9L9aYYWK/Gpyo49Bw9ELVDNkDl4chxv5gXrZIt+BHKF+d4OXFU0BloeX3geHD\n",
       "dM03XKzeXsR+8MY+MVtOa8WRNBEApSkzR0TIcfLk9DOG6xpPRlocKD3YCTZhBV21Mxgpmld896Ga\n",
       "/gICEIJ5etDaciw1vyLZApQ9GVav6JL2s08hL7+SHHn7pAcXBI7+BqMUiTKSnqtNoi/DaxhNN5+5\n",
       "FoFqZMHa9XsGO+MTzUyDV0CsW2OmvzhwGqox6ytjuDabHxnAIPGKdQoe5IS3z4kmzqlGI3i8J8v7\n",
       "OzX40S/ndz+egUS1E5kwWrRoI6wq7AuV2ZY6LU7+RkYAh3Bwv9rp6KJHeoMZv+VfFsbzPgPj81VM\n",
       "ABD7vFKd1D+IiQtwvmxyIgjK17BL/A0/wijeXHgmgeoOLVBdO+oGEoJUXWQvxkOSulCkbdT1GiW8\n",
       "hM5FlKrllRnxVWQYkX/q2A0RQH68l/nM7WIuuTVQHb8SKQxllfgBr9S+7dpDbB+Srd5pO31Vi1/M\n",
       "Pj3+OJMUX8V1soFbnmzzQQpajb36TPAffu1ciz8FHZ/EBYtnWzLAg5+2impujDA42DY+EZY8cy7x\n",
       "kJDc39IH/EpVnnLt/ws7NYMr9P3xgyvU9OFLTIV9wLMMUobuQdwctZ7kbwHdDXDiHA5JfM384Wnd\n",
       "z08LkshPTgcVLUnDB7Bjgm4ip12c6tGvSEJLW0h2xgb7CjTTEAnFpCKeyDldagM0fzx4nOzfUKP2\n",
       "l2NVXP9H87BTQCOiDuW1CRPI9nknP4sb9Oa1UJ9vZovTwKa7VX4mUMpbUxosmkoE/NJ3E5CctV7d\n",
       "anRttK9dIYN3NUcaxF9B3X8y9yOyc5pXHH7dWA8HlHWjMmbtGGhYnRTv2OY5c4atCcEzSIZqx9PE\n",
       "hM2fAsiIRKAkjLZK5l6g4KYHsVxldXaWMuWZrDtdOS93ZBC8n37VvtNYkLHsZpj78/5pSN6xuott\n",
       "jrL2CTYaM+EAoKQthsay/jiUlI8I99wqhkQw9Aohcvn4jyHfqn446eW4kvp56TT7FMjBujvyt8Af\n",
       "R9meOJMnTJke/2VtP7ZD006zlFb2rYATSrBViWdOeSGwPvDTGA1Ba3krCDZUqnF8VSqtO+eSKKh5\n",
       "yc0aS9aNXFVD8H4a0PLDXH8j40H4HvY2r8Xr93B/Jc/Wa2TkuYV3vlAIkANs6SbA+GtJUV+4RSBR\n",
       "XIsDWRFni020vXj/3WNXN6ack2nZ+uUPP1/Q9GWtaNSMzK0d3kccIUkLksNwaJg26MVjkTGySvrH\n",
       "FY5ClrT3dTKNrK0k33tmJfvPKxCm+isPdhKu/F0LOgr30EQYP6mH+BuXg/kaiDuqfad0RBjjHkqK\n",
       "JXHKn9tXhIUbw7AOBGbfoILVNnQI5Vw1x70yLelfgQahtJleTWsInmKAVTFx7Sr3XguZlSUckATR\n",
       "qfAFhnRqLqh9Ne1sZb++RYZGhGXiVQRJmMgTgX18dtblhgbRfJijykfkoIisksfG1a7qOUopqd+H\n",
       "SBVXzltU4jTERuCyBuHHjuS8Brp1W2vVVtHxO5/enPvijVClxbhKyxbwLp12iH1hH+z3wfPDO+fz\n",
       "opqctQD7mA8KOFX4KIGonBhS1Gnx4mMaLgN0kF4vAFV8tUpwOShQI3+nAM8Pwhf6FY0xZBAEHAAA\n",
       "BAdtb292AAAAbG12aGQAAAAAAAAAAAAAAAAAAAPoAAAPoAABAAABAAAAAAAAAAAAAAAAAQAAAAAA\n",
       "AAAAAAAAAAAAAAEAAAAAAAAAAAAAAAAAAEAAAAAAAAAAAAAAAAAAAAAAAAAAAAAAAAAAAAAAAAAC\n",
       "AAADMXRyYWsAAABcdGtoZAAAAAMAAAAAAAAAAAAAAAEAAAAAAAAPoAAAAAAAAAAAAAAAAAAAAAAA\n",
       "AQAAAAAAAAAAAAAAAAAAAAEAAAAAAAAAAAAAAAAAAEAAAAAC0AAAAtAAAAAAACRlZHRzAAAAHGVs\n",
       "c3QAAAAAAAAAAQAAD6AAABAAAAEAAAAAAqltZGlhAAAAIG1kaGQAAAAAAAAAAAAAAAAAACgAAACg\n",
       "AFXEAAAAAAAtaGRscgAAAAAAAAAAdmlkZQAAAAAAAAAAAAAAAFZpZGVvSGFuZGxlcgAAAAJUbWlu\n",
       "ZgAAABR2bWhkAAAAAQAAAAAAAAAAAAAAJGRpbmYAAAAcZHJlZgAAAAAAAAABAAAADHVybCAAAAAB\n",
       "AAACFHN0YmwAAAC0c3RzZAAAAAAAAAABAAAApGF2YzEAAAAAAAAAAQAAAAAAAAAAAAAAAAAAAAAC\n",
       "0ALQAEgAAABIAAAAAAAAAAEAAAAAAAAAAAAAAAAAAAAAAAAAAAAAAAAAAAAAAAAAAAAY//8AAAAy\n",
       "YXZjQwFkAB//4QAZZ2QAH6zZQLQW6EAAAAMAQAAAAwKDxgxlgAEABmjr48siwAAAABx1dWlka2hA\n",
       "8l8kT8W6OaUbzwMj8wAAAAAAAAAYc3R0cwAAAAAAAAABAAAAFAAACAAAAAAUc3RzcwAAAAAAAAAB\n",
       "AAAAAQAAAJhjdHRzAAAAAAAAABEAAAACAAAQAAAAAAEAABgAAAAAAQAACAAAAAABAAAYAAAAAAEA\n",
       "AAgAAAAAAQAAGAAAAAABAAAIAAAAAAEAACAAAAAAAgAACAAAAAABAAAYAAAAAAEAAAgAAAAAAQAA\n",
       "IAAAAAACAAAIAAAAAAEAABgAAAAAAQAACAAAAAABAAAYAAAAAAEAAAgAAAAAHHN0c2MAAAAAAAAA\n",
       "AQAAAAEAAAAUAAAAAQAAAGRzdHN6AAAAAAAAAAAAAAAUAABbqwAACdgAAAgtAAAIGwAABYsAAAeT\n",
       "AAAC+wAACFAAAAiBAAAEYgAABuIAAAhBAAAGKQAAChAAAAEkAAAIVgAAAWIAAAdkAAAFeQAABaAA\n",
       "AAAUc3RjbwAAAAAAAAABAAAALAAAAGJ1ZHRhAAAAWm1ldGEAAAAAAAAAIWhkbHIAAAAAAAAAAG1k\n",
       "aXJhcHBsAAAAAAAAAAAAAAAALWlsc3QAAAAlqXRvbwAAAB1kYXRhAAAAAQAAAABMYXZmNTcuODMu\n",
       "MTAw\n",
       "\">\n",
       "  Your browser does not support the video tag.\n",
       "</video>"
      ],
      "text/plain": [
       "<IPython.core.display.HTML object>"
      ]
     },
     "execution_count": 7,
     "metadata": {},
     "output_type": "execute_result"
    }
   ],
   "source": [
    "HTML(anim.to_html5_video())"
   ]
  },
  {
   "cell_type": "markdown",
   "metadata": {
    "slideshow": {
     "slide_type": "slide"
    }
   },
   "source": [
    "# Problems\n",
    "\n",
    "* No convergence for non linearly-separable data.\n",
    "* No stability\n",
    "* The initial creators thought in terms of boolean functions, i.e. can we express\n",
    "    * AND / OR ? Yes\n",
    "    * Minsky and Papert remarked in 1969 that you cannot represent XOR with a perceptron, i.e.\n",
    "    $$\n",
    "        A \\oplus B\n",
    "    $$\n",
    "* Can't we express more complicated functions by making networks of TLU's?\n",
    "    * Yes, but how do we train them?"
   ]
  },
  {
   "cell_type": "markdown",
   "metadata": {
    "slideshow": {
     "slide_type": "slide"
    }
   },
   "source": [
    "# Stability\n",
    "* 1987 Krauth and Mezard published a paper solving the stability problem. \n",
    "* As it turns out this is essentially equivalent to Vapnik and Chervonenkis Support Vector Machine invented in 1963. \n",
    "* Cortes and Vapnik considered the soft margin in 1995. "
   ]
  },
  {
   "cell_type": "markdown",
   "metadata": {
    "slideshow": {
     "slide_type": "slide"
    }
   },
   "source": [
    "## Support vector machine\n",
    "Consider the decision boundary for the perceptron\n",
    "$$\n",
    "    w \\cdot x - b = 0.\n",
    "$$\n",
    "Introducing a margin we can actually look at\n",
    "$$\n",
    "    y_i(w \\cdot x_i - b) \\geq 1.\n",
    "$$\n",
    "\n",
    "Solve\n",
    "$$\n",
    "    \\text{min} \\|w\\|^2 \\text{ subject to } y_i (w \\cdot x_i - b) \\geq 1 \\text{ for all } i = 1,\\ldots, n.\n",
    "$$"
   ]
  },
  {
   "cell_type": "markdown",
   "metadata": {
    "slideshow": {
     "slide_type": "subslide"
    }
   },
   "source": [
    "# Soft margin relaxation\n",
    "$$\n",
    "\\left[\\frac 1 n \\sum_{i=1}^n \\max\\left(0, 1 - y_i(\\vec{w} \\cdot \\vec{x}_i - b)\\right) \\right] + \\lambda\\lVert \\vec{w} \\rVert^2\n",
    "$$"
   ]
  },
  {
   "cell_type": "code",
   "execution_count": 8,
   "metadata": {
    "slideshow": {
     "slide_type": "skip"
    }
   },
   "outputs": [],
   "source": [
    "def plot_svm():\n",
    "    import numpy as np\n",
    "    import matplotlib.pyplot as plt\n",
    "    from sklearn import svm\n",
    "    from sklearn.datasets import make_blobs\n",
    "\n",
    "    # we create 40 separable points\n",
    "    X, y = make_blobs(n_samples=40, centers=2, random_state=6)\n",
    "\n",
    "    # fit the model, don't regularize for illustration purposes\n",
    "    clf = svm.SVC(kernel='linear', C=1000)\n",
    "    clf.fit(X, y)\n",
    "    plt.figure(figsize=(10,10))\n",
    "    plt.scatter(X[:, 0], X[:, 1], c=y, s=30, cmap=plt.cm.Paired)\n",
    "\n",
    "    # plot the decision function\n",
    "    ax = plt.gca()\n",
    "    xlim = ax.get_xlim()\n",
    "    ylim = ax.get_ylim()\n",
    "\n",
    "    # create grid to evaluate model\n",
    "    xx = np.linspace(xlim[0], xlim[1], 30)\n",
    "    yy = np.linspace(ylim[0], ylim[1], 30)\n",
    "    YY, XX = np.meshgrid(yy, xx)\n",
    "    xy = np.vstack([XX.ravel(), YY.ravel()]).T\n",
    "    Z = clf.decision_function(xy).reshape(XX.shape)\n",
    "\n",
    "    # plot decision boundary and margins\n",
    "    ax.contour(XX, YY, Z, colors='k', levels=[-1, 0, 1], alpha=0.5,\n",
    "               linestyles=['--', '-', '--'])\n",
    "    # plot support vectors\n",
    "    ax.scatter(clf.support_vectors_[:, 0], clf.support_vectors_[:, 1], s=100,\n",
    "               linewidth=1, facecolors='none', edgecolors='k')\n",
    "    plt.show()"
   ]
  },
  {
   "cell_type": "code",
   "execution_count": 9,
   "metadata": {
    "slideshow": {
     "slide_type": "slide"
    }
   },
   "outputs": [
    {
     "data": {
      "image/png": "[encoded data removed]",
      "text/plain": [
       "<Figure size 720x720 with 1 Axes>"
      ]
     },
     "metadata": {
      "needs_background": "light"
     },
     "output_type": "display_data"
    }
   ],
   "source": [
    "plot_svm()"
   ]
  },
  {
   "cell_type": "markdown",
   "metadata": {
    "slideshow": {
     "slide_type": "slide"
    }
   },
   "source": [
    "# Modern neural networks\n",
    "\n",
    "* The main difference is that the heaviside function is replaced by a smooth \"activation\" function, usually the so called sigmoid\n",
    "$$\n",
    "    \\sigma(x) = \\frac{1}{1+e^{-x}}\n",
    "$$\n",
    "* An LTU where we replace the activation with $\\sigma$ is called an artificial neuron."
   ]
  },
  {
   "cell_type": "code",
   "execution_count": 10,
   "metadata": {
    "slideshow": {
     "slide_type": "skip"
    }
   },
   "outputs": [],
   "source": [
    "import numpy as np\n",
    "import matplotlib.pyplot as plt\n",
    "\n",
    "x = np.linspace(-10,10,100)\n",
    "y = 1/(1+np.exp(-x))"
   ]
  },
  {
   "cell_type": "code",
   "execution_count": 11,
   "metadata": {
    "slideshow": {
     "slide_type": "subslide"
    }
   },
   "outputs": [
    {
     "data": {
      "image/png": "[encoded data removed]",
      "text/plain": [
       "<Figure size 576x576 with 1 Axes>"
      ]
     },
     "metadata": {
      "needs_background": "light"
     },
     "output_type": "display_data"
    }
   ],
   "source": [
    "plt.figure(figsize=(8,8))\n",
    "plt.plot(x,y)\n",
    "plt.show()"
   ]
  }
 ],
 "metadata": {
  "celltoolbar": "Slideshow",
  "kernelspec": {
   "display_name": "Python 3",
   "language": "python",
   "name": "python3"
  },
  "language_info": {
   "codemirror_mode": {
    "name": "ipython",
    "version": 3
   },
   "file_extension": ".py",
   "mimetype": "text/x-python",
   "name": "python",
   "nbconvert_exporter": "python",
   "pygments_lexer": "ipython3",
   "version": "3.6.7"
  }
 },
 "nbformat": 4,
 "nbformat_minor": 2
}
